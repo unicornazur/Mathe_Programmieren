{
 "cells": [
  {
   "cell_type": "code",
   "execution_count": null,
   "id": "59363a96-dfc8-466b-b156-27ac5313bf35",
   "metadata": {},
   "outputs": [],
   "source": []
  },
  {
   "cell_type": "markdown",
   "id": "3c940405-57f1-4bc5-a029-9b193869f045",
   "metadata": {},
   "source": [
    "# 2. Gleichungssystem"
   ]
  },
  {
   "cell_type": "markdown",
   "id": "f3deab04-24fd-4fb6-ab67-daddd4dff71d",
   "metadata": {},
   "source": [
    "Lösen Sie das folgende Gleichungssystem einmal ausschließlich mit `sympy` Routinen und einmal mit `numpy`:\n",
    "$$5x+4y+3z = 2,$$\n",
    "$$2x+3y+z = 0,$$\n",
    "$$3x+3y+z = 2$$\n",
    "Geben Sie die Ergebnisse für $x, y, z$ sinnvoll strukturiert am Bildschirm aus.\n"
   ]
  },
  {
   "cell_type": "markdown",
   "id": "34ee1622-94f3-4510-8a0d-f4f28194ea7c",
   "metadata": {},
   "source": [
    "## Practice"
   ]
  },
  {
   "cell_type": "markdown",
   "id": "fb96fa2d-51da-4375-b9a0-13cf340bfbbd",
   "metadata": {},
   "source": [
    "### mit `sympy`"
   ]
  },
  {
   "cell_type": "code",
   "execution_count": 1,
   "id": "aaa14707-83d1-4b7f-b738-161412bd1525",
   "metadata": {},
   "outputs": [],
   "source": [
    "from sympy import *"
   ]
  },
  {
   "cell_type": "code",
   "execution_count": 4,
   "id": "a4b37403-c3a5-4afc-beab-e748a4dc693c",
   "metadata": {},
   "outputs": [],
   "source": [
    "x, y, z = symbols('x y z')"
   ]
  },
  {
   "cell_type": "code",
   "execution_count": 3,
   "id": "92b1a8a6-87b0-4fa8-aa41-0c0f55e68a50",
   "metadata": {},
   "outputs": [],
   "source": [
    "f = 5*x + 4*y + 3*z - 2\n",
    "g = 2*x + 3*y + z\n",
    "h = 3*x + 3*y + z - 2"
   ]
  },
  {
   "cell_type": "code",
   "execution_count": 6,
   "id": "4cc061f4-65c6-441d-91bf-cfb2d3d2abd1",
   "metadata": {},
   "outputs": [
    {
     "data": {
      "text/latex": [
       "$\\displaystyle 5 x + 4 y + 3 z - 2$"
      ],
      "text/plain": [
       "5*x + 4*y + 3*z - 2"
      ]
     },
     "execution_count": 6,
     "metadata": {},
     "output_type": "execute_result"
    }
   ],
   "source": [
    "f"
   ]
  },
  {
   "cell_type": "code",
   "execution_count": 7,
   "id": "e4ec6f3c-6919-40d6-b8d2-b91bd6dcc315",
   "metadata": {},
   "outputs": [
    {
     "data": {
      "text/latex": [
       "$\\displaystyle 2 x + 3 y + z$"
      ],
      "text/plain": [
       "2*x + 3*y + z"
      ]
     },
     "execution_count": 7,
     "metadata": {},
     "output_type": "execute_result"
    }
   ],
   "source": [
    "g"
   ]
  },
  {
   "cell_type": "code",
   "execution_count": 10,
   "id": "71f442ed-fd35-4a71-858a-93c76967a5b2",
   "metadata": {},
   "outputs": [
    {
     "data": {
      "text/latex": [
       "$\\displaystyle 3 x + 3 y + z - 2$"
      ],
      "text/plain": [
       "3*x + 3*y + z - 2"
      ]
     },
     "execution_count": 10,
     "metadata": {},
     "output_type": "execute_result"
    }
   ],
   "source": [
    "h"
   ]
  },
  {
   "cell_type": "code",
   "execution_count": 11,
   "id": "7b836cbd-4e35-48b2-b53b-aa0d2a8f3645",
   "metadata": {},
   "outputs": [
    {
     "data": {
      "text/plain": [
       "{x: 2, y: -4/5, z: -8/5}"
      ]
     },
     "execution_count": 11,
     "metadata": {},
     "output_type": "execute_result"
    }
   ],
   "source": [
    "s = solve([f,g,h],[x,y,z])\n",
    "s"
   ]
  },
  {
   "cell_type": "code",
   "execution_count": 12,
   "id": "6dc501a5-c67e-405e-8433-fee081e35135",
   "metadata": {},
   "outputs": [
    {
     "data": {
      "text/latex": [
       "$\\displaystyle - \\frac{4}{5}$"
      ],
      "text/plain": [
       "-4/5"
      ]
     },
     "execution_count": 12,
     "metadata": {},
     "output_type": "execute_result"
    }
   ],
   "source": [
    "s[y]"
   ]
  },
  {
   "cell_type": "code",
   "execution_count": 13,
   "id": "0f85b71b-0c27-4729-a202-082900978617",
   "metadata": {},
   "outputs": [
    {
     "data": {
      "text/plain": [
       "-0.8"
      ]
     },
     "execution_count": 13,
     "metadata": {},
     "output_type": "execute_result"
    }
   ],
   "source": [
    "float(s[y])"
   ]
  },
  {
   "cell_type": "code",
   "execution_count": 14,
   "id": "0c3aebaf-3ae6-427d-a891-0f442f555e6b",
   "metadata": {},
   "outputs": [
    {
     "name": "stdout",
     "output_type": "stream",
     "text": [
      "x = 2.0\n",
      "y = -0.8\n",
      "z = -1.6\n"
     ]
    }
   ],
   "source": [
    "for i,j in zip('xyz',s):\n",
    "    print(f'{i} = {float(s[j])}')"
   ]
  },
  {
   "cell_type": "markdown",
   "id": "fc5089cb-e7e9-4266-a506-9116814cf857",
   "metadata": {},
   "source": [
    "[zip 1](https://ooyoung.tistory.com/60) <br>\n",
    "[zip 2](https://chancoding.tistory.com/144)"
   ]
  },
  {
   "cell_type": "markdown",
   "id": "08b40955-758e-4b8c-94de-23b18d2d4632",
   "metadata": {
    "tags": []
   },
   "source": [
    "### mit `numpy`"
   ]
  },
  {
   "cell_type": "markdown",
   "id": "253e2106-d05b-4870-b4e9-1b638b7fca2d",
   "metadata": {},
   "source": [
    "[넘파이 연립방정식1](https://rich-developer.tistory.com/112) <br>\n",
    "[넘파이 연립방정식2](https://silver-liq9118.tistory.com/entry/Numpy-%EC%97%B0%EB%A6%BD%EB%B0%A9%EC%A0%95%EC%8B%9D)"
   ]
  },
  {
   "cell_type": "code",
   "execution_count": 15,
   "id": "625d1433-d802-4c17-b857-9a25013cef40",
   "metadata": {},
   "outputs": [],
   "source": [
    "import numpy as np"
   ]
  },
  {
   "cell_type": "code",
   "execution_count": 16,
   "id": "4422dfdc-0698-42d9-a0da-52fcd4eb62fd",
   "metadata": {},
   "outputs": [
    {
     "data": {
      "text/plain": [
       "array([[5, 4, 3],\n",
       "       [2, 3, 1],\n",
       "       [3, 3, 1]])"
      ]
     },
     "execution_count": 16,
     "metadata": {},
     "output_type": "execute_result"
    }
   ],
   "source": [
    "A = np.array([ [5,4,3],[2,3,1],[3,3,1] ] )\n",
    "A"
   ]
  },
  {
   "cell_type": "code",
   "execution_count": 17,
   "id": "155ed7d0-8602-4f21-b4dc-4cbe6dafaa84",
   "metadata": {},
   "outputs": [
    {
     "data": {
      "text/plain": [
       "array([2, 0, 2])"
      ]
     },
     "execution_count": 17,
     "metadata": {},
     "output_type": "execute_result"
    }
   ],
   "source": [
    "b = np.array([2,0,2])\n",
    "b"
   ]
  },
  {
   "cell_type": "code",
   "execution_count": 19,
   "id": "e856db63-6810-437d-8c2b-a81aeb917cd4",
   "metadata": {},
   "outputs": [
    {
     "data": {
      "text/plain": [
       "array([ 2. , -0.8, -1.6])"
      ]
     },
     "execution_count": 19,
     "metadata": {},
     "output_type": "execute_result"
    }
   ],
   "source": [
    "k = np.linalg.solve(A,b)\n",
    "k"
   ]
  },
  {
   "cell_type": "code",
   "execution_count": 20,
   "id": "92f7ecca-30e4-4888-a1d9-6b33f4ab9a94",
   "metadata": {},
   "outputs": [
    {
     "name": "stdout",
     "output_type": "stream",
     "text": [
      "x = 2.0\n",
      "y = -0.8\n",
      "z = -1.6\n"
     ]
    }
   ],
   "source": [
    "for i,j in zip('xyz',k):\n",
    "    print(f'{i} = {round(j,1)}')"
   ]
  },
  {
   "cell_type": "markdown",
   "id": "3216a753-9235-49ed-83e8-559b48c98fd1",
   "metadata": {},
   "source": [
    "[소수점반올림,올림,내림](https://dpdpwl.tistory.com/94) <br>\n",
    "[round](https://wikidocs.net/21113)"
   ]
  },
  {
   "cell_type": "markdown",
   "id": "7130e1f3-2dee-4f3a-88c1-5b4b389f208b",
   "metadata": {},
   "source": [
    "***"
   ]
  },
  {
   "cell_type": "markdown",
   "id": "7a9c9e92-c370-46bd-b109-1bdfe1fec7c3",
   "metadata": {},
   "source": [
    "## Answers"
   ]
  },
  {
   "cell_type": "code",
   "execution_count": 21,
   "id": "0e8d63e1-c985-44c4-9499-85a4db1f84bb",
   "metadata": {},
   "outputs": [
    {
     "name": "stdout",
     "output_type": "stream",
     "text": [
      "x = 2.0\n",
      "y = -0.8\n",
      "z = -1.6\n"
     ]
    }
   ],
   "source": [
    "# sympy\n",
    "\n",
    "from sympy import *\n",
    "\n",
    "x, y, z =symbols('x y z')\n",
    "\n",
    "f = 5*x + 4*y + 3*z - 2\n",
    "g = 2*x + 3*y + z\n",
    "h = 3*x + 3*y + z - 2\n",
    "\n",
    "s = solve([f,g,h],[x,y,z])\n",
    "\n",
    "for i,j in zip('xyz',s):\n",
    "    print(f'{i} = {float(s[j])}')"
   ]
  },
  {
   "cell_type": "code",
   "execution_count": 22,
   "id": "874b56c8-7011-4b01-81b4-cd650dc95b2d",
   "metadata": {},
   "outputs": [
    {
     "name": "stdout",
     "output_type": "stream",
     "text": [
      "x = 2.0\n",
      "y = -0.8\n",
      "z = -1.6\n"
     ]
    }
   ],
   "source": [
    "# numpy\n",
    "\n",
    "import numpy as np\n",
    "\n",
    "A = np.array([ [5,4,3],[2,3,1],[3,3,1] ] )\n",
    "b = np.array([2,0,2])\n",
    "k = np.linalg.solve(A,b)\n",
    "\n",
    "for i,j in zip('xyz',k):\n",
    "    print(f'{i} = {round(j,1)}')"
   ]
  },
  {
   "cell_type": "code",
   "execution_count": null,
   "id": "37b9e392-514f-430a-9951-2b10cfc77c9e",
   "metadata": {},
   "outputs": [],
   "source": []
  }
 ],
 "metadata": {
  "kernelspec": {
   "display_name": "Python 3 (ipykernel)",
   "language": "python",
   "name": "python3"
  },
  "language_info": {
   "codemirror_mode": {
    "name": "ipython",
    "version": 3
   },
   "file_extension": ".py",
   "mimetype": "text/x-python",
   "name": "python",
   "nbconvert_exporter": "python",
   "pygments_lexer": "ipython3",
   "version": "3.9.10"
  }
 },
 "nbformat": 4,
 "nbformat_minor": 5
}
