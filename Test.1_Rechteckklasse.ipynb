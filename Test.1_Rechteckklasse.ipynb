{
 "cells": [
  {
   "cell_type": "code",
   "execution_count": null,
   "id": "c17ae942-d3d1-4530-b1a5-4d9a3f537b83",
   "metadata": {},
   "outputs": [],
   "source": []
  },
  {
   "cell_type": "markdown",
   "id": "e47b99a8-1d3c-4fe6-953e-4297cacabb00",
   "metadata": {},
   "source": [
    "# 1. Rechteckklasse"
   ]
  },
  {
   "cell_type": "markdown",
   "id": "c63adc3a-37f7-45ef-887a-e0d6d7ea0a6c",
   "metadata": {},
   "source": [
    "Schreiben Sie eine Klasse fur die geometrische Figur Rechteck. Das Rechteck soll mit gultigen Seitenlängen a und b initialisiert werden. Wenn nichts ubergeben wird, sollen die Seiten auf $a = 1$ und $b = 2$ gesetzt werden. Wenn ein ungultiger Wert ubergeben wird, soll die Seite ebenfalls auf diese Länge gesetzt und eine Fehlermeldung ausgegeben werden. Analog für zwei ungültige Werte. Weiters soll der Umfang und die Fläche des Rechtecks mit je einer Methode berechnet werden. Schreiben Sie ein weitere Methode, die die Diagonale des Rechtecks berechnet und eine die überprüft, ob es sich um ein Quadrat handelt. Uberladen Sie die Methoden `print` und $<$ auf sinnvolle Weise. Zum Testen der Klasse erzeugen Sie ein Default-Rechteck und zwei andere Rechtecke mit Seitenlängen Ihrer Wahl. Geben Sie die Rechtecke in eine Liste, sortieren Sie diese und geben Sie dann jedes Rechteck, seine Diagonale und ob es sich um Quadrat handelt sinnvoll strukturiert am Bildschirm aus."
   ]
  },
  {
   "cell_type": "markdown",
   "id": "73350650-5b38-44c5-acd0-1255a63b185c",
   "metadata": {},
   "source": [
    "## Practice"
   ]
  },
  {
   "cell_type": "code",
   "execution_count": 1,
   "id": "e355405b-3803-45c3-aab3-5365860d0185",
   "metadata": {},
   "outputs": [],
   "source": [
    "from math import *\n",
    "\n",
    "class Rect:\n",
    "    def __init__(self, a = 1, b = 2):\n",
    "        if a <= 0  or b <= 0:\n",
    "            print('a und b muessen positiv sein. standard = 1')\n",
    "            self.a = 1\n",
    "            self.b = 2\n",
    "        else:\n",
    "            self.a = a\n",
    "            self.b = b\n",
    "\n",
    "    def umfang(self):\n",
    "        u = 2 * (self.a + self.b)\n",
    "        return f'Umfang mit a = {self.a}, b = {self.b} ist {u}'\n",
    "    \n",
    "    def flaeche(self):\n",
    "        fl = self.a * self.b\n",
    "        return f'Flaeche mit a = {self.a}, b = {self.b} ist {fl}'\n",
    "    \n",
    "    def diagonal(self):\n",
    "        d = sqrt(self.a**2 + self.b**2)\n",
    "        return f'Diagonal mit a = {self.a}, b = {self.b} ist {d}'\n",
    "    \n",
    "    def __str__(self):\n",
    "        return f'Rechteck mit a = {self.a} und b = {self.b}'\n",
    "    \n",
    "    def __lt__(self, other):\n",
    "        return self.umfang() < other.umfang()\n",
    "    \n",
    "    def istQuadrat(self): # 정사각형여부\n",
    "        return self.a == self.b"
   ]
  },
  {
   "cell_type": "code",
   "execution_count": 2,
   "id": "d56bfb59-65db-4262-b898-8881639965b4",
   "metadata": {},
   "outputs": [
    {
     "name": "stdout",
     "output_type": "stream",
     "text": [
      "a und b muessen positiv sein. standard = 1\n"
     ]
    }
   ],
   "source": [
    "a = Rect(0,-2)\n",
    "b = Rect(2,2)\n",
    "c = Rect(3,4)"
   ]
  },
  {
   "cell_type": "code",
   "execution_count": 3,
   "id": "ccb846b6-f8b7-44d9-a9dd-645ebb8426b9",
   "metadata": {},
   "outputs": [
    {
     "name": "stdout",
     "output_type": "stream",
     "text": [
      "Rechteck mit a = 1 und b = 2\n",
      "Rechteck mit a = 2 und b = 2\n",
      "Rechteck mit a = 3 und b = 4\n"
     ]
    }
   ],
   "source": [
    "print(a)\n",
    "print(b)\n",
    "print(c)"
   ]
  },
  {
   "cell_type": "code",
   "execution_count": 4,
   "id": "2ae1d7bf-00ac-4323-bea7-d7924607db64",
   "metadata": {},
   "outputs": [
    {
     "name": "stdout",
     "output_type": "stream",
     "text": [
      "Umfang mit a = 1, b = 2 ist 6\n",
      "Umfang mit a = 2, b = 2 ist 8\n",
      "Umfang mit a = 3, b = 4 ist 14\n"
     ]
    }
   ],
   "source": [
    "print(a.umfang())\n",
    "print(b.umfang())\n",
    "print(c.umfang())"
   ]
  },
  {
   "cell_type": "code",
   "execution_count": 5,
   "id": "98f67c91-f5e7-4c42-a601-0cbaa4b8be80",
   "metadata": {},
   "outputs": [
    {
     "name": "stdout",
     "output_type": "stream",
     "text": [
      "Flaeche mit a = 1, b = 2 ist 2\n",
      "Flaeche mit a = 2, b = 2 ist 4\n",
      "Flaeche mit a = 3, b = 4 ist 12\n"
     ]
    }
   ],
   "source": [
    "print(a.flaeche())\n",
    "print(b.flaeche())\n",
    "print(c.flaeche())"
   ]
  },
  {
   "cell_type": "code",
   "execution_count": 6,
   "id": "3b72e2ad-ad6c-46d7-b583-4ca3ae775450",
   "metadata": {},
   "outputs": [
    {
     "name": "stdout",
     "output_type": "stream",
     "text": [
      "True\n"
     ]
    }
   ],
   "source": [
    "print(a<b)"
   ]
  },
  {
   "cell_type": "code",
   "execution_count": 7,
   "id": "e43f7666-c15a-4dc3-a366-77356c001f9d",
   "metadata": {},
   "outputs": [
    {
     "name": "stdout",
     "output_type": "stream",
     "text": [
      "False\n",
      "True\n",
      "False\n"
     ]
    }
   ],
   "source": [
    "print(a.istQuadrat())\n",
    "print(b.istQuadrat())\n",
    "print(c.istQuadrat())"
   ]
  },
  {
   "cell_type": "markdown",
   "id": "44156b1a-1284-451a-bc54-5a3fba546190",
   "metadata": {},
   "source": [
    "***"
   ]
  },
  {
   "cell_type": "markdown",
   "id": "16064317-1515-45e4-9f9c-c49977c821fb",
   "metadata": {},
   "source": [
    "## Answers"
   ]
  },
  {
   "cell_type": "code",
   "execution_count": 8,
   "id": "beba6ed9-b999-4907-882c-8cc53954cf78",
   "metadata": {},
   "outputs": [],
   "source": [
    "class Recht:\n",
    "    def __init__(self, a = 1, b = 2):\n",
    "        if a <= 0 or b <= 0 :\n",
    "            print(f'a und b muessen positiv sein. sonst a =1, b=2')\n",
    "            self.a =1\n",
    "            self.b =2\n",
    "        else:\n",
    "            self.a = a\n",
    "            self.b = b\n",
    "      \n",
    "    def umfang(self):\n",
    "        u = 2*(self.a + self.b)\n",
    "        return u\n",
    "    def flaeche(self):\n",
    "        fl = self.a * self.b\n",
    "        return fl\n",
    "    \n",
    "    def diag(self):\n",
    "        d = (self.a**2 + self.b**2)**0.5\n",
    "        return d\n",
    "    def ist_Quadrat(self):\n",
    "        return self.a == self.b\n",
    "    \n",
    "    def __str__(self):\n",
    "        return f'Rechteck mit a = {self.a}, b = {self.b}'\n",
    "    def __lt__(self, other):\n",
    "        return self.umfang() < other.umfang()\n",
    "        "
   ]
  },
  {
   "cell_type": "code",
   "execution_count": 9,
   "id": "398bf843-26a7-47aa-8be1-d3eaa4c34025",
   "metadata": {},
   "outputs": [
    {
     "name": "stdout",
     "output_type": "stream",
     "text": [
      "a und b muessen positiv sein. sonst a =1, b=2\n"
     ]
    }
   ],
   "source": [
    "r = Recht(0,0)"
   ]
  },
  {
   "cell_type": "code",
   "execution_count": 10,
   "id": "ca2708e2-a7d5-41a1-a821-e26a54f12540",
   "metadata": {},
   "outputs": [
    {
     "name": "stdout",
     "output_type": "stream",
     "text": [
      "a und b muessen positiv sein. sonst a =1, b=2\n",
      "Rechteck mit a = 1, b = 2 \n",
      " diagonal = 2.23606797749979 \n",
      " Quadrat :False\n",
      "Rechteck mit a = 2, b = 2 \n",
      " diagonal = 2.8284271247461903 \n",
      " Quadrat :True\n",
      "Rechteck mit a = 3, b = 4 \n",
      " diagonal = 5.0 \n",
      " Quadrat :False\n"
     ]
    }
   ],
   "source": [
    "r1 = Recht(2,2)\n",
    "r2 = Recht(0,-1)\n",
    "r3 = Recht(3,4)\n",
    "\n",
    "li = [r1,r2,r3]\n",
    "li.sort()    ###########\n",
    "\n",
    "########\n",
    "for rech in li:\n",
    "    print(rech, f'\\n diagonal = {rech.diag()} \\n Quadrat :{rech.ist_Quadrat()}')\n",
    "    "
   ]
  },
  {
   "cell_type": "code",
   "execution_count": null,
   "id": "d58e837b-fe6e-4303-a751-058e90af1422",
   "metadata": {},
   "outputs": [],
   "source": []
  },
  {
   "cell_type": "code",
   "execution_count": null,
   "id": "b179835a-a1bc-4024-addf-c9133a4bc78d",
   "metadata": {},
   "outputs": [],
   "source": []
  }
 ],
 "metadata": {
  "kernelspec": {
   "display_name": "Python 3 (ipykernel)",
   "language": "python",
   "name": "python3"
  },
  "language_info": {
   "codemirror_mode": {
    "name": "ipython",
    "version": 3
   },
   "file_extension": ".py",
   "mimetype": "text/x-python",
   "name": "python",
   "nbconvert_exporter": "python",
   "pygments_lexer": "ipython3",
   "version": "3.9.10"
  }
 },
 "nbformat": 4,
 "nbformat_minor": 5
}
