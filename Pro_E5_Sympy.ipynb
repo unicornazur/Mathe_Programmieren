{
 "cells": [
  {
   "cell_type": "code",
   "execution_count": null,
   "id": "70061a3a-7ba0-4b3e-bd5c-ed679592e861",
   "metadata": {},
   "outputs": [],
   "source": []
  },
  {
   "cell_type": "code",
   "execution_count": null,
   "id": "0df55739-6aca-4501-ae5d-f01a9a3f92fe",
   "metadata": {},
   "outputs": [],
   "source": []
  },
  {
   "cell_type": "markdown",
   "id": "7f33fc4c-dc0e-4c12-90ea-924c9d34fa6f",
   "metadata": {},
   "source": [
    "### 1"
   ]
  },
  {
   "cell_type": "markdown",
   "id": "f415bfe1-719e-4860-814b-851832067c20",
   "metadata": {},
   "source": [
    "Seien zwei Funktionen gegeben durch\n",
    "$$f(x,y)=x^{3}+3x^{2}y−x^{2}+3xy^{2}−2xy+y^{3}−y^{2}$$\n",
    "$$g(x,y)=x^{2}+y^{2}$$\n",
    "\n",
    "mit $x,y∈C$. Geben Sie zuerst $f$ vereinfacht (faktorisiert) aus. \n",
    "Lösen Sie dann das Gleichungssystem $f(x,y)=0, g(x,y)=0$ und geben Sie die Lösungsmenge aus. \n",
    "Stellen Sie weiters die zweiten partiellen Ableitungen in der *Hesse-Matrix* von $f$ dar und geben Sie diese aus. \n",
    "Eine *Hesse-Matrix* $H$ ist gegeben durch\n",
    "\n",
    "$$ H = \\begin{pmatrix} f_{xx} & f_{xy} \\\\ f_{yx} & f_{yy} \\end{pmatrix}$$\n",
    "\n",
    "wobei $f_{xx}$ einfach bedeutet, dass die Ableitung von $f$ nach $x$ nochmals nach $x$ abgeleitet wird (also die 2. Ableitung nach $x$ gebildet wird), $f_{xy}$ dass die 1.Ableitung von $f$ nach $x$ danach nach $y$ abgeleitet wird, etc. "
   ]
  },
  {
   "cell_type": "code",
   "execution_count": 1,
   "id": "fa519e70-7062-4e6d-a044-00c07099c390",
   "metadata": {},
   "outputs": [],
   "source": [
    "from sympy import *"
   ]
  },
  {
   "cell_type": "code",
   "execution_count": 2,
   "id": "1e6cfb01-222c-45e4-bd02-0ab991eae4cc",
   "metadata": {},
   "outputs": [],
   "source": [
    "x,y = symbols('x y')\n",
    "f = x**3 + 3*x**2*y - x**2 + 3*x*y**2 - 2*x*y + y**3 - y**2\n",
    "g = x**2 + y**2"
   ]
  },
  {
   "cell_type": "code",
   "execution_count": 3,
   "id": "03287637-0618-4ff3-ad8c-01ddc5352220",
   "metadata": {},
   "outputs": [
    {
     "data": {
      "text/latex": [
       "$\\displaystyle x^{3} + 3 x^{2} y - x^{2} + 3 x y^{2} - 2 x y + y^{3} - y^{2}$"
      ],
      "text/plain": [
       "x**3 + 3*x**2*y - x**2 + 3*x*y**2 - 2*x*y + y**3 - y**2"
      ]
     },
     "execution_count": 3,
     "metadata": {},
     "output_type": "execute_result"
    }
   ],
   "source": [
    "f"
   ]
  },
  {
   "cell_type": "code",
   "execution_count": 4,
   "id": "fa9dbfda-f9e6-45d8-883f-20d855ca0d6b",
   "metadata": {},
   "outputs": [
    {
     "data": {
      "text/latex": [
       "$\\displaystyle x^{2} + y^{2}$"
      ],
      "text/plain": [
       "x**2 + y**2"
      ]
     },
     "execution_count": 4,
     "metadata": {},
     "output_type": "execute_result"
    }
   ],
   "source": [
    "g"
   ]
  },
  {
   "cell_type": "code",
   "execution_count": 5,
   "id": "3b94981a-043e-413a-b373-fe4e5bb0ba1a",
   "metadata": {},
   "outputs": [
    {
     "data": {
      "text/latex": [
       "$\\displaystyle \\left(x + y\\right)^{2} \\left(x + y - 1\\right)$"
      ],
      "text/plain": [
       "(x + y)**2*(x + y - 1)"
      ]
     },
     "execution_count": 5,
     "metadata": {},
     "output_type": "execute_result"
    }
   ],
   "source": [
    "f.factor()"
   ]
  },
  {
   "cell_type": "code",
   "execution_count": 6,
   "id": "da50224b-bdc1-4653-a8f2-01ccd5037f4d",
   "metadata": {},
   "outputs": [
    {
     "data": {
      "text/plain": [
       "[{x: -y}, {x: 1 - y}]"
      ]
     },
     "execution_count": 6,
     "metadata": {},
     "output_type": "execute_result"
    }
   ],
   "source": [
    "solve(f)"
   ]
  },
  {
   "cell_type": "code",
   "execution_count": 9,
   "id": "5af77e9a-317a-461d-a77c-8662883f54f4",
   "metadata": {},
   "outputs": [
    {
     "data": {
      "text/plain": [
       "[(0, 0), (1/2 - I/2, 1/2 + I/2), (1/2 + I/2, 1/2 - I/2)]"
      ]
     },
     "execution_count": 9,
     "metadata": {},
     "output_type": "execute_result"
    }
   ],
   "source": [
    "solve([x**3 + 3*x**2*y - x**2 + 3*x*y**2 - 2*x*y + y**3 - y**2, x**2 + y**2],[x,y])"
   ]
  },
  {
   "cell_type": "code",
   "execution_count": 8,
   "id": "9280dfce-1c3d-44e0-b800-7c21efa6c22e",
   "metadata": {},
   "outputs": [
    {
     "data": {
      "text/plain": [
       "[(0, 0), (1/2 - I/2, 1/2 + I/2), (1/2 + I/2, 1/2 - I/2)]"
      ]
     },
     "execution_count": 8,
     "metadata": {},
     "output_type": "execute_result"
    }
   ],
   "source": [
    "solve([f,g],[x,y])"
   ]
  },
  {
   "cell_type": "code",
   "execution_count": null,
   "id": "cbc99301-6bb6-41a4-ae50-e25ca930b430",
   "metadata": {},
   "outputs": [],
   "source": []
  },
  {
   "cell_type": "code",
   "execution_count": null,
   "id": "756d8388-48c3-4621-93b5-2e94d16d1f68",
   "metadata": {},
   "outputs": [],
   "source": []
  },
  {
   "cell_type": "code",
   "execution_count": 8,
   "id": "d322b719-4df5-49d4-b5b0-1df1d9d24285",
   "metadata": {},
   "outputs": [
    {
     "data": {
      "text/latex": [
       "$\\displaystyle x^{3} + 3 x^{2} y - x^{2} + 3 x y^{2} - 2 x y + y^{3} - y^{2}$"
      ],
      "text/plain": [
       "x**3 + 3*x**2*y - x**2 + 3*x*y**2 - 2*x*y + y**3 - y**2"
      ]
     },
     "execution_count": 8,
     "metadata": {},
     "output_type": "execute_result"
    }
   ],
   "source": [
    "f"
   ]
  },
  {
   "cell_type": "code",
   "execution_count": 9,
   "id": "796fb356-2d59-4f45-9cb5-616d22aa3c9a",
   "metadata": {},
   "outputs": [
    {
     "data": {
      "text/latex": [
       "$\\displaystyle 2 \\left(3 x + 3 y - 1\\right)$"
      ],
      "text/plain": [
       "2*(3*x + 3*y - 1)"
      ]
     },
     "execution_count": 9,
     "metadata": {},
     "output_type": "execute_result"
    }
   ],
   "source": [
    "fxx = diff(f,x,2)\n",
    "fxx"
   ]
  },
  {
   "cell_type": "code",
   "execution_count": 10,
   "id": "37a436aa-662a-4da9-9dfc-fab480a299ba",
   "metadata": {},
   "outputs": [
    {
     "data": {
      "text/latex": [
       "$\\displaystyle 2 \\left(3 x + 3 y - 1\\right)$"
      ],
      "text/plain": [
       "2*(3*x + 3*y - 1)"
      ]
     },
     "execution_count": 10,
     "metadata": {},
     "output_type": "execute_result"
    }
   ],
   "source": [
    "fxy = diff(f,x,y)\n",
    "fxy"
   ]
  },
  {
   "cell_type": "code",
   "execution_count": 11,
   "id": "b9cb4caf-7fe2-449d-8a65-5bc4443e953d",
   "metadata": {},
   "outputs": [
    {
     "data": {
      "text/latex": [
       "$\\displaystyle 2 \\left(3 x + 3 y - 1\\right)$"
      ],
      "text/plain": [
       "2*(3*x + 3*y - 1)"
      ]
     },
     "execution_count": 11,
     "metadata": {},
     "output_type": "execute_result"
    }
   ],
   "source": [
    "fyx = diff(f,y,x)\n",
    "fyx"
   ]
  },
  {
   "cell_type": "code",
   "execution_count": 12,
   "id": "1b22bf2c-c010-4b9c-9853-55c7c402c55d",
   "metadata": {},
   "outputs": [
    {
     "data": {
      "text/latex": [
       "$\\displaystyle 2 \\left(3 x + 3 y - 1\\right)$"
      ],
      "text/plain": [
       "2*(3*x + 3*y - 1)"
      ]
     },
     "execution_count": 12,
     "metadata": {},
     "output_type": "execute_result"
    }
   ],
   "source": [
    "fyy = diff(f,y,2)\n",
    "fyy"
   ]
  },
  {
   "cell_type": "code",
   "execution_count": 13,
   "id": "32b95a73-4720-48bc-995a-b711d0f08c57",
   "metadata": {},
   "outputs": [
    {
     "data": {
      "text/latex": [
       "$\\displaystyle \\left[\\begin{matrix}2 \\left(3 x + 3 y - 1\\right) & 2 \\left(3 x + 3 y - 1\\right)\\\\2 \\left(3 x + 3 y - 1\\right) & 2 \\left(3 x + 3 y - 1\\right)\\end{matrix}\\right]$"
      ],
      "text/plain": [
       "Matrix([\n",
       "[2*(3*x + 3*y - 1), 2*(3*x + 3*y - 1)],\n",
       "[2*(3*x + 3*y - 1), 2*(3*x + 3*y - 1)]])"
      ]
     },
     "execution_count": 13,
     "metadata": {},
     "output_type": "execute_result"
    }
   ],
   "source": [
    "H = Matrix([ [fxx,fxy],[fyx,fyy] ])\n",
    "H"
   ]
  },
  {
   "cell_type": "code",
   "execution_count": 14,
   "id": "2f239d58-80a8-44e2-8b69-302427c9c5a4",
   "metadata": {},
   "outputs": [],
   "source": [
    "from IPython.display import display, Math, Latex"
   ]
  },
  {
   "cell_type": "code",
   "execution_count": 16,
   "id": "31e68a3b-9959-4416-a3c0-1fec370197f4",
   "metadata": {},
   "outputs": [
    {
     "data": {
      "text/latex": [
       "$ H = \\begin{pmatrix} \n",
       "    {2*(3*x + 3*y - 1)} & {2*(3*x + 3*y - 1)} \\\\\n",
       "    {2*(3*x + 3*y - 1)} & {2*(3*x + 3*y - 1)}\n",
       "    \\end{pmatrix}$"
      ],
      "text/plain": [
       "<IPython.core.display.Latex object>"
      ]
     },
     "metadata": {},
     "output_type": "display_data"
    }
   ],
   "source": [
    "display(Latex(\n",
    "    r'''$ H = \\begin{pmatrix} \n",
    "    {%s} & {%s} \\\\\n",
    "    {%s} & {%s}\n",
    "    \\end{pmatrix}$''' % (H[0,0], fxy, fyx, fyy) )\n",
    "       )"
   ]
  },
  {
   "cell_type": "code",
   "execution_count": 17,
   "id": "b313d9ec-d8cc-4c30-8526-7c3f452d0f6b",
   "metadata": {},
   "outputs": [],
   "source": [
    "# 위에꺼 이쁘게 안되남????????????????????"
   ]
  },
  {
   "cell_type": "code",
   "execution_count": null,
   "id": "61e88f30-41c6-4e6b-b914-15f1034bb494",
   "metadata": {},
   "outputs": [],
   "source": []
  },
  {
   "cell_type": "markdown",
   "id": "31139c7f-a5b9-4324-8147-01f4dfc296b5",
   "metadata": {},
   "source": [
    "### 2-a)\n",
    "Eine $n×n$ tridiagonale **Toeplitz-Matrix** hat die Form\n",
    "$$ M = \\begin{pmatrix}\n",
    "a & c & 0 & \\cdots & 0 \\\\\n",
    "b & a & c & \\ddots & \\vdots \\\\\n",
    "0 & b & \\ddots & \\ddots & 0 \\\\\n",
    "\\vdots & \\ddots & \\ddots & \\ddots & c \\\\\n",
    "0 & \\cdots & 0 & b & a\n",
    "\\end{pmatrix} $$\n"
   ]
  },
  {
   "cell_type": "markdown",
   "id": "5e01fc29-4864-4b93-8c24-a33ae702e6c9",
   "metadata": {},
   "source": [
    "Schreiben Sie eine Funktion, die eine solche $n×n$ Matrix für eine beliebige Größe $n$ und Variablen $a,b,c$ zurückgibt."
   ]
  },
  {
   "cell_type": "code",
   "execution_count": 3,
   "id": "08cf5277-635f-42cf-a446-4b93e580581b",
   "metadata": {},
   "outputs": [],
   "source": [
    "import numpy as np\n",
    "from sympy import *\n",
    "\n",
    "a,b,c = symbols('a b c')\n",
    "\n",
    "def tm(n):\n",
    "    m = [ [a,c] + [0]*(n-2) ]\n",
    "    \n",
    "    for i in range(n-2):\n",
    "        m1= [0]*i + [b,a,c] +[0]*(n-i-3)\n",
    "        m.append(m1)\n",
    "        \n",
    "    m2 = [0]*(n-2) +[b,a]\n",
    "    m.append(m2)\n",
    "        \n",
    "    return Matrix(m)"
   ]
  },
  {
   "cell_type": "code",
   "execution_count": 19,
   "id": "6b29ed4b-c05e-4839-bbe3-328bbf5c5273",
   "metadata": {},
   "outputs": [
    {
     "data": {
      "text/latex": [
       "$\\displaystyle \\left[\\begin{matrix}a & c & 0 & 0 & 0\\\\b & a & c & 0 & 0\\\\0 & b & a & c & 0\\\\0 & 0 & b & a & c\\\\0 & 0 & 0 & b & a\\end{matrix}\\right]$"
      ],
      "text/plain": [
       "Matrix([\n",
       "[a, c, 0, 0, 0],\n",
       "[b, a, c, 0, 0],\n",
       "[0, b, a, c, 0],\n",
       "[0, 0, b, a, c],\n",
       "[0, 0, 0, b, a]])"
      ]
     },
     "execution_count": 19,
     "metadata": {},
     "output_type": "execute_result"
    }
   ],
   "source": [
    "tm(5)"
   ]
  },
  {
   "cell_type": "code",
   "execution_count": 20,
   "id": "c6c16dbf-f631-4720-bdbd-9f1852c8fdd6",
   "metadata": {},
   "outputs": [
    {
     "data": {
      "text/latex": [
       "$\\displaystyle \\left[\\begin{matrix}a & c & 0 & 0 & 0 & 0 & 0\\\\b & a & c & 0 & 0 & 0 & 0\\\\0 & b & a & c & 0 & 0 & 0\\\\0 & 0 & b & a & c & 0 & 0\\\\0 & 0 & 0 & b & a & c & 0\\\\0 & 0 & 0 & 0 & b & a & c\\\\0 & 0 & 0 & 0 & 0 & b & a\\end{matrix}\\right]$"
      ],
      "text/plain": [
       "Matrix([\n",
       "[a, c, 0, 0, 0, 0, 0],\n",
       "[b, a, c, 0, 0, 0, 0],\n",
       "[0, b, a, c, 0, 0, 0],\n",
       "[0, 0, b, a, c, 0, 0],\n",
       "[0, 0, 0, b, a, c, 0],\n",
       "[0, 0, 0, 0, b, a, c],\n",
       "[0, 0, 0, 0, 0, b, a]])"
      ]
     },
     "execution_count": 20,
     "metadata": {},
     "output_type": "execute_result"
    }
   ],
   "source": [
    "tm(7)"
   ]
  },
  {
   "cell_type": "code",
   "execution_count": null,
   "id": "8e7500a4-d0ec-42f3-b9fe-8b5b991270b3",
   "metadata": {},
   "outputs": [],
   "source": []
  },
  {
   "cell_type": "markdown",
   "id": "db3c14cf-b285-41a5-aa3c-7a20c059836e",
   "metadata": {},
   "source": [
    "Geben Sie die Matrix für verschiedene $n$ aus und vergleichen Sie die Standardausgabe mit jener Ausgabe, die Sie erhalten, wenn Sie `display()` aus dem Modul `IPython.display` verwenden. "
   ]
  },
  {
   "cell_type": "code",
   "execution_count": 21,
   "id": "3944e904-4d68-470d-805f-7e9615edcb70",
   "metadata": {},
   "outputs": [
    {
     "name": "stdout",
     "output_type": "stream",
     "text": [
      "Toeplitz-Matrix mit n=3\n",
      "Matrix([[a, c, 0], [b, a, c], [0, b, a]])\n"
     ]
    },
    {
     "data": {
      "text/latex": [
       "$\\displaystyle \\left[\\begin{matrix}a & c & 0\\\\b & a & c\\\\0 & b & a\\end{matrix}\\right]$"
      ],
      "text/plain": [
       "Matrix([\n",
       "[a, c, 0],\n",
       "[b, a, c],\n",
       "[0, b, a]])"
      ]
     },
     "metadata": {},
     "output_type": "display_data"
    },
    {
     "name": "stdout",
     "output_type": "stream",
     "text": [
      "--------------------------\n",
      "Toeplitz-Matrix mit n=4\n",
      "Matrix([[a, c, 0, 0], [b, a, c, 0], [0, b, a, c], [0, 0, b, a]])\n"
     ]
    },
    {
     "data": {
      "text/latex": [
       "$\\displaystyle \\left[\\begin{matrix}a & c & 0 & 0\\\\b & a & c & 0\\\\0 & b & a & c\\\\0 & 0 & b & a\\end{matrix}\\right]$"
      ],
      "text/plain": [
       "Matrix([\n",
       "[a, c, 0, 0],\n",
       "[b, a, c, 0],\n",
       "[0, b, a, c],\n",
       "[0, 0, b, a]])"
      ]
     },
     "metadata": {},
     "output_type": "display_data"
    },
    {
     "name": "stdout",
     "output_type": "stream",
     "text": [
      "--------------------------\n",
      "Toeplitz-Matrix mit n=5\n",
      "Matrix([[a, c, 0, 0, 0], [b, a, c, 0, 0], [0, b, a, c, 0], [0, 0, b, a, c], [0, 0, 0, b, a]])\n"
     ]
    },
    {
     "data": {
      "text/latex": [
       "$\\displaystyle \\left[\\begin{matrix}a & c & 0 & 0 & 0\\\\b & a & c & 0 & 0\\\\0 & b & a & c & 0\\\\0 & 0 & b & a & c\\\\0 & 0 & 0 & b & a\\end{matrix}\\right]$"
      ],
      "text/plain": [
       "Matrix([\n",
       "[a, c, 0, 0, 0],\n",
       "[b, a, c, 0, 0],\n",
       "[0, b, a, c, 0],\n",
       "[0, 0, b, a, c],\n",
       "[0, 0, 0, b, a]])"
      ]
     },
     "metadata": {},
     "output_type": "display_data"
    },
    {
     "name": "stdout",
     "output_type": "stream",
     "text": [
      "--------------------------\n",
      "Toeplitz-Matrix mit n=6\n",
      "Matrix([[a, c, 0, 0, 0, 0], [b, a, c, 0, 0, 0], [0, b, a, c, 0, 0], [0, 0, b, a, c, 0], [0, 0, 0, b, a, c], [0, 0, 0, 0, b, a]])\n"
     ]
    },
    {
     "data": {
      "text/latex": [
       "$\\displaystyle \\left[\\begin{matrix}a & c & 0 & 0 & 0 & 0\\\\b & a & c & 0 & 0 & 0\\\\0 & b & a & c & 0 & 0\\\\0 & 0 & b & a & c & 0\\\\0 & 0 & 0 & b & a & c\\\\0 & 0 & 0 & 0 & b & a\\end{matrix}\\right]$"
      ],
      "text/plain": [
       "Matrix([\n",
       "[a, c, 0, 0, 0, 0],\n",
       "[b, a, c, 0, 0, 0],\n",
       "[0, b, a, c, 0, 0],\n",
       "[0, 0, b, a, c, 0],\n",
       "[0, 0, 0, b, a, c],\n",
       "[0, 0, 0, 0, b, a]])"
      ]
     },
     "metadata": {},
     "output_type": "display_data"
    },
    {
     "name": "stdout",
     "output_type": "stream",
     "text": [
      "--------------------------\n"
     ]
    }
   ],
   "source": [
    "from IPython.display import display\n",
    "\n",
    "for n in range(3,7):\n",
    "    print(f'Toeplitz-Matrix mit n={n}')\n",
    "    print(tm(n))\n",
    "    display(tm(n))\n",
    "    print('--------------------------')"
   ]
  },
  {
   "cell_type": "markdown",
   "id": "0b7b89ce-76c9-4f19-aa15-32164f2651e2",
   "metadata": {},
   "source": [
    "### 2-b)\n",
    "Berechnen Sie $M∗M^{T}$ und $M^{T}∗M$ und stellen Sie fest, welche Bedingung erfüllt werden muss, sodass die Ergebnisse gleich sind. "
   ]
  },
  {
   "cell_type": "code",
   "execution_count": 12,
   "id": "1c434fb6-929c-41ec-8a21-0e429544a5e6",
   "metadata": {},
   "outputs": [
    {
     "name": "stdout",
     "output_type": "stream",
     "text": [
      "n=3\n"
     ]
    },
    {
     "data": {
      "text/latex": [
       "$\\displaystyle \\left[\\begin{matrix}a^{2} + c^{2} & a b + a c & b c\\\\a b + a c & a^{2} + b^{2} + c^{2} & a b + a c\\\\b c & a b + a c & a^{2} + b^{2}\\end{matrix}\\right]$"
      ],
      "text/plain": [
       "Matrix([\n",
       "[a**2 + c**2,          a*b + a*c,         b*c],\n",
       "[  a*b + a*c, a**2 + b**2 + c**2,   a*b + a*c],\n",
       "[        b*c,          a*b + a*c, a**2 + b**2]])"
      ]
     },
     "metadata": {},
     "output_type": "display_data"
    },
    {
     "data": {
      "text/latex": [
       "$\\displaystyle \\left[\\begin{matrix}a^{2} + b^{2} & a b + a c & b c\\\\a b + a c & a^{2} + b^{2} + c^{2} & a b + a c\\\\b c & a b + a c & a^{2} + c^{2}\\end{matrix}\\right]$"
      ],
      "text/plain": [
       "Matrix([\n",
       "[a**2 + b**2,          a*b + a*c,         b*c],\n",
       "[  a*b + a*c, a**2 + b**2 + c**2,   a*b + a*c],\n",
       "[        b*c,          a*b + a*c, a**2 + c**2]])"
      ]
     },
     "metadata": {},
     "output_type": "display_data"
    },
    {
     "name": "stdout",
     "output_type": "stream",
     "text": [
      "n=4\n"
     ]
    },
    {
     "data": {
      "text/latex": [
       "$\\displaystyle \\left[\\begin{matrix}a^{2} + c^{2} & a b + a c & b c & 0\\\\a b + a c & a^{2} + b^{2} + c^{2} & a b + a c & b c\\\\b c & a b + a c & a^{2} + b^{2} + c^{2} & a b + a c\\\\0 & b c & a b + a c & a^{2} + b^{2}\\end{matrix}\\right]$"
      ],
      "text/plain": [
       "Matrix([\n",
       "[a**2 + c**2,          a*b + a*c,                b*c,           0],\n",
       "[  a*b + a*c, a**2 + b**2 + c**2,          a*b + a*c,         b*c],\n",
       "[        b*c,          a*b + a*c, a**2 + b**2 + c**2,   a*b + a*c],\n",
       "[          0,                b*c,          a*b + a*c, a**2 + b**2]])"
      ]
     },
     "metadata": {},
     "output_type": "display_data"
    },
    {
     "data": {
      "text/latex": [
       "$\\displaystyle \\left[\\begin{matrix}a^{2} + b^{2} & a b + a c & b c & 0\\\\a b + a c & a^{2} + b^{2} + c^{2} & a b + a c & b c\\\\b c & a b + a c & a^{2} + b^{2} + c^{2} & a b + a c\\\\0 & b c & a b + a c & a^{2} + c^{2}\\end{matrix}\\right]$"
      ],
      "text/plain": [
       "Matrix([\n",
       "[a**2 + b**2,          a*b + a*c,                b*c,           0],\n",
       "[  a*b + a*c, a**2 + b**2 + c**2,          a*b + a*c,         b*c],\n",
       "[        b*c,          a*b + a*c, a**2 + b**2 + c**2,   a*b + a*c],\n",
       "[          0,                b*c,          a*b + a*c, a**2 + c**2]])"
      ]
     },
     "metadata": {},
     "output_type": "display_data"
    }
   ],
   "source": [
    "for n in(3,4):\n",
    "    M = tm(n)\n",
    "    Mt = M.T\n",
    "\n",
    "    print(f'n={n}')\n",
    "    display(M*Mt,Mt*M)"
   ]
  },
  {
   "cell_type": "markdown",
   "id": "99126bb6-4a4a-45c4-9c75-fb236f7dd0fb",
   "metadata": {},
   "source": [
    "##### Bedingung : b^2 = c^2 <br> Also...b =-c oder b = +c"
   ]
  },
  {
   "cell_type": "code",
   "execution_count": 13,
   "id": "c777993e-2a19-4e06-a667-0a8cedbe4d3e",
   "metadata": {},
   "outputs": [
    {
     "data": {
      "text/plain": [
       "False"
      ]
     },
     "execution_count": 13,
     "metadata": {},
     "output_type": "execute_result"
    }
   ],
   "source": [
    "M*Mt == Mt*M"
   ]
  },
  {
   "cell_type": "code",
   "execution_count": 14,
   "id": "d77cb1d3-4275-4ff6-b9d9-e3f75ef0f9a1",
   "metadata": {},
   "outputs": [
    {
     "data": {
      "text/latex": [
       "$\\displaystyle \\left[\\begin{matrix}- b^{2} + c^{2} & 0 & 0 & 0\\\\0 & 0 & 0 & 0\\\\0 & 0 & 0 & 0\\\\0 & 0 & 0 & b^{2} - c^{2}\\end{matrix}\\right]$"
      ],
      "text/plain": [
       "Matrix([\n",
       "[-b**2 + c**2, 0, 0,           0],\n",
       "[           0, 0, 0,           0],\n",
       "[           0, 0, 0,           0],\n",
       "[           0, 0, 0, b**2 - c**2]])"
      ]
     },
     "execution_count": 14,
     "metadata": {},
     "output_type": "execute_result"
    }
   ],
   "source": [
    "M*Mt - Mt*M"
   ]
  },
  {
   "cell_type": "code",
   "execution_count": null,
   "id": "695f0787-eb29-4529-b21e-63521f7fb82b",
   "metadata": {},
   "outputs": [],
   "source": []
  },
  {
   "cell_type": "code",
   "execution_count": null,
   "id": "3b7b0067-a441-463d-ae4c-9645fbe7919c",
   "metadata": {},
   "outputs": [],
   "source": []
  },
  {
   "cell_type": "markdown",
   "id": "0bb07621-f1a6-4af9-a319-f17dab96bbd8",
   "metadata": {},
   "source": [
    " Geben Sie dann eine tridiagonale *Toeplitz-Matrix* der Größe $n=5$ mit Zahlenwerten aus, indem Sie eine allgemeine *Toeplitz-Matrix* erstellen und konkrete Werte für die Symbole übergeben: \n",
    "$a,b,c$ sollen hier auf zwei Nachkommastellen gerundete Zufallszahlen aus $[−1,1]$ sein. "
   ]
  },
  {
   "cell_type": "code",
   "execution_count": 5,
   "id": "c77683bb-cd6c-4525-9998-19ea5f41ac38",
   "metadata": {},
   "outputs": [
    {
     "name": "stdout",
     "output_type": "stream",
     "text": [
      "[-0.42, 0.45, -0.92]\n"
     ]
    }
   ],
   "source": [
    "import random\n",
    " \n",
    "number = []\n",
    " \n",
    "while len(number)<3:\n",
    "    num = round(random.uniform(-1,1),2)\n",
    "    if num not in number:  # 새로운 수가 중복이 아니면, \n",
    "        number.append(num)\n",
    "print(number)"
   ]
  },
  {
   "cell_type": "code",
   "execution_count": 9,
   "id": "32ca8259-2d53-4236-9a4f-88c37079bf45",
   "metadata": {},
   "outputs": [
    {
     "data": {
      "text/latex": [
       "$\\displaystyle \\left[\\begin{matrix}-0.42 & -0.92 & 0 & 0 & 0\\\\0.45 & -0.42 & -0.92 & 0 & 0\\\\0 & 0.45 & -0.42 & -0.92 & 0\\\\0 & 0 & 0.45 & -0.42 & -0.92\\\\0 & 0 & 0 & 0.45 & -0.42\\end{matrix}\\right]$"
      ],
      "text/plain": [
       "Matrix([\n",
       "[-0.42, -0.92,     0,     0,     0],\n",
       "[ 0.45, -0.42, -0.92,     0,     0],\n",
       "[    0,  0.45, -0.42, -0.92,     0],\n",
       "[    0,     0,  0.45, -0.42, -0.92],\n",
       "[    0,     0,     0,  0.45, -0.42]])"
      ]
     },
     "execution_count": 9,
     "metadata": {},
     "output_type": "execute_result"
    }
   ],
   "source": [
    "# a = number[0]\n",
    "# b = number[1]\n",
    "# c = number[2]\n",
    "\n",
    "tm(5).subs({a:number[0], b:number[1], c:number[2]})"
   ]
  },
  {
   "cell_type": "code",
   "execution_count": 21,
   "id": "46556398-e8e9-4161-ab20-25618360b3e1",
   "metadata": {},
   "outputs": [
    {
     "data": {
      "text/latex": [
       "$\\displaystyle \\left[\\begin{matrix}- b^{2} + c^{2} & 0 & 0 & 0 & 0\\\\0 & 0 & 0 & 0 & 0\\\\0 & 0 & 0 & 0 & 0\\\\0 & 0 & 0 & 0 & 0\\\\0 & 0 & 0 & 0 & b^{2} - c^{2}\\end{matrix}\\right]$"
      ],
      "text/plain": [
       "Matrix([\n",
       "[-b**2 + c**2, 0, 0, 0,           0],\n",
       "[           0, 0, 0, 0,           0],\n",
       "[           0, 0, 0, 0,           0],\n",
       "[           0, 0, 0, 0,           0],\n",
       "[           0, 0, 0, 0, b**2 - c**2]])"
      ]
     },
     "execution_count": 21,
     "metadata": {},
     "output_type": "execute_result"
    }
   ],
   "source": [
    "M = tm(5)\n",
    "Mt = tm(5).transpose() # Mt =M.transpose()\n",
    "\n",
    "M*Mt-Mt*M"
   ]
  },
  {
   "cell_type": "code",
   "execution_count": 22,
   "id": "b39300e1-1adf-4f50-8ddb-c89cbe2d2fae",
   "metadata": {},
   "outputs": [
    {
     "data": {
      "text/latex": [
       "$\\displaystyle \\left[\\begin{matrix}0 & 0 & 0 & 0 & 0\\\\0 & 0 & 0 & 0 & 0\\\\0 & 0 & 0 & 0 & 0\\\\0 & 0 & 0 & 0 & 0\\\\0 & 0 & 0 & 0 & 0\\end{matrix}\\right]$"
      ],
      "text/plain": [
       "Matrix([\n",
       "[0, 0, 0, 0, 0],\n",
       "[0, 0, 0, 0, 0],\n",
       "[0, 0, 0, 0, 0],\n",
       "[0, 0, 0, 0, 0],\n",
       "[0, 0, 0, 0, 0]])"
      ]
     },
     "execution_count": 22,
     "metadata": {},
     "output_type": "execute_result"
    }
   ],
   "source": [
    "M1 = M.subs({a:round(random.uniform(-1,1),2), b :-2, c : 2})  # b :-2, c : 2\n",
    "M1t = M1.transpose()\n",
    "\n",
    "M1*M1t-M1t*M1"
   ]
  },
  {
   "cell_type": "code",
   "execution_count": 23,
   "id": "2e8bc9b3-69db-4936-a610-1d87e7107125",
   "metadata": {},
   "outputs": [
    {
     "data": {
      "text/latex": [
       "$\\displaystyle \\left[\\begin{matrix}0 & 0 & 0 & 0 & 0\\\\0 & 0 & 0 & 0 & 0\\\\0 & 0 & 0 & 0 & 0\\\\0 & 0 & 0 & 0 & 0\\\\0 & 0 & 0 & 0 & 0\\end{matrix}\\right]$"
      ],
      "text/plain": [
       "Matrix([\n",
       "[0, 0, 0, 0, 0],\n",
       "[0, 0, 0, 0, 0],\n",
       "[0, 0, 0, 0, 0],\n",
       "[0, 0, 0, 0, 0],\n",
       "[0, 0, 0, 0, 0]])"
      ]
     },
     "execution_count": 23,
     "metadata": {},
     "output_type": "execute_result"
    }
   ],
   "source": [
    "M2 = M.subs({a:round(random.uniform(-1,1),2), b :2, c : -2})  # b :2, c : -2\n",
    "# M2t = M2.T = M2.transpose()\n",
    "\n",
    "M2*M2.T-M2.T*M2"
   ]
  },
  {
   "cell_type": "code",
   "execution_count": null,
   "id": "caf33041-473f-4d01-ae75-61cc5d3be9f6",
   "metadata": {},
   "outputs": [],
   "source": []
  },
  {
   "cell_type": "code",
   "execution_count": null,
   "id": "a426d812-c928-4b76-aac8-eedeb20ba872",
   "metadata": {},
   "outputs": [],
   "source": []
  },
  {
   "cell_type": "markdown",
   "id": "9a5a1a90-2957-4a3b-a7bd-6ae24d9d0ab0",
   "metadata": {},
   "source": [
    "Testen Sie nun Ihre Feststellung mit eingesetzten Zahlenwerten."
   ]
  },
  {
   "cell_type": "code",
   "execution_count": 7,
   "id": "83000547-7de6-45f7-98f8-6392f93cffa9",
   "metadata": {},
   "outputs": [
    {
     "data": {
      "text/latex": [
       "$\\displaystyle \\left[\\begin{matrix}-0.42 & -2 & 0 & 0 & 0\\\\2 & -0.42 & -2 & 0 & 0\\\\0 & 2 & -0.42 & -2 & 0\\\\0 & 0 & 2 & -0.42 & -2\\\\0 & 0 & 0 & 2 & -0.42\\end{matrix}\\right]$"
      ],
      "text/plain": [
       "Matrix([\n",
       "[-0.42,    -2,     0,     0,     0],\n",
       "[    2, -0.42,    -2,     0,     0],\n",
       "[    0,     2, -0.42,    -2,     0],\n",
       "[    0,     0,     2, -0.42,    -2],\n",
       "[    0,     0,     0,     2, -0.42]])"
      ]
     },
     "execution_count": 7,
     "metadata": {},
     "output_type": "execute_result"
    }
   ],
   "source": [
    "# b = -c\n",
    "\n",
    "tm(5).subs({a:number[0], b:2, c:-2})"
   ]
  },
  {
   "cell_type": "code",
   "execution_count": 11,
   "id": "f3392999-3b3f-4839-8f2a-1e403e980dbc",
   "metadata": {},
   "outputs": [
    {
     "data": {
      "text/latex": [
       "$\\displaystyle \\left[\\begin{matrix}- b^{2} + c^{2} & 0 & 0 & 0\\\\0 & 0 & 0 & 0\\\\0 & 0 & 0 & 0\\\\0 & 0 & 0 & b^{2} - c^{2}\\end{matrix}\\right]$"
      ],
      "text/plain": [
       "Matrix([\n",
       "[-b**2 + c**2, 0, 0,           0],\n",
       "[           0, 0, 0,           0],\n",
       "[           0, 0, 0,           0],\n",
       "[           0, 0, 0, b**2 - c**2]])"
      ]
     },
     "execution_count": 11,
     "metadata": {},
     "output_type": "execute_result"
    }
   ],
   "source": [
    "M*N - N*M"
   ]
  },
  {
   "cell_type": "code",
   "execution_count": null,
   "id": "59d4c134-6cb2-44cd-8755-1e9a89fba655",
   "metadata": {},
   "outputs": [],
   "source": []
  },
  {
   "cell_type": "code",
   "execution_count": null,
   "id": "5e1c4984-e811-4d06-8c20-ea3f061f15d0",
   "metadata": {},
   "outputs": [],
   "source": []
  },
  {
   "cell_type": "code",
   "execution_count": null,
   "id": "b7bd5823-5d48-4a9b-8bc7-2d21b6261ac8",
   "metadata": {},
   "outputs": [],
   "source": []
  },
  {
   "cell_type": "markdown",
   "id": "95c1bc47-e807-4926-8a2f-306be1dba4a2",
   "metadata": {},
   "source": [
    "### 3.\n",
    "Plotten Sie die Funktion\n",
    "$$ f(x)=\\cos (x)\\sin(x) $$\n",
    "für $x∈[−5,5]$ einmal mittels der Routinen im Modul *sympy* und einmal mittels *numpy* und *matplotlib*."
   ]
  },
  {
   "cell_type": "code",
   "execution_count": 1,
   "id": "c981a5a6-2984-41de-bf47-c5e51002da33",
   "metadata": {},
   "outputs": [
    {
     "data": {
      "image/png": "[encoded data removed]",
      "text/plain": [
       "<Figure size 432x288 with 1 Axes>"
      ]
     },
     "metadata": {
      "needs_background": "light"
     },
     "output_type": "display_data"
    },
    {
     "data": {
      "text/plain": [
       "<sympy.plotting.plot.Plot at 0x2b4caa77fd0>"
      ]
     },
     "execution_count": 1,
     "metadata": {},
     "output_type": "execute_result"
    }
   ],
   "source": [
    "from sympy import *\n",
    "from sympy.plotting import *\n",
    "\n",
    "x = Symbol('x')\n",
    "f = cos(x)*sin(x)\n",
    "plot(f, (x,-5,5))"
   ]
  },
  {
   "cell_type": "code",
   "execution_count": 2,
   "id": "e2f8dc31-69ce-4ba5-8290-440b5c323d1c",
   "metadata": {},
   "outputs": [
    {
     "data": {
      "image/png": "[encoded data removed]",
      "text/plain": [
       "<Figure size 432x288 with 1 Axes>"
      ]
     },
     "metadata": {
      "needs_background": "light"
     },
     "output_type": "display_data"
    }
   ],
   "source": [
    "import numpy as np\n",
    "import matplotlib.pyplot as plt\n",
    "\n",
    "x = np.arange(-5,5,0.1)\n",
    "f = np.cos(x)*np.sin(x)\n",
    "\n",
    "plt.plot(x, f)\n",
    "plt.grid(True)\n",
    "plt.show()"
   ]
  },
  {
   "cell_type": "code",
   "execution_count": null,
   "id": "88d1dfd0-f440-4712-9ba2-092e87d116c6",
   "metadata": {},
   "outputs": [],
   "source": []
  },
  {
   "cell_type": "code",
   "execution_count": null,
   "id": "a6f96628-632c-499e-96a5-b1c2aeea02bc",
   "metadata": {},
   "outputs": [],
   "source": []
  },
  {
   "cell_type": "code",
   "execution_count": null,
   "id": "aae392e8-423e-4d3a-9498-7d8dce99a1b3",
   "metadata": {},
   "outputs": [],
   "source": []
  },
  {
   "cell_type": "code",
   "execution_count": null,
   "id": "ee0dcd26-09b6-4bcb-abcf-efcf8a178d40",
   "metadata": {},
   "outputs": [],
   "source": []
  },
  {
   "cell_type": "markdown",
   "id": "665bee12-4a6c-4392-aa25-f9b7a264072e",
   "metadata": {
    "tags": []
   },
   "source": [
    "### 4.\n",
    "Zeigen Sie die Vermutung aus Beispiel $2b)$ von Termin $3$ (*NumPy*) allgemeiner für beliebige $x$. \n",
    "Dafür erstellen Sie zuerst eine symbolische Matrix\n",
    "\n",
    "$$B_{x} = 0.5∗ \\begin{pmatrix} \n",
    "1 − \\cos(x) & \\sin(x) \\\\ \n",
    " \\sin(x) & 1 + \\cos(x)\n",
    "\\end{pmatrix}$$\n",
    "\n",
    "und vergleichen diese dann mit der vereinfachten Darstellung von $B^{2}_x$."
   ]
  },
  {
   "cell_type": "code",
   "execution_count": 9,
   "id": "35a2b5b9-3f74-47c0-8ae0-2ac11a8b167e",
   "metadata": {},
   "outputs": [],
   "source": [
    "from sympy import *\n",
    "import math\n",
    "\n",
    "x = sympy.Symbol('x')\n",
    "sympy.sin(x)\n",
    "\n",
    "A = Matrix([ [1 - sympy.cos(x), sympy.sin(x)],\n",
    "             [sympy.sin(x), 1 + sympy.cos(x)] ])\n",
    "B = 0.5*A\n"
   ]
  },
  {
   "cell_type": "code",
   "execution_count": 10,
   "id": "403e5ea8-5a20-41f6-af3e-3ae7f34effcd",
   "metadata": {},
   "outputs": [
    {
     "data": {
      "text/latex": [
       "$\\displaystyle \\left[\\begin{matrix}0.5 - 0.5 \\cos{\\left(x \\right)} & 0.5 \\sin{\\left(x \\right)}\\\\0.5 \\sin{\\left(x \\right)} & 0.5 \\cos{\\left(x \\right)} + 0.5\\end{matrix}\\right]$"
      ],
      "text/plain": [
       "Matrix([\n",
       "[0.5 - 0.5*cos(x),       0.5*sin(x)],\n",
       "[      0.5*sin(x), 0.5*cos(x) + 0.5]])"
      ]
     },
     "execution_count": 10,
     "metadata": {},
     "output_type": "execute_result"
    }
   ],
   "source": [
    "B"
   ]
  },
  {
   "cell_type": "code",
   "execution_count": 12,
   "id": "bd1ef566-16fb-4267-bab7-43822defc991",
   "metadata": {},
   "outputs": [
    {
     "data": {
      "text/latex": [
       "$\\displaystyle \\left[\\begin{matrix}0.5 - 0.5 \\cos{\\left(x \\right)} & 0.5 \\sin{\\left(x \\right)}\\\\0.5 \\sin{\\left(x \\right)} & 0.5 \\cos{\\left(x \\right)} + 0.5\\end{matrix}\\right]$"
      ],
      "text/plain": [
       "Matrix([\n",
       "[0.5 - 0.5*cos(x),       0.5*sin(x)],\n",
       "[      0.5*sin(x), 0.5*cos(x) + 0.5]])"
      ]
     },
     "execution_count": 12,
     "metadata": {},
     "output_type": "execute_result"
    }
   ],
   "source": [
    "simplify(B**2)"
   ]
  },
  {
   "cell_type": "code",
   "execution_count": 31,
   "id": "15e602db-dac2-4343-862d-d025976589cf",
   "metadata": {},
   "outputs": [
    {
     "data": {
      "text/plain": [
       "True"
      ]
     },
     "execution_count": 31,
     "metadata": {},
     "output_type": "execute_result"
    }
   ],
   "source": [
    "B == simplify(B**2)"
   ]
  },
  {
   "cell_type": "code",
   "execution_count": null,
   "id": "01497145-89d7-44ff-9516-98432d690414",
   "metadata": {},
   "outputs": [],
   "source": []
  },
  {
   "cell_type": "markdown",
   "id": "c9cba2f3-cb11-4fbf-8996-bde9bb55037b",
   "metadata": {},
   "source": [
    "Vergleichen Sie diese Lösung nun mit jener, die Sie damals mit *Numpy* erstellt haben. \n"
   ]
  },
  {
   "cell_type": "markdown",
   "id": "ff9ce0d0-51e2-436d-9d73-62dd2f40317c",
   "metadata": {},
   "source": [
    "***"
   ]
  },
  {
   "cell_type": "code",
   "execution_count": null,
   "id": "9d6e9bb2-9f30-4727-97ca-192efc731c76",
   "metadata": {},
   "outputs": [],
   "source": [
    "import numpy as np\n",
    "\n",
    "def A_x(x):\n",
    "    a1 = 1 - np.cos(x)\n",
    "    a2 = np.sin(x)\n",
    "    a3 = 1 + np.cos(x)\n",
    "    \n",
    "    A = np.array([[a1, a2],[a2,a3]])\n",
    "    return A"
   ]
  },
  {
   "cell_type": "code",
   "execution_count": 14,
   "id": "1d64058e-bb4b-4154-8701-39c782028869",
   "metadata": {},
   "outputs": [
    {
     "name": "stdout",
     "output_type": "stream",
     "text": [
      "Matrix A_power with x = 6, n = 1 \n",
      " [[ 0.039829713349634  -0.2794154981989259]\n",
      " [-0.2794154981989259  1.9601702866503659]]\n",
      "Matrix A_dot with x = 6, n = 1 \n",
      " [[ 0.039829713349634  -0.2794154981989259]\n",
      " [-0.2794154981989259  1.9601702866503659]] \n",
      "-----------\n",
      "Matrix A_power with x = 6, n = 2 \n",
      " [[ 0.079659426699268  -0.5588309963978517]\n",
      " [-0.5588309963978517  3.9203405733007317]]\n",
      "Matrix A_dot with x = 6, n = 2 \n",
      " [[ 0.079659426699268  -0.5588309963978517]\n",
      " [-0.5588309963978517  3.9203405733007317]] \n",
      "-----------\n",
      "Matrix A_power with x = 6, n = 3 \n",
      " [[ 0.1593188533985359 -1.1176619927957032]\n",
      " [-1.1176619927957034  7.840681146601463 ]]\n",
      "Matrix A_dot with x = 6, n = 3 \n",
      " [[ 0.1593188533985359 -1.1176619927957032]\n",
      " [-1.1176619927957034  7.840681146601463 ]] \n",
      "-----------\n",
      "Matrix A_power with x = 6, n = 4 \n",
      " [[ 0.3186377067970718 -2.2353239855914064]\n",
      " [-2.2353239855914064 15.681362293202927 ]]\n",
      "Matrix A_dot with x = 6, n = 4 \n",
      " [[ 0.3186377067970718 -2.235323985591406 ]\n",
      " [-2.235323985591407  15.681362293202927 ]] \n",
      "-----------\n"
     ]
    }
   ],
   "source": [
    "for n in np.arange(1,5):\n",
    "    A_power, A_dot = potenzen(6,n)\n",
    "    \n",
    "    print('Matrix A_power with x = 6, n =', n, '\\n', A_power)\n",
    "    print('Matrix A_dot with x = 6, n =', n, '\\n', A_dot, '\\n-----------')"
   ]
  },
  {
   "cell_type": "code",
   "execution_count": 15,
   "id": "2e5579df-1559-42f3-b1de-89059da98f74",
   "metadata": {},
   "outputs": [],
   "source": [
    "\n",
    "def potenzen_B(x,n):\n",
    "    B = 0.5 * A_x(x)\n",
    "    M1 = np.linalg.matrix_power(B,n)\n",
    "    \n",
    "    M2 = B.copy()\n",
    "    for i in range(n-1):\n",
    "        M2 = M2.dot(B)\n",
    "    \n",
    "    return M1, M2 "
   ]
  },
  {
   "cell_type": "code",
   "execution_count": 16,
   "id": "a592eecd-2241-4746-b6fd-80162d7c1e4b",
   "metadata": {},
   "outputs": [
    {
     "name": "stdout",
     "output_type": "stream",
     "text": [
      "Matrix B_power with x = 6, n = 1 \n",
      " [[ 0.019914856674817  -0.1397077490994629]\n",
      " [-0.1397077490994629  0.9800851433251829]]\n",
      "Matrix B_dot with x = 6, n = 1 \n",
      " [[ 0.019914856674817  -0.1397077490994629]\n",
      " [-0.1397077490994629  0.9800851433251829]] \n",
      "-----------\n",
      "Matrix B_power with x = 6, n = 2 \n",
      " [[ 0.019914856674817  -0.1397077490994629]\n",
      " [-0.1397077490994629  0.9800851433251829]]\n",
      "Matrix B_dot with x = 6, n = 2 \n",
      " [[ 0.019914856674817  -0.1397077490994629]\n",
      " [-0.1397077490994629  0.9800851433251829]] \n",
      "-----------\n",
      "Matrix B_power with x = 6, n = 3 \n",
      " [[ 0.019914856674817  -0.1397077490994629]\n",
      " [-0.1397077490994629  0.9800851433251829]]\n",
      "Matrix B_dot with x = 6, n = 3 \n",
      " [[ 0.019914856674817  -0.1397077490994629]\n",
      " [-0.1397077490994629  0.9800851433251829]] \n",
      "-----------\n",
      "Matrix B_power with x = 6, n = 4 \n",
      " [[ 0.019914856674817  -0.1397077490994629]\n",
      " [-0.1397077490994629  0.9800851433251829]]\n",
      "Matrix B_dot with x = 6, n = 4 \n",
      " [[ 0.019914856674817  -0.1397077490994629]\n",
      " [-0.1397077490994629  0.9800851433251829]] \n",
      "-----------\n"
     ]
    }
   ],
   "source": [
    "for n in np.arange(1,5):\n",
    "    B_power, B_dot = potenzen_B(6,n)\n",
    "    \n",
    "    print('Matrix B_power with x = 6, n =', n, '\\n', B_power)\n",
    "    print('Matrix B_dot with x = 6, n =', n, '\\n', B_dot, '\\n-----------')"
   ]
  },
  {
   "cell_type": "code",
   "execution_count": 17,
   "id": "ab3d59c4-d683-428f-955c-da1f2819b179",
   "metadata": {},
   "outputs": [
    {
     "name": "stdout",
     "output_type": "stream",
     "text": [
      "Matrix B_power with x = 6, n = 1 \n",
      " [[0.2298488470659301 0.4207354924039483]\n",
      " [0.4207354924039483 0.7701511529340699]]\n",
      "Matrix B_dot with x = 6, n = 1 \n",
      " [[0.2298488470659301 0.4207354924039483]\n",
      " [0.4207354924039483 0.7701511529340699]] \n",
      "-----------\n",
      "Matrix B_power with x = 6, n = 2 \n",
      " [[0.2298488470659301 0.4207354924039483]\n",
      " [0.4207354924039483 0.7701511529340699]]\n",
      "Matrix B_dot with x = 6, n = 2 \n",
      " [[0.2298488470659301 0.4207354924039483]\n",
      " [0.4207354924039483 0.7701511529340699]] \n",
      "-----------\n",
      "Matrix B_power with x = 6, n = 1 \n",
      " [[0.7080734182735712 0.4546487134128409]\n",
      " [0.4546487134128409 0.2919265817264288]]\n",
      "Matrix B_dot with x = 6, n = 1 \n",
      " [[0.7080734182735712 0.4546487134128409]\n",
      " [0.4546487134128409 0.2919265817264288]] \n",
      "-----------\n",
      "Matrix B_power with x = 6, n = 2 \n",
      " [[0.7080734182735712 0.4546487134128409]\n",
      " [0.4546487134128409 0.2919265817264288]]\n",
      "Matrix B_dot with x = 6, n = 2 \n",
      " [[0.7080734182735712 0.4546487134128409]\n",
      " [0.4546487134128409 0.2919265817264288]] \n",
      "-----------\n",
      "Matrix B_power with x = 6, n = 1 \n",
      " [[0.9949962483002227 0.0705600040299336]\n",
      " [0.0705600040299336 0.0050037516997773]]\n",
      "Matrix B_dot with x = 6, n = 1 \n",
      " [[0.9949962483002227 0.0705600040299336]\n",
      " [0.0705600040299336 0.0050037516997773]] \n",
      "-----------\n",
      "Matrix B_power with x = 6, n = 2 \n",
      " [[0.9949962483002226 0.0705600040299336]\n",
      " [0.0705600040299336 0.0050037516997773]]\n",
      "Matrix B_dot with x = 6, n = 2 \n",
      " [[0.9949962483002226 0.0705600040299336]\n",
      " [0.0705600040299336 0.0050037516997773]] \n",
      "-----------\n",
      "Matrix B_power with x = 6, n = 1 \n",
      " [[ 0.8268218104318059 -0.3784012476539641]\n",
      " [-0.3784012476539641  0.173178189568194 ]]\n",
      "Matrix B_dot with x = 6, n = 1 \n",
      " [[ 0.8268218104318059 -0.3784012476539641]\n",
      " [-0.3784012476539641  0.173178189568194 ]] \n",
      "-----------\n",
      "Matrix B_power with x = 6, n = 2 \n",
      " [[ 0.8268218104318059 -0.378401247653964 ]\n",
      " [-0.378401247653964   0.173178189568194 ]]\n",
      "Matrix B_dot with x = 6, n = 2 \n",
      " [[ 0.8268218104318059 -0.378401247653964 ]\n",
      " [-0.378401247653964   0.173178189568194 ]] \n",
      "-----------\n"
     ]
    }
   ],
   "source": [
    "#이거 틀렸네...x가 왜 6하나 뿐으로 출력됨?\n",
    "\n",
    "for x in np.arange(1,5):\n",
    "    for n in np.arange(1,3):\n",
    "        B_power, B_dot = potenzen_B(x,n)\n",
    "        \n",
    "        print('Matrix B_power with x = 6, n =', n, '\\n', B_power)\n",
    "        print('Matrix B_dot with x = 6, n =', n, '\\n', B_dot, '\\n-----------')"
   ]
  },
  {
   "cell_type": "markdown",
   "id": "664e42b4-a9a0-4999-a6d4-54ea4ac2e74d",
   "metadata": {},
   "source": [
    "***"
   ]
  },
  {
   "cell_type": "code",
   "execution_count": 1,
   "id": "6840d62c-b61a-4727-b086-382a6cf5ef27",
   "metadata": {},
   "outputs": [
    {
     "name": "stdout",
     "output_type": "stream",
     "text": [
      "x = 1\n"
     ]
    },
    {
     "data": {
      "text/latex": [
       "$B_{x}$="
      ],
      "text/plain": [
       "<IPython.core.display.Latex object>"
      ]
     },
     "metadata": {},
     "output_type": "display_data"
    },
    {
     "data": {
      "text/latex": [
       "$\\displaystyle \\left[\\begin{matrix}0.22984884706593 & 0.420735492403948\\\\0.420735492403948 & 0.77015115293407\\end{matrix}\\right]$"
      ],
      "text/plain": [
       "Matrix([\n",
       "[ 0.22984884706593, 0.420735492403948],\n",
       "[0.420735492403948,  0.77015115293407]])"
      ]
     },
     "metadata": {},
     "output_type": "display_data"
    },
    {
     "data": {
      "text/latex": [
       "$B_{x}^{2}$="
      ],
      "text/plain": [
       "<IPython.core.display.Latex object>"
      ]
     },
     "metadata": {},
     "output_type": "display_data"
    },
    {
     "data": {
      "text/latex": [
       "$\\displaystyle \\left[\\begin{matrix}0.22984884706593 & 0.420735492403948\\\\0.420735492403948 & 0.77015115293407\\end{matrix}\\right]$"
      ],
      "text/plain": [
       "Matrix([\n",
       "[ 0.22984884706593, 0.420735492403948],\n",
       "[0.420735492403948,  0.77015115293407]])"
      ]
     },
     "metadata": {},
     "output_type": "display_data"
    },
    {
     "name": "stdout",
     "output_type": "stream",
     "text": [
      "-----------------------\n",
      "x = 2\n"
     ]
    },
    {
     "data": {
      "text/latex": [
       "$B_{x}$="
      ],
      "text/plain": [
       "<IPython.core.display.Latex object>"
      ]
     },
     "metadata": {},
     "output_type": "display_data"
    },
    {
     "data": {
      "text/latex": [
       "$\\displaystyle \\left[\\begin{matrix}0.708073418273571 & 0.454648713412841\\\\0.454648713412841 & 0.291926581726429\\end{matrix}\\right]$"
      ],
      "text/plain": [
       "Matrix([\n",
       "[0.708073418273571, 0.454648713412841],\n",
       "[0.454648713412841, 0.291926581726429]])"
      ]
     },
     "metadata": {},
     "output_type": "display_data"
    },
    {
     "data": {
      "text/latex": [
       "$B_{x}^{2}$="
      ],
      "text/plain": [
       "<IPython.core.display.Latex object>"
      ]
     },
     "metadata": {},
     "output_type": "display_data"
    },
    {
     "data": {
      "text/latex": [
       "$\\displaystyle \\left[\\begin{matrix}0.708073418273571 & 0.454648713412841\\\\0.454648713412841 & 0.291926581726429\\end{matrix}\\right]$"
      ],
      "text/plain": [
       "Matrix([\n",
       "[0.708073418273571, 0.454648713412841],\n",
       "[0.454648713412841, 0.291926581726429]])"
      ]
     },
     "metadata": {},
     "output_type": "display_data"
    },
    {
     "name": "stdout",
     "output_type": "stream",
     "text": [
      "-----------------------\n",
      "x = 3\n"
     ]
    },
    {
     "data": {
      "text/latex": [
       "$B_{x}$="
      ],
      "text/plain": [
       "<IPython.core.display.Latex object>"
      ]
     },
     "metadata": {},
     "output_type": "display_data"
    },
    {
     "data": {
      "text/latex": [
       "$\\displaystyle \\left[\\begin{matrix}0.994996248300223 & 0.0705600040299336\\\\0.0705600040299336 & 0.00500375169977727\\end{matrix}\\right]$"
      ],
      "text/plain": [
       "Matrix([\n",
       "[ 0.994996248300223,  0.0705600040299336],\n",
       "[0.0705600040299336, 0.00500375169977727]])"
      ]
     },
     "metadata": {},
     "output_type": "display_data"
    },
    {
     "data": {
      "text/latex": [
       "$B_{x}^{2}$="
      ],
      "text/plain": [
       "<IPython.core.display.Latex object>"
      ]
     },
     "metadata": {},
     "output_type": "display_data"
    },
    {
     "data": {
      "text/latex": [
       "$\\displaystyle \\left[\\begin{matrix}0.994996248300223 & 0.0705600040299336\\\\0.0705600040299336 & 0.00500375169977727\\end{matrix}\\right]$"
      ],
      "text/plain": [
       "Matrix([\n",
       "[ 0.994996248300223,  0.0705600040299336],\n",
       "[0.0705600040299336, 0.00500375169977727]])"
      ]
     },
     "metadata": {},
     "output_type": "display_data"
    },
    {
     "name": "stdout",
     "output_type": "stream",
     "text": [
      "-----------------------\n",
      "x = 4\n"
     ]
    },
    {
     "data": {
      "text/latex": [
       "$B_{x}$="
      ],
      "text/plain": [
       "<IPython.core.display.Latex object>"
      ]
     },
     "metadata": {},
     "output_type": "display_data"
    },
    {
     "data": {
      "text/latex": [
       "$\\displaystyle \\left[\\begin{matrix}0.826821810431806 & -0.378401247653964\\\\-0.378401247653964 & 0.173178189568194\\end{matrix}\\right]$"
      ],
      "text/plain": [
       "Matrix([\n",
       "[ 0.826821810431806, -0.378401247653964],\n",
       "[-0.378401247653964,  0.173178189568194]])"
      ]
     },
     "metadata": {},
     "output_type": "display_data"
    },
    {
     "data": {
      "text/latex": [
       "$B_{x}^{2}$="
      ],
      "text/plain": [
       "<IPython.core.display.Latex object>"
      ]
     },
     "metadata": {},
     "output_type": "display_data"
    },
    {
     "data": {
      "text/latex": [
       "$\\displaystyle \\left[\\begin{matrix}0.826821810431806 & -0.378401247653964\\\\-0.378401247653964 & 0.173178189568194\\end{matrix}\\right]$"
      ],
      "text/plain": [
       "Matrix([\n",
       "[ 0.826821810431806, -0.378401247653964],\n",
       "[-0.378401247653964,  0.173178189568194]])"
      ]
     },
     "metadata": {},
     "output_type": "display_data"
    },
    {
     "name": "stdout",
     "output_type": "stream",
     "text": [
      "-----------------------\n"
     ]
    }
   ],
   "source": [
    "import numpy as np\n",
    "import math, sympy\n",
    "from sympy import *\n",
    "from IPython.display import display, Latex\n",
    "\n",
    "x = sympy.Symbol('x')\n",
    "\n",
    "A = Matrix([ [1 - cos(x), sin(x)],\n",
    "             [sin(x), 1 + cos(x)] ])\n",
    "B = 0.5*A\n",
    "B2 = simplify(B**2)\n",
    "\n",
    "for n in range(1,5):\n",
    "    print(f'x = {n}')\n",
    "    display(Latex(r'$B_{x}$='),B.subs({x : n}).evalf())\n",
    "    display(Latex(r'$B_{x}^{2}$='),B2.subs({x : n}).evalf())\n",
    "    print('-----------------------')"
   ]
  },
  {
   "cell_type": "code",
   "execution_count": null,
   "id": "776b1edd-bf38-4f21-804f-e96cd78caacd",
   "metadata": {},
   "outputs": [],
   "source": []
  }
 ],
 "metadata": {
  "kernelspec": {
   "display_name": "Python 3 (ipykernel)",
   "language": "python",
   "name": "python3"
  },
  "language_info": {
   "codemirror_mode": {
    "name": "ipython",
    "version": 3
   },
   "file_extension": ".py",
   "mimetype": "text/x-python",
   "name": "python",
   "nbconvert_exporter": "python",
   "pygments_lexer": "ipython3",
   "version": "3.9.10"
  }
 },
 "nbformat": 4,
 "nbformat_minor": 5
}
