{
 "cells": [
  {
   "cell_type": "markdown",
   "id": "a3803535-1c8d-46c7-b3da-3129d9e7f70c",
   "metadata": {},
   "source": [
    "# Beispiele zu Termin 1"
   ]
  },
  {
   "cell_type": "markdown",
   "id": "d2879d60-336b-479d-aafc-052ace6c1018",
   "metadata": {},
   "source": [
    "## Beispiel 1. Lotto Quicktipps"
   ]
  },
  {
   "cell_type": "markdown",
   "id": "4701e340-c07d-4a03-99d8-4c230292ad17",
   "metadata": {},
   "source": [
    "Schreiben Sie ein Programm, mit dem \"Lotto Quicktipps\" erstellt werden. Der/die User*in kann zu Beginn angeben, wie viele Quicktipps erzeugt werden sollen."
   ]
  },
  {
   "cell_type": "markdown",
   "id": "3da2c9de-6d94-4567-96b6-91d8ce761939",
   "metadata": {
    "tags": []
   },
   "source": [
    "### 1-a)"
   ]
  },
  {
   "cell_type": "markdown",
   "id": "a070cb6c-dda8-4ad9-95d6-2971f9deb885",
   "metadata": {},
   "source": [
    "Kern des Programms ist eine Funktion, die die einzelnen Tipps erstellt, indem jeweils $6$ Zufallszahlen aus dem Intervall von $1$ bis $45$ gezogen werden. Dabei muss jeder Tipp aus $6$ verschiedenen Zahlen bestehen. Wählen Sie dafür eine geeignete Datenstruktur und geben Sie die gesammelten Tipps als Liste zurück."
   ]
  },
  {
   "cell_type": "code",
   "execution_count": 12,
   "id": "9bc76da2-5d09-48a2-93c6-f8e7904aff88",
   "metadata": {},
   "outputs": [
    {
     "name": "stdin",
     "output_type": "stream",
     "text": [
      "wie viele Quicktipps?:  3\n"
     ]
    },
    {
     "name": "stdout",
     "output_type": "stream",
     "text": [
      "Lotto:  [16, 12, 39, 37, 32, 31]\n",
      "Lotto:  [6, 34, 20, 9, 27, 45]\n",
      "Lotto:  [30, 43, 28, 29, 32, 6]\n"
     ]
    }
   ],
   "source": [
    "import random\n",
    "\n",
    "h = input('wie viele Quicktipps?: ')\n",
    "\n",
    "for i in range(int(h)):\n",
    "    lotto = []\n",
    "    while len(lotto) < 6:\n",
    "        z = random.randint(1, 45)\n",
    "        if z not in lotto:\n",
    "            lotto.append(z)\n",
    "\n",
    "    print('Lotto: ', lotto)"
   ]
  },
  {
   "cell_type": "markdown",
   "id": "8de6e80d-5484-45ea-a686-8de22aecce6d",
   "metadata": {},
   "source": [
    "**Zusatzfrage:** Wie müssen Sie den Code ändern damit auch alle Tipps nur einmal vorkommen? <br>\n",
    "Wir wenden eine der Eigenschaften von `set()` an, die keine Duplizierung zulässt."
   ]
  },
  {
   "cell_type": "code",
   "execution_count": 13,
   "id": "0e30bf21-4614-4580-b973-8677c91f86e4",
   "metadata": {},
   "outputs": [
    {
     "name": "stdin",
     "output_type": "stream",
     "text": [
      "wie viele Quicktipps?:  5\n"
     ]
    },
    {
     "name": "stdout",
     "output_type": "stream",
     "text": [
      "Lotto:  [1, 37, 11, 12, 16, 20]\n",
      "Lotto:  [6, 15, 16, 17, 21, 29]\n",
      "Lotto:  [32, 33, 35, 23, 24, 27]\n",
      "Lotto:  [33, 7, 13, 14, 17, 29]\n",
      "Lotto:  [4, 39, 8, 44, 18, 20]\n"
     ]
    }
   ],
   "source": [
    "import random\n",
    "\n",
    "h = input('wie viele Quicktipps?: ')\n",
    "\n",
    "for i in range(int(h)):\n",
    "    lotto = set()\n",
    "    while len(lotto) < 6:\n",
    "        z = random.randint(1, 45)\n",
    "        if z not in lotto:\n",
    "            lotto.add(z)\n",
    "    print('Lotto: ', list(lotto))"
   ]
  },
  {
   "cell_type": "markdown",
   "id": "1efdb738-a009-4547-9467-442f79de5d1b",
   "metadata": {},
   "source": [
    "### 1-b)"
   ]
  },
  {
   "cell_type": "markdown",
   "id": "8fd87df3-8818-4053-b500-a68658936458",
   "metadata": {},
   "source": [
    "Am Ende des Programms erfolgt die Ausgabe der Tipps an den Benutzer in beliebiger Reihenfolge. Die einzelnen Tipps sollen dabei aufsteigend sortiert ausgegeben werden. Geben Sie zu jedem Tipp auch eine Zusatzzahl mit aus, die nicht bereits im Tipp vorkommt!"
   ]
  },
  {
   "cell_type": "code",
   "execution_count": 38,
   "id": "819f9cbb-b9d9-4cdc-a95d-9ff1f184cfa0",
   "metadata": {},
   "outputs": [
    {
     "name": "stdin",
     "output_type": "stream",
     "text": [
      "Wie viele Quicktipps?:  3\n"
     ]
    },
    {
     "name": "stdout",
     "output_type": "stream",
     "text": [
      "Lotto:  [20, 23, 30, 39, 44, 45] Zusatzzahl : 18\n",
      "Lotto:  [5, 8, 10, 13, 15, 42] Zusatzzahl : 34\n",
      "Lotto:  [9, 16, 33, 34, 35, 36] Zusatzzahl : 24\n"
     ]
    }
   ],
   "source": [
    "import random\n",
    "\n",
    "h = input('Wie viele Quicktipps?: ')\n",
    "\n",
    "for i in range(int(h)):\n",
    "    lotto = []\n",
    "    while len(lotto) < 7:\n",
    "        zahl = random.randint(1, 45)\n",
    "        if zahl not in lotto:\n",
    "            lotto.append(zahl)\n",
    "            \n",
    "    print('Lotto: ', sorted(lotto[:6]), 'Zusatzzahl :', lotto[-1])"
   ]
  },
  {
   "cell_type": "markdown",
   "id": "37b8e846-a9eb-4aec-8902-1b6de694a663",
   "metadata": {},
   "source": [
    "***"
   ]
  },
  {
   "cell_type": "markdown",
   "id": "51da8a06-8fe5-4b91-a4e6-c742ac7f6741",
   "metadata": {},
   "source": [
    "## Beispiel 2. Randomtext"
   ]
  },
  {
   "cell_type": "markdown",
   "id": "ee2b1b20-95ae-43d9-b9cc-f6421844b535",
   "metadata": {},
   "source": [
    "### 2-a)"
   ]
  },
  {
   "cell_type": "markdown",
   "id": "2db80c1e-3ec6-4e57-82ed-577ce1ed94e3",
   "metadata": {},
   "source": [
    "Erstellen Sie einen zufälligen (bedeutungslosen) Text mit $5$ Worten, indem Sie den Befehl `random.sample(string.ascii_lowercase,n)` adaptieren und verwenden (Achtung: Sie müssen hierfür die richtigen Module importieren). Die Wortlänge $n$ der einzelnen Worte soll zufällig gewählt und zwischen $2$ und $9$ Buchstaben sein. Geben Sie den Text mit Leerzeichen zwischen den einzelnen Worten aus. Beispiel eines Zufalltexts:  `bhavzsj xqfte oqe yelf zxbco` ."
   ]
  },
  {
   "cell_type": "code",
   "execution_count": 44,
   "id": "66c841a0-6295-4760-bd4b-1134a79ded56",
   "metadata": {},
   "outputs": [
    {
     "name": "stdout",
     "output_type": "stream",
     "text": [
      "rohjvy fakzvt co elugzmqpb pglvwbomi "
     ]
    }
   ],
   "source": [
    "import string\n",
    "import random\n",
    "\n",
    "for i in range(5):\n",
    "    tx = ''.join(random.sample(string.ascii_lowercase, random.randint(2,9)) )\n",
    "    print(tx, end =' ')"
   ]
  },
  {
   "cell_type": "markdown",
   "id": "08894e4f-5513-4062-82b2-ffb4ac4dbeaf",
   "metadata": {},
   "source": [
    "### 2-b)"
   ]
  },
  {
   "cell_type": "markdown",
   "id": "d4913bf7-2d0d-46f8-a232-f952aae75548",
   "metadata": {},
   "source": [
    "Legen Sie weiters eine Funktion an, die für einen gegebenen Text ein Dictionary zurückgibt, das für alle vorkommenden Buchstaben deren Anzahl enthält. Geben Sie solch ein Dictionary für einen Zufallstext aus."
   ]
  },
  {
   "cell_type": "code",
   "execution_count": 45,
   "id": "21780b79-ea47-4835-82d7-b5cdfb92cbb3",
   "metadata": {},
   "outputs": [
    {
     "name": "stdin",
     "output_type": "stream",
     "text": [
      "Randomtext:  hallo\n"
     ]
    },
    {
     "name": "stdout",
     "output_type": "stream",
     "text": [
      "Anzahl der Buchstaben von Random Text : {'h': 1, 'a': 1, 'l': 2, 'o': 1}\n"
     ]
    }
   ],
   "source": [
    "def anzahl_txt():\n",
    "    test_str = input('Randomtext: ')\n",
    "    wb = {}\n",
    "    for i in test_str:\n",
    "        if i in wb:\n",
    "            wb[i] += 1\n",
    "        else:\n",
    "            wb[i] = 1\n",
    "    print('Anzahl der Buchstaben von Random Text :', str(wb))\n",
    "    \n",
    "anzahl_txt()"
   ]
  },
  {
   "cell_type": "markdown",
   "id": "a644d5ec-ff82-4484-95f1-6398aa9ccccc",
   "metadata": {},
   "source": [
    "### Tobias Version"
   ]
  },
  {
   "cell_type": "code",
   "execution_count": 28,
   "id": "8db66bba-5bdb-44e4-8506-d8632e52affd",
   "metadata": {},
   "outputs": [
    {
     "name": "stdout",
     "output_type": "stream",
     "text": [
      "{'H': 1, 'a': 1, 'l': 2, 'o': 1}\n"
     ]
    }
   ],
   "source": [
    "def anzahl_txt(text):\n",
    "    wb = {}\n",
    "    for i in text:\n",
    "        if i in wb:\n",
    "            wb[i] += 1\n",
    "        else:\n",
    "            wb[i] = 1\n",
    "    print(wb)\n",
    "    \n",
    "anzahl_txt('Hallo')"
   ]
  },
  {
   "cell_type": "markdown",
   "id": "2b0b4377-e718-4596-9c0b-23691e0a9af8",
   "metadata": {},
   "source": [
    "Speichern Sie nun $5$ Zufallstexte und $5$ beliebige (sinnvolle) Sätze in eine Liste. Berechnen Sie den durchschnittlichen prozentualen Anteil des Buchstabens 'e' in den $5$ Zufallssätzen im Vergleich zu den $5$ gewählten Sätzen.  Warum ist der Unterschied so groß? Beachten Sie, dass Leerzeichen und Punkte nicht als Buchstaben zählen."
   ]
  },
  {
   "cell_type": "code",
   "execution_count": 29,
   "id": "9b0ea163-91c1-486b-9d88-7f88bcd2380d",
   "metadata": {},
   "outputs": [
    {
     "name": "stdout",
     "output_type": "stream",
     "text": [
      "Durchschnittlicher prozentuale Anteil des Buchstabens \"e\" in den gewählten Sätzen:  17.46031746031746 %\n",
      "Durchschnittlicher prozentuale Anteil des Buchstabens \"e\" in den Zufallssätzen:  0.0 %\n"
     ]
    }
   ],
   "source": [
    "import random\n",
    "import string\n",
    "\n",
    "a = 'ich mag papageien.'\n",
    "b = 'du magst hunde.'\n",
    "c = 'er mag katzen.'\n",
    "d = 'sie mag tiger.'\n",
    "e = 'wir lieben tiere.'\n",
    "\n",
    "li = [a, b, c, d, e]\n",
    "\n",
    "for i in range(5):\n",
    "    tx = ''.join(random.sample(string.ascii_lowercase, random.randint(2,9)))\n",
    "    li.append(tx)\n",
    "    \n",
    "characters = \" .\"\n",
    "for i in range(10):\n",
    "    for x in range(len(characters)):\n",
    "        li[i] = li[i].replace(characters[x],\"\")\n",
    "\n",
    "sum1 = 0 # Anzahl von e in sinnvollem Satz\n",
    "sum2 = 0 # Lange der Buchstaben im sinnvoller Satz\n",
    "sum3 = 0 # Anzahl von e in zufälligem Text\n",
    "sum4 = 0 # Lange der Buchstaben im Zufallstext\n",
    "\n",
    "for i in range(5):\n",
    "    sum1 += li[i].count('e')\n",
    "    sum2 += len(li[i])\n",
    "for i in range(5,10):\n",
    "    sum3 += li[i].count('e')\n",
    "    sum4 += len(li[i])\n",
    "    \n",
    "print('Durchschnittlicher prozentuale Anteil des Buchstabens \"e\" in den gewählten Sätzen: ',sum1/sum2*100,'%')\n",
    "print('Durchschnittlicher prozentuale Anteil des Buchstabens \"e\" in den Zufallssätzen: ',sum3/sum4*100,'%')"
   ]
  },
  {
   "cell_type": "markdown",
   "id": "24628d37-6eb6-4f06-832d-23425a470d6c",
   "metadata": {},
   "source": [
    "##### Warum ist der prozentuale Unterschied so groß?\n",
    "\n",
    "Es gibt mehr Konsonanten im Alphabet als Vokale.\n",
    "Sinnvolle Sätze müssen mindestens einen Vokal enthalten, aber zufällige Sätze müssen keinen Vokal enthalten.\n",
    "\"e\" ist der häufigste Vokalbuchstabe im Deutschen."
   ]
  },
  {
   "cell_type": "markdown",
   "id": "fa9c9313-de3b-4a21-8866-f57c8577b418",
   "metadata": {},
   "source": [
    "***"
   ]
  },
  {
   "cell_type": "markdown",
   "id": "6085dca1-3479-46e8-8afd-7aa979b7d760",
   "metadata": {},
   "source": [
    "### Tobias Version"
   ]
  },
  {
   "cell_type": "code",
   "execution_count": 30,
   "id": "6a3c4dec-ed40-4c02-93bd-adf3d7bff256",
   "metadata": {},
   "outputs": [],
   "source": [
    "import random\n",
    "import string\n",
    "\n",
    "a = 'ich mag papageien.'\n",
    "b = 'du magst hunde.'\n",
    "c = 'er mag katzen.'\n",
    "d = 'sie mag tiger.'\n",
    "e = 'wir lieben tiere.'\n",
    "\n",
    "li = [a, b, c, d, e]\n",
    "\n",
    "for i in range(5):\n",
    "    tx = ''.join(random.sample(string.ascii_lowercase, random.randint(2,9)))\n",
    "    li.append(tx)\n",
    "    \n",
    "characters = \" .\"\n",
    "for i in range(10):\n",
    "    for x in range(len(characters)):\n",
    "        li[i] = li[i].replace(characters[x],\"\")"
   ]
  },
  {
   "cell_type": "code",
   "execution_count": 31,
   "id": "7e0fa78f-4f72-4146-9a85-b0b9bd2bdf2f",
   "metadata": {},
   "outputs": [
    {
     "data": {
      "text/plain": [
       "['ichmagpapageien',\n",
       " 'dumagsthunde',\n",
       " 'ermagkatzen',\n",
       " 'siemagtiger',\n",
       " 'wirliebentiere',\n",
       " 'uwifcxzto',\n",
       " 'nwlyapg',\n",
       " 'saztw',\n",
       " 'nmdbv',\n",
       " 'ypmltghco']"
      ]
     },
     "execution_count": 31,
     "metadata": {},
     "output_type": "execute_result"
    }
   ],
   "source": [
    "li"
   ]
  },
  {
   "cell_type": "code",
   "execution_count": 32,
   "id": "16307396-7e2e-4e11-a126-0b42d08ae17a",
   "metadata": {},
   "outputs": [
    {
     "name": "stdout",
     "output_type": "stream",
     "text": [
      "Prozent_e_sinntxt: 17.46031746031746 %\n",
      "Prozent_e_randtxt: 0.0 %\n"
     ]
    }
   ],
   "source": [
    "sum1 = 0\n",
    "sum2 = 0\n",
    "sum3 = 0\n",
    "sum4 = 0\n",
    "\n",
    "\n",
    "for s in li[:5]:\n",
    "    sum1 += s.count('e')\n",
    "    sum2 += len(s)\n",
    "for s in li[5:]:\n",
    "    sum3 += s.count('e')\n",
    "    sum4 += len(s)\n",
    "    \n",
    "print('Prozent_e_sinntxt:', sum1/sum2*100, '%')\n",
    "print('Prozent_e_randtxt:', sum3/sum4*100, '%')"
   ]
  },
  {
   "cell_type": "code",
   "execution_count": null,
   "id": "7fcc840a-d6f3-420d-9dc2-2549d4b02ec1",
   "metadata": {},
   "outputs": [],
   "source": []
  },
  {
   "cell_type": "code",
   "execution_count": null,
   "id": "cd0250a4-7629-41f8-978a-b85846267c36",
   "metadata": {},
   "outputs": [],
   "source": []
  },
  {
   "cell_type": "code",
   "execution_count": null,
   "id": "6a1bdf47-cd98-4ae5-b75b-33d304eae132",
   "metadata": {},
   "outputs": [],
   "source": []
  },
  {
   "cell_type": "markdown",
   "id": "63512253-14ee-47e9-8227-c09367b6003a",
   "metadata": {},
   "source": [
    "### 2 -c)"
   ]
  },
  {
   "cell_type": "markdown",
   "id": "e68bc2ed-b67a-4f59-9a8a-033f2d69e0c2",
   "metadata": {},
   "source": [
    "Speichern Sie zwei der in $b)$ gewählten Sätze als Mengen $s1$ und $s2$ ab, wobei alle Buchstaben als Kleinbuchstaben abgespeichert werden sollen. \n",
    "Welche Buchstaben kommen in beiden Sätzen gemeinsam vor und wie oft? \n",
    "Gibt es Buchstaben, die nur in einem Text vorkommen; wenn ja, welche? \n",
    "(*Leerzeichen* und *Punkte* sollen wieder ignoriert werden.)"
   ]
  },
  {
   "cell_type": "code",
   "execution_count": 33,
   "id": "9c1ff304-2efe-42bf-839e-e26bfc6de481",
   "metadata": {},
   "outputs": [],
   "source": [
    "s1 = set(s.lower()) & set(string.ascii_lowercase)"
   ]
  },
  {
   "cell_type": "code",
   "execution_count": 34,
   "id": "34caefa2-6e6c-414d-8692-63950f9adfb7",
   "metadata": {},
   "outputs": [
    {
     "data": {
      "text/plain": [
       "{'c', 'g', 'h', 'l', 'm', 'o', 'p', 't', 'y'}"
      ]
     },
     "execution_count": 34,
     "metadata": {},
     "output_type": "execute_result"
    }
   ],
   "source": [
    "s1"
   ]
  },
  {
   "cell_type": "code",
   "execution_count": 35,
   "id": "7c6b3905-c596-46f6-ba43-d5614d4fec67",
   "metadata": {},
   "outputs": [],
   "source": [
    "from random import sample, randint\n",
    "from string import ascii_lowercase as abc\n",
    "\n",
    "satz = ' '.join([''.join(sample(abc, randint(2,9))) for _ in range(5)])\n",
    "\n",
    "s1 = set(s.lower()) & set(string.ascii_lowercase)\n",
    "\n",
    "s2 = set(satz.lower()) & set(string.ascii_lowercase)"
   ]
  },
  {
   "cell_type": "code",
   "execution_count": 36,
   "id": "fa028942-d143-4a56-994c-59463f5d9e10",
   "metadata": {},
   "outputs": [
    {
     "data": {
      "text/plain": [
       "{'c', 'g', 'h', 'l', 'm', 'o', 'p', 't', 'y'}"
      ]
     },
     "execution_count": 36,
     "metadata": {},
     "output_type": "execute_result"
    }
   ],
   "source": [
    "s1"
   ]
  },
  {
   "cell_type": "code",
   "execution_count": 37,
   "id": "32f7dc0c-6502-412e-85eb-533e1123281c",
   "metadata": {},
   "outputs": [
    {
     "data": {
      "text/plain": [
       "{'a',\n",
       " 'c',\n",
       " 'd',\n",
       " 'e',\n",
       " 'f',\n",
       " 'h',\n",
       " 'l',\n",
       " 'n',\n",
       " 'p',\n",
       " 'q',\n",
       " 's',\n",
       " 't',\n",
       " 'u',\n",
       " 'w',\n",
       " 'y',\n",
       " 'z'}"
      ]
     },
     "execution_count": 37,
     "metadata": {},
     "output_type": "execute_result"
    }
   ],
   "source": [
    "s2"
   ]
  },
  {
   "cell_type": "code",
   "execution_count": null,
   "id": "329adfa3-e3fb-40d2-80ef-4dad20a8ab5a",
   "metadata": {},
   "outputs": [],
   "source": []
  },
  {
   "cell_type": "markdown",
   "id": "b3b5c0f6-61f0-4e73-86f1-2261349b2d58",
   "metadata": {},
   "source": [
    "***"
   ]
  },
  {
   "cell_type": "code",
   "execution_count": 38,
   "id": "2f827e33-0dfd-4f7b-ac0c-f2483289d520",
   "metadata": {},
   "outputs": [
    {
     "name": "stdout",
     "output_type": "stream",
     "text": [
      "s1: {'h', 'g', 'y', 'p', 'o', 'l', 'm', 'c', 't'}\n",
      "s2: {'n', 'z', 'q', 's', 'h', 'd', 'p', 'y', 'w', 'l', 'e', 'c', 'f', 't', 'u', 'a'}\n",
      "s1 & s2: {'h', 't', 'p', 'y', 'c', 'l'}\n",
      "s1 U s2: {'n', 'z', 's', 'h', 'g', 'p', 'w', 'o', 'e', 'f', 't', 'a', 'q', 'd', 'y', 'm', 'c', 'l', 'u'}\n",
      "s1 - s2: {'o', 'm', 'g'}\n",
      "s2 - s1: {'n', 'z', 'q', 's', 'd', 'w', 'e', 'f', 'u', 'a'}\n",
      "s1 ^ s2: {'n', 'z', 's', 'g', 'w', 'o', 'e', 'f', 'a', 'q', 'd', 'm', 'u'}\n"
     ]
    }
   ],
   "source": [
    "print('s1:', s1)\n",
    "print('s2:', s2)\n",
    "print('s1 & s2:', s1 &s2)\n",
    "print('s1 U s2:', s1| s2)\n",
    "print('s1 - s2:', s1 - s2)\n",
    "print('s2 - s1:', s2- s1)\n",
    "print('s1 ^ s2:', s1 ^ s2)"
   ]
  },
  {
   "cell_type": "markdown",
   "id": "c9e6ce7c-ebc2-4a01-9441-e5800ad4e186",
   "metadata": {},
   "source": [
    "#### check"
   ]
  },
  {
   "cell_type": "code",
   "execution_count": 25,
   "id": "b407a733-0615-4b33-a82d-41af1041933d",
   "metadata": {},
   "outputs": [
    {
     "data": {
      "text/plain": [
       "False"
      ]
     },
     "execution_count": 25,
     "metadata": {},
     "output_type": "execute_result"
    }
   ],
   "source": [
    "s1.isdisjoint(s2)"
   ]
  },
  {
   "cell_type": "code",
   "execution_count": 26,
   "id": "0e1b615a-ff0d-447f-9827-75feff4165de",
   "metadata": {},
   "outputs": [
    {
     "data": {
      "text/plain": [
       "False"
      ]
     },
     "execution_count": 26,
     "metadata": {},
     "output_type": "execute_result"
    }
   ],
   "source": [
    "s1.issubset(s2)"
   ]
  },
  {
   "cell_type": "code",
   "execution_count": 27,
   "id": "0946c8f0-2e8c-4720-9e31-0857731eddd0",
   "metadata": {},
   "outputs": [
    {
     "data": {
      "text/plain": [
       "False"
      ]
     },
     "execution_count": 27,
     "metadata": {},
     "output_type": "execute_result"
    }
   ],
   "source": [
    "s1.issuperset(s2)"
   ]
  },
  {
   "cell_type": "code",
   "execution_count": null,
   "id": "733a0179-1841-47e1-bf63-a3cf587c3246",
   "metadata": {},
   "outputs": [],
   "source": []
  }
 ],
 "metadata": {
  "kernelspec": {
   "display_name": "Python 3 (ipykernel)",
   "language": "python",
   "name": "python3"
  },
  "language_info": {
   "codemirror_mode": {
    "name": "ipython",
    "version": 3
   },
   "file_extension": ".py",
   "mimetype": "text/x-python",
   "name": "python",
   "nbconvert_exporter": "python",
   "pygments_lexer": "ipython3",
   "version": "3.9.10"
  }
 },
 "nbformat": 4,
 "nbformat_minor": 5
}
