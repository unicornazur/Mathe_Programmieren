{
 "cells": [
  {
   "cell_type": "code",
   "execution_count": null,
   "id": "ca162dd3-5f8b-4d1e-b4d2-2c170550f820",
   "metadata": {},
   "outputs": [],
   "source": []
  },
  {
   "cell_type": "markdown",
   "id": "b97ee9e0-9e24-4b0a-9225-651ceb5b74f3",
   "metadata": {},
   "source": [
    "# 5. ISBN"
   ]
  },
  {
   "cell_type": "markdown",
   "id": "0a5b525d-8ed7-4e59-9b1f-1c77551c9fc1",
   "metadata": {},
   "source": [
    "Die internationale Standardbuchnummer (ISBN) ist eine Nummer zur eindeutigen Kennzeichnung von Buchern. Sie besteht aus $13$ Ziffern $z_{1},...,z_{13}$ \n",
    "(d.h. ganze Zahlen zwischen $0$ und $9$). Die letzte Ziffer ist eine Prüfziffer, anhand derer man die Korrektheit der restlichen Ziffern feststellen kann (z.B. Schutz gegen Falscheingaben). \n",
    "Diese Prüfziffer wird folgendermaßen berechnet:\n",
    "$$z_{13} = p \\pmod{10}$$\n",
    "mit\n",
    "$$p = 10 - (z_{1} + z_{3} + z_{5} + z_{7} + z_{9} + z_{11} + 3 * (z_{2} + z_{4} + z_{6} + z_{8} + z_{10} + z_{12})) \\pmod{10}$$\n",
    "Dies ist aquivalent dazu, dass\n",
    "$$z_{1} + z_{3} + z_{5} + z_{7} + z_{9} + z_{11} + z_{13} + 3 * (z_{2} + z_{4} + z_{6} + z_{8} + z_{10} + z_{12})\\pmod{10} = 0$$\n",
    "gilt. \n",
    "Schreiben Sie eine Funktion `check_isbn`, die eine ISBN vom Nutzer übernimmt (nur die Zahl ohne Präfix und Sonderzeichen), deren Korrektheit prüft und anhand eines *Boolean-Wertes* zurückgibt. \n",
    "Zuerst soll geprüft werden, ob die übergebene Ziffernfolge die richtige Anzahl an Elementen hat und ggf. eine Fehlermeldung ausgegeben werden. \n",
    "Summieren Sie im Algorithmus die benotigten Werte ohne alle Elemente explizit hinzuschreiben (dafur müssen Sie eine geeignete Datenstruktur wählen). \n",
    "Zum Testen des Algorithmus können Sie z.B. die gültige ISBN **9783423348478** verwenden. \n",
    "Wenden Sie das Programm nun mehrfach an, indem Sie über eine Liste selbst gewählter ISBN iterieren (suchen Sie sich zB einige beliebige Bücher aus einem Online-Buchhandel aus), und geben Sie je nach Rückgabe der Funktion einen verständlichen String aus, ob die Nummer gültig ist oder nicht"
   ]
  },
  {
   "cell_type": "code",
   "execution_count": 5,
   "id": "384a6593-0429-4cd8-a874-1a159d9e3d40",
   "metadata": {},
   "outputs": [],
   "source": [
    "######\n",
    "\n",
    "def check_isbn(isbn):\n",
    "    li = np.array([int(i) for i in isbn])\n",
    "    \n",
    "    odd = sum(li[:13:2])\n",
    "    even = sum(li[1:13:2])\n",
    "    f = (odd + 3*even)%10\n",
    "    \n",
    "    if f == 0:\n",
    "        print(True, f'ISBN :{isbn} is ok.')\n",
    "    else:\n",
    "        print(False, f'ISBN:{isbn} is not availabe.')\n",
    "    "
   ]
  },
  {
   "cell_type": "code",
   "execution_count": 6,
   "id": "e20a2f63-fe10-4826-b661-91a5cbc2f09d",
   "metadata": {},
   "outputs": [
    {
     "name": "stdout",
     "output_type": "stream",
     "text": [
      "True ISBN :9783423348478 is ok.\n"
     ]
    }
   ],
   "source": [
    "check_isbn('9783423348478')"
   ]
  },
  {
   "cell_type": "code",
   "execution_count": 7,
   "id": "ed0c945c-494e-4c46-9bbd-61d693be765f",
   "metadata": {},
   "outputs": [
    {
     "name": "stdout",
     "output_type": "stream",
     "text": [
      "False ISBN:9783423348477 is not availabe.\n",
      "True ISBN :9783423348478 is ok.\n",
      "False ISBN:9783423348487 is not availabe.\n",
      "False ISBN:9783423348488 is not availabe.\n",
      "False ISBN:9783423348479 is not availabe.\n"
     ]
    }
   ],
   "source": [
    "isbns = ['9783423348477',\n",
    "         '9783423348478',\n",
    "         '9783423348487',\n",
    "         '9783423348488',\n",
    "         '9783423348479']\n",
    "\n",
    "for isbn in isbns:\n",
    "    check_isbn(isbn)"
   ]
  },
  {
   "cell_type": "code",
   "execution_count": 9,
   "id": "8e56c4db-16b4-4973-9d92-c9833a8869b3",
   "metadata": {},
   "outputs": [
    {
     "data": {
      "text/plain": [
       "array([9, 7, 8, 3, 4, 2, 3, 3, 4, 8, 4, 7, 8])"
      ]
     },
     "execution_count": 9,
     "metadata": {},
     "output_type": "execute_result"
    }
   ],
   "source": [
    "isbn = '9783423348478'\n",
    "li = np.array([int(i) for i in isbn])\n",
    "li"
   ]
  },
  {
   "cell_type": "code",
   "execution_count": null,
   "id": "42626136-19f9-4526-ae4f-f575a8812e34",
   "metadata": {},
   "outputs": [],
   "source": []
  }
 ],
 "metadata": {
  "kernelspec": {
   "display_name": "Python 3 (ipykernel)",
   "language": "python",
   "name": "python3"
  },
  "language_info": {
   "codemirror_mode": {
    "name": "ipython",
    "version": 3
   },
   "file_extension": ".py",
   "mimetype": "text/x-python",
   "name": "python",
   "nbconvert_exporter": "python",
   "pygments_lexer": "ipython3",
   "version": "3.9.10"
  }
 },
 "nbformat": 4,
 "nbformat_minor": 5
}
