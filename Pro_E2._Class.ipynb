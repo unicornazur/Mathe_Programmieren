{
 "cells": [
  {
   "cell_type": "code",
   "execution_count": null,
   "id": "e4f9209c-1f38-43d9-a4a1-6ff89a82a1a8",
   "metadata": {},
   "outputs": [],
   "source": []
  },
  {
   "cell_type": "markdown",
   "id": "10fff8f6-b82f-46e6-b4af-2e1da67b2f24",
   "metadata": {},
   "source": [
    "# Beispiele zu Termin 2"
   ]
  },
  {
   "cell_type": "markdown",
   "id": "75778b9a-f669-41d2-b21b-103c80e9546a",
   "metadata": {},
   "source": [
    "## 1."
   ]
  },
  {
   "cell_type": "markdown",
   "id": "4bfde99d-38ee-4322-8812-ab0c390a0d63",
   "metadata": {},
   "source": [
    "Erklären Sie Objektorientierung anhand eines Beispiels aus dem Alltag. \n",
    "Führen Sie dieses genau aus in Bezug auf *Attribute/Konstruktor* und *Methoden*. \n",
    "Welche *Klassenattribute* und *Klassenmethoden* könnte es in Ihrem Beispiel geben? \n",
    "Wo liegt der Unterschied zu *Attributen* und *Methoden* für spezifische Instanzen?\n"
   ]
  },
  {
   "cell_type": "code",
   "execution_count": 4,
   "id": "bd128fa3-ac7e-40aa-b10b-51e7325a51e3",
   "metadata": {},
   "outputs": [],
   "source": [
    "class Cafe:\n",
    "    def __init__(self, menu, price):\n",
    "        self.menu = menu\n",
    "        self.price = price\n",
    "        \n",
    "    def order(self):\n",
    "        print('Menu:' + self.menu + ' bitte.')\n",
    "        \n",
    "    def coffee(self):\n",
    "        if self.menu == 'americano':\n",
    "            print(self.menu + ': espresso + water')\n",
    "            print(str(self.price) + ' Euro')\n",
    "        elif self.menu == 'cafeLatte':\n",
    "            print(self.menu + ': espresso + milk')\n",
    "            print(str(self.price) + ' Euro')\n",
    "        else:\n",
    "            print('Es gibt nur americano und cafe latte.')\n",
    "            \n",
    "\n",
    "class Dessert(Cafe):\n",
    "    def __init__(self, menu, price, typ):\n",
    "        super().__init__(menu, price) # super().__init__() 해도됨\n",
    "        self.typ = typ\n",
    "    \n",
    "    def order(self):\n",
    "        super().order()\n",
    "        print('Mal Zeit!')\n",
    "        \n",
    "    def backery(self):\n",
    "        if self.menu == 'croissant':\n",
    "            print(self.typ, self.menu, ': 5 min. im Backofen')\n",
    "        elif self.menu == 'tiramisu':\n",
    "            print(self.typ, self.menu, ': 1 Stück im Kühlschrank')\n",
    "        else:\n",
    "            print('Es ist ausverkauft.')"
   ]
  },
  {
   "cell_type": "code",
   "execution_count": 5,
   "id": "b81cf246-2e0d-493a-a7e0-0dd55daac307",
   "metadata": {},
   "outputs": [],
   "source": [
    "Kaffee1 = Cafe('americano', 3.0)\n",
    "Kaffee2 = Cafe('cafeLatte', 4.0)"
   ]
  },
  {
   "cell_type": "code",
   "execution_count": 6,
   "id": "2eda4e5b-caa7-4889-a9d9-61364cbd802e",
   "metadata": {},
   "outputs": [
    {
     "name": "stdout",
     "output_type": "stream",
     "text": [
      "americano: espresso + water\n",
      "3.0 Euro\n",
      "cafeLatte: espresso + milk\n",
      "4.0 Euro\n"
     ]
    }
   ],
   "source": [
    "Kaffee1.coffee()\n",
    "Kaffee2.coffee()"
   ]
  },
  {
   "cell_type": "code",
   "execution_count": 7,
   "id": "c051206f-7595-4728-94ce-10e7f06a3fa2",
   "metadata": {},
   "outputs": [
    {
     "name": "stdout",
     "output_type": "stream",
     "text": [
      "Menu:americano bitte.\n",
      "Menu:cafeLatte bitte.\n"
     ]
    }
   ],
   "source": [
    "Kaffee1.order()\n",
    "Kaffee2.order()"
   ]
  },
  {
   "cell_type": "code",
   "execution_count": 8,
   "id": "d9296086-97ad-4f13-afe6-c2e2fff2aa05",
   "metadata": {},
   "outputs": [],
   "source": [
    "dessert1 = Dessert('croissant', 1.5, 'typ:\"warm\"')\n",
    "dessert2 = Dessert('tiramisu', 2.5, 'typ:\"kalt\"')"
   ]
  },
  {
   "cell_type": "code",
   "execution_count": 9,
   "id": "e31ab9a3-fd00-42dc-8475-462fef14db18",
   "metadata": {},
   "outputs": [
    {
     "name": "stdout",
     "output_type": "stream",
     "text": [
      "Menu:croissant bitte.\n",
      "Mal Zeit!\n",
      "Menu:tiramisu bitte.\n",
      "Mal Zeit!\n"
     ]
    }
   ],
   "source": [
    "dessert1.order()\n",
    "dessert2.order()"
   ]
  },
  {
   "cell_type": "code",
   "execution_count": 11,
   "id": "5bd301b3-8f77-4684-9d6d-728e6ae007c9",
   "metadata": {},
   "outputs": [
    {
     "name": "stdout",
     "output_type": "stream",
     "text": [
      "typ:\"warm\" croissant : 5 min. im Backofen\n",
      "typ:\"kalt\" tiramisu : 1 Stück im Kühlschrank\n"
     ]
    }
   ],
   "source": [
    "dessert1.backery()\n",
    "dessert2.backery()"
   ]
  },
  {
   "cell_type": "code",
   "execution_count": null,
   "id": "8c236e85-cdd6-48c1-a5a3-33bcee096237",
   "metadata": {},
   "outputs": [],
   "source": []
  },
  {
   "cell_type": "code",
   "execution_count": null,
   "id": "e6c73163-9f47-48f1-a6db-b7ecfebab731",
   "metadata": {},
   "outputs": [],
   "source": []
  },
  {
   "cell_type": "markdown",
   "id": "de394b0c-ba85-4235-b3aa-6069bdf1ccd6",
   "metadata": {},
   "source": [
    "## 2-a)"
   ]
  },
  {
   "cell_type": "markdown",
   "id": "0c7d2ed7-7e40-4774-a32e-3e4a652de5d9",
   "metadata": {},
   "source": [
    "Schreiben Sie eine Klasse für die geometrische Figur Kreis. \n",
    "Der Kreis soll mit einem gültigen Radius initialisiert werden. \n",
    "Wenn der Benutzer nichts übergibt, dann soll der Radius auf $1$ gesetzt werden. \n",
    "Wenn der Benutzer einen ungültigen Wert übergibt, soll der Radius ebenfalls auf $1$ gesetzt, der Benutzer darüber aber informiert (per `print-Ausgabe`) werden. \n",
    "Weiters soll der *Umfang* und die *Fläche* des Kreises mit je einer Methode berechnet werden können (benützen Sie die Konstante `math.pi`). \n",
    "Die Methode gibt das Ergebnis an den Aufrufer zurück.\n",
    "\n",
    "Implementieren Sie die speziellen Methoden `__lt__(self,other)` (ein Kreis soll in unserem Fall dann kleiner als ein anderer sein, wenn sein Radius kleiner ist) und `__str__(self)` (geben Sie etwas wie \"Kreis(4.9)\" (natürlich tatsächlichen Radius einsetzen) am Bildschirm aus).\n",
    "Zum Testen der Klasse erzeugen Sie einen Default-Kreis und vier andere Kreise mit Radius Ihrer Wahl. \n",
    "Geben Sie die Kreise in eine Liste, sortieren Sie diese und geben Sie jeden Kreis und seinen Umfang danach am Bildschirm aus (in einer Zeile pro Datensatz).\n"
   ]
  },
  {
   "cell_type": "code",
   "execution_count": 43,
   "id": "f828b6ce-e520-46c9-9d4f-38900910b538",
   "metadata": {},
   "outputs": [],
   "source": [
    "import math\n",
    "\n",
    "class Circle:\n",
    "    def __init__(self, radius = 1):\n",
    "        #self.radius = radius\n",
    "        if not type(radius) == float and not type(radius) == int:\n",
    "            print('Der Radius muss reell sein und er wird auf 1 gesetzt.')\n",
    "            self.radius = 1\n",
    "        elif radius < 0 :\n",
    "            print('Der Radius muss positiv sein.','standard r =1')\n",
    "            self.radius = 1\n",
    "        else:\n",
    "            self.radius = radius\n",
    "    \n",
    "    def __lt__(self, other):\n",
    "        return self.radius < other.radius\n",
    "        \n",
    "    def __str__(self):\n",
    "        return f'Kreis(Radius={self.radius})'\n",
    "\n",
    "    def calcArea(self): # Area(면적, 넓이 : Fläche)\n",
    "        area = math.pi * self.radius **2\n",
    "        return f'Flaeche : '+str(area)\n",
    "    \n",
    "    def calcCircum(self): # circumference(둘레: Umfang)\n",
    "        circum = math.pi * self.radius * 2\n",
    "        return f'Umfang : '+str(circum)"
   ]
  },
  {
   "cell_type": "code",
   "execution_count": 44,
   "id": "118294fd-e1dd-4b1f-933f-ade101e46729",
   "metadata": {},
   "outputs": [
    {
     "name": "stdout",
     "output_type": "stream",
     "text": [
      "Der Radius muss positiv sein. standard r =1\n"
     ]
    }
   ],
   "source": [
    "a = Circle(1)\n",
    "b = Circle(2)\n",
    "c = Circle(-2)"
   ]
  },
  {
   "cell_type": "code",
   "execution_count": 45,
   "id": "977381ce-ac38-4b8d-bb5f-0a34844bb695",
   "metadata": {},
   "outputs": [
    {
     "name": "stdout",
     "output_type": "stream",
     "text": [
      "Der Radius muss reell sein und er wird auf 1 gesetzt.\n"
     ]
    }
   ],
   "source": [
    "d = Circle(d)"
   ]
  },
  {
   "cell_type": "code",
   "execution_count": 46,
   "id": "0423ee52-f98b-4b98-b72c-9e7df5b44da0",
   "metadata": {},
   "outputs": [
    {
     "name": "stdout",
     "output_type": "stream",
     "text": [
      "Kreis(Radius=1)\n",
      "Kreis(Radius=2)\n",
      "Kreis(Radius=1)\n",
      "Kreis(Radius=1)\n"
     ]
    }
   ],
   "source": [
    "print(a)\n",
    "print(b)\n",
    "print(c)\n",
    "print(d)"
   ]
  },
  {
   "cell_type": "code",
   "execution_count": 48,
   "id": "da073ce5-2c29-4682-9e04-68dd095dfa72",
   "metadata": {},
   "outputs": [
    {
     "name": "stdout",
     "output_type": "stream",
     "text": [
      "Flaeche : 3.141592653589793\n",
      "Flaeche : 12.566370614359172\n",
      "Umfang : 6.283185307179586\n",
      "Umfang : 12.566370614359172\n"
     ]
    }
   ],
   "source": [
    "print(a.calcArea())\n",
    "print(b.calcArea())\n",
    "print(a.calcCircum())\n",
    "print(b.calcCircum())"
   ]
  },
  {
   "cell_type": "code",
   "execution_count": 49,
   "id": "851877cd-ea0d-49bb-b1f4-3c419ef14041",
   "metadata": {},
   "outputs": [
    {
     "name": "stdout",
     "output_type": "stream",
     "text": [
      "True\n"
     ]
    }
   ],
   "source": [
    "print(a<b)"
   ]
  },
  {
   "cell_type": "code",
   "execution_count": 50,
   "id": "69dd09ad-67ee-486b-9f30-e626d9aeb308",
   "metadata": {},
   "outputs": [
    {
     "name": "stdout",
     "output_type": "stream",
     "text": [
      "Kreis(Radius=1) Umfang= Umfang : 6.283185307179586\n",
      "Kreis(Radius=1) Umfang= Umfang : 6.283185307179586\n",
      "Kreis(Radius=2) Umfang= Umfang : 12.566370614359172\n",
      "Kreis(Radius=3) Umfang= Umfang : 18.84955592153876\n"
     ]
    }
   ],
   "source": [
    "e = Circle(1)\n",
    "f = Circle(2)\n",
    "g = Circle(3)\n",
    "h = Circle()\n",
    "\n",
    "l = [e,f,g,h]\n",
    "l.sort()\n",
    "\n",
    "for Circle in l:\n",
    "    print(Circle, 'Umfang=', Circle.calcCircum())"
   ]
  },
  {
   "cell_type": "code",
   "execution_count": 51,
   "id": "6f8a5eb0-6d8b-48e0-9586-9b1feaabe0dc",
   "metadata": {},
   "outputs": [
    {
     "name": "stdout",
     "output_type": "stream",
     "text": [
      "Kreis(Radius=1) Flaeche= Flaeche : 3.141592653589793\n",
      "Kreis(Radius=1) Flaeche= Flaeche : 3.141592653589793\n",
      "Kreis(Radius=2) Flaeche= Flaeche : 12.566370614359172\n",
      "Kreis(Radius=3) Flaeche= Flaeche : 28.274333882308138\n"
     ]
    }
   ],
   "source": [
    "for Circle in l:\n",
    "    print(Circle, 'Flaeche=', Circle.calcArea())"
   ]
  },
  {
   "cell_type": "code",
   "execution_count": null,
   "id": "416274e9-71fb-434a-9eeb-7cba6a4deaaa",
   "metadata": {},
   "outputs": [],
   "source": []
  },
  {
   "cell_type": "markdown",
   "id": "e647e796-3ca0-4c5f-897d-f6ee84918497",
   "metadata": {},
   "source": [
    "***"
   ]
  },
  {
   "cell_type": "markdown",
   "id": "72e2b3f9-736b-4a02-a3e6-790acaa4b8e5",
   "metadata": {},
   "source": [
    "### 3-a)"
   ]
  },
  {
   "cell_type": "markdown",
   "id": "00bfa5f4-c88b-4be0-aa66-608abc0ce3e5",
   "metadata": {},
   "source": [
    "Schreiben Sie zuerst eine Klasse für einen Vektor im $\\mathbb{R}^3$ mit Standardskalarprodukt.  Die Klasse Vektor wird aus drei Koordinaten initialisiert. Wenn nichts übergeben wird, soll ein Vektor $(0,0,0)$ konstruiert werden. Die Klasse soll außerdem Methoden für Addition $(Op. +)$, Subtraktion $(Op. -)$, Multiplikation (Mult. mit Skalar als Methode skalar und Skalarprodukt als Operator $*$), Kreuzprodukt und Betrag des Vektors enthalten. Weiters soll man abfragen können, ob es sich um einen Einheitsvektor bzw. einen Nullvektor handelt. Testen Sie die Methoden anhand von min. 3 Vektoren."
   ]
  },
  {
   "cell_type": "markdown",
   "id": "a74a8b47-54d7-4b20-b6a7-6ea80db29f2e",
   "metadata": {},
   "source": [
    "### Version 1."
   ]
  },
  {
   "cell_type": "code",
   "execution_count": 53,
   "id": "44ddf5f2-e3f8-479a-bd53-46d1b48176b5",
   "metadata": {},
   "outputs": [],
   "source": [
    "import math\n",
    "class Vector():\n",
    "    def __init__(self, x=0, y=0, z=0):\n",
    "        self.x = x\n",
    "        self.y = y\n",
    "        self.z = z\n",
    "        \n",
    "    def __add__(self, other):\n",
    "        return Vector(self.x + other.x, self.y + other.y, self.z + other.z)\n",
    "    \n",
    "    def __sub__(self, other):\n",
    "        return Vector(self.x - other.x, self.y - other.y, self.z - other.z)\n",
    "    \n",
    "    def mult_With_scalar(self, scalar):\n",
    "        return Vector(self.x * scalar, self.y * scalar, self.z * scalar)\n",
    "    \n",
    "    def __mul__(self, other):\n",
    "        return (self.x * other.x + self.y * other.y + self.z * other.z)\n",
    "            \n",
    "    def crossProduct(self, other):\n",
    "        x = self.y * other.z - self.z * other.y\n",
    "        y = self.z * other.x - self.x * other.z\n",
    "        z = self.x * other.y - self.y * other.x\n",
    "        return Vector(x, y, z)\n",
    "    \n",
    "    def abs(self):\n",
    "        return (self.x**2 + self.y**2 + self.z**2) ** 0.5\n",
    "    \n",
    "    def __str__(self): # 얘 없으면 math 함수 출력안됨\n",
    "        return 'vector('+str(self.x)+','+str(self.y)+','+str(self.z)+')'\n",
    "    \n",
    "    def unitVector(self):\n",
    "        return self.abs() == 1\n",
    "    \n",
    "    def zeroVector(self):\n",
    "        return self.x == self.y == self.z ==0"
   ]
  },
  {
   "cell_type": "code",
   "execution_count": 54,
   "id": "37bdc0b3-e82c-4624-b0b9-c5a78f46b426",
   "metadata": {},
   "outputs": [
    {
     "name": "stdout",
     "output_type": "stream",
     "text": [
      "vector(3,3,3)\n"
     ]
    }
   ],
   "source": [
    "a = Vector(1,1,1)\n",
    "b = Vector(2,2,2)\n",
    "c = a + b\n",
    "print(c)"
   ]
  },
  {
   "cell_type": "code",
   "execution_count": 55,
   "id": "483108d5-dcff-43b3-b4a2-4b7e1e613374",
   "metadata": {},
   "outputs": [
    {
     "name": "stdout",
     "output_type": "stream",
     "text": [
      "addition:  vector(1,1,1) + vector(2,2,2) = vector(3,3,3)\n",
      "subtraction:  vector(2,2,2) - vector(1,1,1) = vector(1,1,1)\n",
      "multiplication with scalar:  vector(1,1,1) * 3 = vector(3,3,3)\n",
      "scalar product:  vector(1,1,1) * vector(2,2,2) = 6\n",
      "vector product:  vector(1,1,1) x vector(2,2,2) = vector(0,0,0)\n",
      "absolute value:  vector(1,1,1) = 1.7320508075688772\n",
      "vector(1,0,0)  is an unit vector:  True\n",
      "vector(0,1,0)  is an unit vector:  True\n",
      "vector(0,0,1)  is an unit vector:  True\n",
      "vector(0,0,0)  is a zero vector:  True\n"
     ]
    }
   ],
   "source": [
    "v0 = Vector(0,0,0)\n",
    "v1 = Vector(1,1,1)\n",
    "v2 = Vector(2,2,2)\n",
    "v3 = Vector(1,0,0)\n",
    "v4 = Vector(0,1,0)\n",
    "v5 = Vector(0,0,1)\n",
    "\n",
    "print('addition: ', v1, '+' , v2, '=', v1+v2)\n",
    "print('subtraction: ', v2, '-', v1, '=', v2-v1)\n",
    "print('multiplication with scalar: ', v1, '*' , 3, '=', v1.mult_With_scalar(3))\n",
    "print('scalar product: ', v1, '*' , v2, '=', v1 * v2)\n",
    "print('vector product: ', v1, 'x' , v2, '=', v1.crossProduct(v2))\n",
    "print('absolute value: ',v1, '=', v1.abs())\n",
    "\n",
    "print(v3,' is an unit vector: ', v3.unitVector())\n",
    "print(v4,' is an unit vector: ', v4.unitVector())\n",
    "print(v5,' is an unit vector: ', v5.unitVector())\n",
    "print(v0,' is a zero vector: ', v0.zeroVector())"
   ]
  },
  {
   "cell_type": "markdown",
   "id": "919d878c-3cae-4636-acc0-69365a2f211a",
   "metadata": {},
   "source": [
    "**-------------------------------------**"
   ]
  },
  {
   "cell_type": "markdown",
   "id": "5cf104a6-96e6-4db4-b385-29b36989f24b",
   "metadata": {},
   "source": [
    "### Version 2."
   ]
  },
  {
   "cell_type": "code",
   "execution_count": 56,
   "id": "b9ae81b4-a2e2-4737-945f-d7c824586394",
   "metadata": {},
   "outputs": [],
   "source": [
    "import math\n",
    "\n",
    "class Vektor:\n",
    "    def __init__(self, x, y, z):\n",
    "        self.x = x\n",
    "        self.y = y\n",
    "        self.z = z\n",
    "        \n",
    "    def __add__(self, other):\n",
    "        return Vektor(self.x + other.x, self.y + other.y, self.z + other.z)"
   ]
  },
  {
   "cell_type": "code",
   "execution_count": 57,
   "id": "556fbb96-1ba8-48e7-9810-7127a43d85c1",
   "metadata": {},
   "outputs": [],
   "source": [
    "v1 = Vektor(4,5,6)\n",
    "v2 = Vektor(1,2,3)"
   ]
  },
  {
   "cell_type": "code",
   "execution_count": 58,
   "id": "9760f1a5-d353-4cab-9f40-2499a6f0a7de",
   "metadata": {},
   "outputs": [
    {
     "data": {
      "text/plain": [
       "<__main__.Vektor at 0x1cc83ffb700>"
      ]
     },
     "execution_count": 58,
     "metadata": {},
     "output_type": "execute_result"
    }
   ],
   "source": [
    "v1 + v2 # __str__이 없어서 밑에처럼 나옴"
   ]
  },
  {
   "cell_type": "code",
   "execution_count": 59,
   "id": "6b537980-c190-4f66-b602-ba82c87cd277",
   "metadata": {},
   "outputs": [],
   "source": [
    "import math\n",
    "\n",
    "class Vektor:\n",
    "    def __init__(self, x = 0, y = 0, z = 0):\n",
    "        self.x = x\n",
    "        self.y = y\n",
    "        self.z = z\n",
    "        \n",
    "    def __add__(self, other):\n",
    "        return Vektor(self.x + other.x, \n",
    "                      self.y + other.y, \n",
    "                      self.z + other.z)\n",
    "    \n",
    "    def __sub__(self, other):\n",
    "        return Vektor(self.x - other.x,\n",
    "                      self.y - other.y,\n",
    "                      self.z - other.z)\n",
    "    \n",
    "    def __mul__(self, other):\n",
    "        return self.x * other.x + self.y * other.y + self.z * other.z\n",
    "                        \n",
    "    def cross(self, other):\n",
    "        x = self.y * other.z - self.z * other.y\n",
    "        y = self.z * other.x - self.x * other.z\n",
    "        z = self.x * other.y - self.y * other.x\n",
    "        return Vektor(x,y,z)\n",
    "    \n",
    "    def abs(self):\n",
    "        return (self.x**2 + self.y**2 + self.z**2)**0.5\n",
    "            \n",
    "    def __str__(self):\n",
    "        return 'Vektor('+str(self.x)+','+str(self.y)+','+str(self.z)+ ')'\n",
    "\n",
    "# def __str__(self): # 얘 없으면 math 함수 출력안됨\n",
    "#         return 'vector('+str(self.x)+','+str(self.y)+','+str(self.z)+')' \n",
    "\n",
    "    def nullVektor(self):\n",
    "        return self.x == self.y == self.z == 0\n",
    "    \n",
    "    def einheitsVektor(self):\n",
    "        return self.abs() == 1"
   ]
  },
  {
   "cell_type": "code",
   "execution_count": 60,
   "id": "6468c140-6eb3-43ba-8f86-1a63797667e4",
   "metadata": {},
   "outputs": [],
   "source": [
    "v1 = Vektor(1,2,3)\n",
    "v2 = Vektor(1,1,1)\n",
    "v3 = Vektor(1,0,0)\n",
    "v4 = Vektor(0,1,0)\n",
    "v5 = Vektor(0,0,1)\n",
    "v6 = Vektor()"
   ]
  },
  {
   "cell_type": "code",
   "execution_count": 61,
   "id": "f3d4953d-f055-4758-a565-dd6dff4c207c",
   "metadata": {},
   "outputs": [
    {
     "data": {
      "text/plain": [
       "<__main__.Vektor at 0x1cc841bdb80>"
      ]
     },
     "execution_count": 61,
     "metadata": {},
     "output_type": "execute_result"
    }
   ],
   "source": [
    "v1 + v2"
   ]
  },
  {
   "cell_type": "code",
   "execution_count": 62,
   "id": "1470f811-239d-4ad7-8afb-8866ef91041e",
   "metadata": {},
   "outputs": [
    {
     "name": "stdout",
     "output_type": "stream",
     "text": [
      "Vektor(1,2,3)\n",
      "Vektor(0,0,0)\n"
     ]
    }
   ],
   "source": [
    "print(v1)\n",
    "print(v6)"
   ]
  },
  {
   "cell_type": "code",
   "execution_count": 63,
   "id": "ea503537-465e-44fc-8985-c73d44b62493",
   "metadata": {},
   "outputs": [
    {
     "name": "stdout",
     "output_type": "stream",
     "text": [
      "Vektor(2,3,4)\n",
      "Vektor(2,3,4)\n",
      "Vektor(0,1,2)\n",
      "6\n"
     ]
    }
   ],
   "source": [
    "u1 = v1 + v2\n",
    "u2 = v1 - v2\n",
    "u3 = v1 * v2\n",
    "print(u1)\n",
    "print(v1 +v2)\n",
    "print(u2)\n",
    "print(u3)"
   ]
  },
  {
   "cell_type": "code",
   "execution_count": 68,
   "id": "dde415a4-773c-46d8-a2d2-a1bfca6c2e08",
   "metadata": {},
   "outputs": [
    {
     "name": "stdout",
     "output_type": "stream",
     "text": [
      "v1 X v2 :  Vektor(-1,2,-1)\n",
      "|v1| :  3.7416573867739413\n"
     ]
    }
   ],
   "source": [
    "u4 = v1.cross(v2)\n",
    "u5 = v1.abs()\n",
    "print('v1 X v2 : ',u4)\n",
    "print('|v1| : ',u5)"
   ]
  },
  {
   "cell_type": "code",
   "execution_count": 65,
   "id": "5d6e9595-16a3-40b1-a971-140aa3bf4f25",
   "metadata": {},
   "outputs": [
    {
     "name": "stdout",
     "output_type": "stream",
     "text": [
      "Vektor(-1,2,-1)\n"
     ]
    }
   ],
   "source": [
    "u4 = v1.cross(v2)\n",
    "print(u4)"
   ]
  },
  {
   "cell_type": "code",
   "execution_count": 69,
   "id": "dff710b9-264b-4ff2-aef6-fa9543db1b7f",
   "metadata": {},
   "outputs": [],
   "source": [
    "v3 = Vektor(1,0,0)\n",
    "v4 = Vektor(0,1,0)\n",
    "v5 = Vektor(0,0,1)\n",
    "v6 = Vektor()"
   ]
  },
  {
   "cell_type": "code",
   "execution_count": 70,
   "id": "024b7b78-d5f2-49ad-b21a-15e575abe392",
   "metadata": {},
   "outputs": [
    {
     "data": {
      "text/plain": [
       "(1.0, 1.0, 1.0, 0.0)"
      ]
     },
     "execution_count": 70,
     "metadata": {},
     "output_type": "execute_result"
    }
   ],
   "source": [
    "v3.abs(), v4.abs(), v5.abs(), v6.abs()"
   ]
  },
  {
   "cell_type": "code",
   "execution_count": 71,
   "id": "31f7c4f0-7c37-473d-affe-1415ae121854",
   "metadata": {},
   "outputs": [
    {
     "data": {
      "text/plain": [
       "(False, True)"
      ]
     },
     "execution_count": 71,
     "metadata": {},
     "output_type": "execute_result"
    }
   ],
   "source": [
    "v3.nullVektor(), v6.nullVektor()"
   ]
  },
  {
   "cell_type": "code",
   "execution_count": 72,
   "id": "622645f3-a333-4cd6-ad84-c583e13c0a8d",
   "metadata": {},
   "outputs": [
    {
     "data": {
      "text/plain": [
       "(True, True, True)"
      ]
     },
     "execution_count": 72,
     "metadata": {},
     "output_type": "execute_result"
    }
   ],
   "source": [
    "v3.einheitsVektor(), v4.einheitsVektor(),v5.einheitsVektor()"
   ]
  },
  {
   "cell_type": "code",
   "execution_count": null,
   "id": "3d6b4996-1bdd-4d0c-acd4-f40ab81d62ea",
   "metadata": {},
   "outputs": [],
   "source": []
  },
  {
   "cell_type": "markdown",
   "id": "fc9836ce-edfb-4836-9c52-3cc64d9069ed",
   "metadata": {},
   "source": [
    "***"
   ]
  },
  {
   "cell_type": "markdown",
   "id": "ef0872cf-4727-4ea0-98c0-b7dbf5c3501b",
   "metadata": {},
   "source": [
    "## 3-b)"
   ]
  },
  {
   "cell_type": "markdown",
   "id": "fe067ba4-fe8c-4359-8bc4-352d0c8f3b2d",
   "metadata": {},
   "source": [
    "Schreiben Sie nun auch eine Klasse Punkt und eine Klasse Gerade.\n",
    "Die Klasse Punkt wird nur aus den drei Koordinaten $x, y$ und $z$ initialisiert. Wenn nichts übergeben wird, bekommt man den Punkt $(0,0,0)$.\n",
    "Die Klasse Gerade soll in Parameterdarstellung angelegt werden können, d.h. indem man einen Punkt und einen Vektor übergibt. <br>\n",
    "\n",
    "Schreiben Sie Methoden, die überprüfen, ob ein Punkt auf der Geraden liegt bzw. wie groß der Abstand eines Punktes von der Geraden ist.\n",
    "Alle drei Klassen müssen mit `__str__(self)` sinnvoll am Bildschirm ausgebbar sein. <br>\n",
    "\n",
    "Überlegen Sie sich selbst eine gute Darstellung analog zu den bisher kennengelernten Klassen.\n",
    "Zuletzt schreiben Sie nun einen Code, der überprüft, ob die Punkte $(1,2,3)$ und $(6,5,5)$ auf der Geraden $(2,3,1)+t*(2,1,2)$ liegt und eine entsprechende Ausgabe am Bildschirm tätigt!"
   ]
  },
  {
   "cell_type": "markdown",
   "id": "61e784ee-01d7-4470-9d9b-a09e5292d909",
   "metadata": {},
   "source": [
    "[video: Punkt liegt auf der Gerade](https://www.youtube.com/watch?v=xzIC2Z72NYw) <br>\n",
    "[video: Punkt liegt auf der Gerade2](https://www.youtube.com/watch?v=tO-L1d9nrIM) <br>\n",
    "[video: Punkt, Gerade Abstand](https://de.serlo.org/mathe/2137/abstand-eines-punktes-zu-einer-geraden-berechnen-analytische-geometrie)                \n",
    "[video: Abstand Punkt Gerade](https://studyflix.de/mathematik/abstand-punkt-gerade-2006)                           "
   ]
  },
  {
   "cell_type": "code",
   "execution_count": 73,
   "id": "d444d4e0-967b-4014-8fb7-0f20d3f0cdc6",
   "metadata": {},
   "outputs": [],
   "source": [
    "class Point(Vektor):\n",
    "    def __init__(self, x = 0, y = 0, z = 0):\n",
    "        super().__init__()\n",
    "        self.pt = x,y,z\n",
    "        \n",
    "    def __str__(self):\n",
    "        return 'Point'+str(self.pt)"
   ]
  },
  {
   "cell_type": "code",
   "execution_count": 74,
   "id": "1ef8a5c4-5dc4-4134-866b-63f5e8db716c",
   "metadata": {},
   "outputs": [
    {
     "name": "stdout",
     "output_type": "stream",
     "text": [
      "Point(0, 0, 0)\n",
      "Point(1, 2, 3)\n",
      "Point(4, 5, 0)\n"
     ]
    }
   ],
   "source": [
    "p1 = Point()\n",
    "p2 = Point(1,2,3)\n",
    "p3 = Point(4,5)\n",
    "\n",
    "print(p1)\n",
    "print(p2)\n",
    "print(p3)"
   ]
  },
  {
   "cell_type": "markdown",
   "id": "c6e472dc-1610-4c11-8bad-7999ba405a93",
   "metadata": {},
   "source": [
    "###  $$g : \\vec{x} = s + t*r$$\n",
    "\n",
    "g = Gerade <br>\n",
    "s = Stützvektor <br>\n",
    "t = Parameter <br>\n",
    "r = Richtungsvektor"
   ]
  },
  {
   "cell_type": "code",
   "execution_count": 75,
   "id": "0f5e7437-6c58-492b-8c40-c5ae3598c170",
   "metadata": {},
   "outputs": [],
   "source": [
    "\n",
    "class Line(Point):\n",
    "    def __init__(self, P, V):\n",
    "        super().__init__()\n",
    "        self.P = P\n",
    "        self.V = V\n",
    "        \n",
    "    def __str__(self):\n",
    "        return f'g: x = {self.P} + t * {self.V}'"
   ]
  },
  {
   "cell_type": "code",
   "execution_count": 76,
   "id": "545b8e9c-97ff-454b-9d65-decbbc86385f",
   "metadata": {},
   "outputs": [
    {
     "name": "stdout",
     "output_type": "stream",
     "text": [
      "g: x = (2, 3, 1) + t * (2, 1, 2)\n"
     ]
    }
   ],
   "source": [
    "s = (2,3,1)\n",
    "r = (2,1,2)\n",
    "g = Line(s,r)\n",
    "print(g)"
   ]
  },
  {
   "cell_type": "markdown",
   "id": "fdacd449-c2b7-4117-b228-f7be194f307b",
   "metadata": {},
   "source": [
    "[참고사이트](http://www.studyhelp.de/online-lernen/mathe/abstand-punkt-gerade/)"
   ]
  },
  {
   "cell_type": "code",
   "execution_count": 77,
   "id": "6884715f-b8d0-49d3-b403-5a6c1ef6aae1",
   "metadata": {},
   "outputs": [],
   "source": [
    "class Point2(Vektor):\n",
    "    def __init__(self, x = 0, y = 0, z = 0):\n",
    "        self.x = x\n",
    "        self.y = y\n",
    "        self.z = z\n",
    "        \n",
    "    def __str__(self):\n",
    "        return 'Point' + str(self,xyz)\n",
    "\n",
    "class Line2(Point):\n",
    "    def __init__(self, P, V):\n",
    "        self.P = P\n",
    "        self.V = V\n",
    "        \n",
    "    # def __str__(self):\n",
    "    #     return f'g: x = {self.P} + t * {self.V}'\n",
    "    \n",
    "    # 버젼1\n",
    "    # def online(self,Q):\n",
    "    #     return not(Q-P).cross(V).abs()\n",
    "        \n",
    "    def dist(self,Q):\n",
    "        return (Q-P).cross(V).abs()/V.abs()\n",
    "    \n",
    "    #버젼2\n",
    "    def online(self, Q):\n",
    "        if self.dist(Q) == 0:\n",
    "            return True\n",
    "        else:\n",
    "            return False "
   ]
  },
  {
   "cell_type": "code",
   "execution_count": 78,
   "id": "7c026014-4acc-4371-a7c0-54a0fbffaaf9",
   "metadata": {},
   "outputs": [],
   "source": [
    "P = Point2(2,3,1)\n",
    "V = Vektor(2,1,2)\n",
    "G = Line2(P,V)\n",
    "\n",
    "P1 = Point2(1,2,3)\n",
    "P2 = Point2(6,5,5)"
   ]
  },
  {
   "cell_type": "code",
   "execution_count": 79,
   "id": "a0ca8324-ccb5-4912-b77e-04a6c722a5d6",
   "metadata": {},
   "outputs": [
    {
     "data": {
      "text/plain": [
       "(False, 2.4267032964268394)"
      ]
     },
     "execution_count": 79,
     "metadata": {},
     "output_type": "execute_result"
    }
   ],
   "source": [
    "G.online(P1),G.dist(P1)"
   ]
  },
  {
   "cell_type": "code",
   "execution_count": 80,
   "id": "8c699f41-c76e-4a58-a989-52e0642c619d",
   "metadata": {},
   "outputs": [
    {
     "data": {
      "text/plain": [
       "(True, 0.0)"
      ]
     },
     "execution_count": 80,
     "metadata": {},
     "output_type": "execute_result"
    }
   ],
   "source": [
    "G.online(P2),G.dist(P2)"
   ]
  },
  {
   "cell_type": "code",
   "execution_count": 81,
   "id": "79ffdb10-9338-43cb-adec-702baa1e0df9",
   "metadata": {},
   "outputs": [
    {
     "data": {
      "text/plain": [
       "(False, 2.23606797749979)"
      ]
     },
     "execution_count": 81,
     "metadata": {},
     "output_type": "execute_result"
    }
   ],
   "source": [
    "G.online(Point(5,5,5)),G.dist(Point(5,5,5))"
   ]
  },
  {
   "cell_type": "code",
   "execution_count": null,
   "id": "3104963b-26b1-4334-8691-8a6edd432bfc",
   "metadata": {},
   "outputs": [],
   "source": []
  },
  {
   "cell_type": "markdown",
   "id": "28c5d53e-6295-4b98-8b6a-2034b037d4a1",
   "metadata": {},
   "source": [
    "***"
   ]
  },
  {
   "cell_type": "markdown",
   "id": "2032cfa0-0089-4e16-a9eb-05048d19a78c",
   "metadata": {},
   "source": [
    "## 4"
   ]
  },
  {
   "cell_type": "markdown",
   "id": "1dfc4004-b8e2-4877-9d88-3ecbd172c2ae",
   "metadata": {},
   "source": [
    "Schreiben Sie eine beliebige Klasse Ihrer Wahl mit Konstruktor und mindestens $5$ Methoden, wovon eine Methode die Objekte sinnvoll am Bildschirm ausgeben (d.h. `str` überladen) und noch ein weiterer *Operator* überladen werden soll. \n",
    "Weiters sollen die Attribute auf Default-Werte gesetzt werden, außer der Nutzer übergibt andere. \n",
    "Kreieren Sie schlußendlich mehrere Objekte Ihrer Klasse mit unterschiedlichen Attributen und testen Sie Ihre Methoden. "
   ]
  },
  {
   "cell_type": "code",
   "execution_count": 92,
   "id": "bcbfbca4-970b-48e9-b717-3f6c8853aa91",
   "metadata": {},
   "outputs": [],
   "source": [
    "class Coffee:\n",
    "    def __init__(self, espresso = 1, water = 0, milk = 0, charge = 0):\n",
    "        self.espresso = espresso\n",
    "        self.water = water\n",
    "        self.milk = milk\n",
    "        self.charge = charge\n",
    "     \n",
    "    def __str__(self):\n",
    "        return f' espresso: {self.espresso} shot \\n water: {self.water} ml\\n milk: {self.milk} ml'\n",
    "    \n",
    "    def shot(self):\n",
    "        n = int(input('how many shots?: '))\n",
    "        s = n * (self.espresso)\n",
    "        print(f' espresso: {s} shot ')\n",
    "        print(f' water: {self.water} ml\\n milk: {self.milk} ml')\n",
    "        \n",
    "    def portion(self):\n",
    "        n = int(input('how many people?: '))\n",
    "        s = n * (self.espresso)\n",
    "        w = n * (self.water)\n",
    "        m = n * (self.milk)\n",
    "        print(f' espresso: {s} shot ')\n",
    "        print(f' water: {w} ml ')\n",
    "        print(f' milk: {m} ml ')\n",
    "        \n",
    "    def decaf(self, d):\n",
    "        print(f' espresso: 0 \\n Decaffeinated espresso: {d} shot')\n",
    "        \n",
    "    def take_away(self):\n",
    "        n = input('with own bottle?: ')\n",
    "        if n == 'y':\n",
    "            c1 = self.charge + 0.5\n",
    "            print(f'discount: -{c1} €')\n",
    "        else:\n",
    "            c2 = self.charge + 1.0\n",
    "            print(f'bottle deposit: +{c2} €')"
   ]
  },
  {
   "cell_type": "code",
   "execution_count": 93,
   "id": "1e1a2479-1c74-48e8-babb-7420722536f7",
   "metadata": {},
   "outputs": [],
   "source": [
    "espresso = Coffee()\n",
    "americano = Coffee(1,300)\n",
    "cafelatte = Coffee(2,0,350)"
   ]
  },
  {
   "cell_type": "code",
   "execution_count": 94,
   "id": "3f261930-c880-41e7-889f-b1c1fb3b0d63",
   "metadata": {},
   "outputs": [
    {
     "name": "stdout",
     "output_type": "stream",
     "text": [
      " espresso: 1 shot \n",
      " water: 0 ml\n",
      " milk: 0 ml\n"
     ]
    }
   ],
   "source": [
    "print(espresso)"
   ]
  },
  {
   "cell_type": "code",
   "execution_count": 95,
   "id": "4c7aa61f-1b55-4e1e-98a4-7ef96735cac2",
   "metadata": {},
   "outputs": [
    {
     "name": "stdout",
     "output_type": "stream",
     "text": [
      " espresso: 1 shot \n",
      " water: 300 ml\n",
      " milk: 0 ml\n"
     ]
    }
   ],
   "source": [
    "print(americano)"
   ]
  },
  {
   "cell_type": "code",
   "execution_count": 96,
   "id": "c7e2a078-2372-4fce-b507-8fc6b3a20e23",
   "metadata": {},
   "outputs": [
    {
     "name": "stdout",
     "output_type": "stream",
     "text": [
      " espresso: 2 shot \n",
      " water: 0 ml\n",
      " milk: 350 ml\n"
     ]
    }
   ],
   "source": [
    "print(cafelatte)"
   ]
  },
  {
   "cell_type": "code",
   "execution_count": 97,
   "id": "148fe379-0119-49a1-beb2-d6a3a7031ba1",
   "metadata": {},
   "outputs": [
    {
     "name": "stdin",
     "output_type": "stream",
     "text": [
      "how many shots?:  2\n"
     ]
    },
    {
     "name": "stdout",
     "output_type": "stream",
     "text": [
      " espresso: 2 shot \n",
      " water: 300 ml\n",
      " milk: 0 ml\n"
     ]
    }
   ],
   "source": [
    "americano2 = Coffee(1,300)\n",
    "americano2.shot()"
   ]
  },
  {
   "cell_type": "code",
   "execution_count": 98,
   "id": "fccf67d1-aa36-4f8e-97f7-1ce280f94763",
   "metadata": {},
   "outputs": [
    {
     "name": "stdin",
     "output_type": "stream",
     "text": [
      "how many people?:  3\n"
     ]
    },
    {
     "name": "stdout",
     "output_type": "stream",
     "text": [
      " espresso: 3 shot \n",
      " water: 900 ml \n",
      " milk: 0 ml \n"
     ]
    }
   ],
   "source": [
    "americano2.portion()"
   ]
  },
  {
   "cell_type": "code",
   "execution_count": 89,
   "id": "c73b0162-db5c-4cf1-9b3e-85cc08101362",
   "metadata": {},
   "outputs": [
    {
     "name": "stdout",
     "output_type": "stream",
     "text": [
      " espresso: 0 \n",
      " Decaffeinated espresso: 1 shot\n"
     ]
    }
   ],
   "source": [
    "americano2 = Coffee(1,300)\n",
    "americano2.decaf(1)"
   ]
  },
  {
   "cell_type": "code",
   "execution_count": 90,
   "id": "3fd44425-408b-4df5-9baf-9bfb15802bc5",
   "metadata": {},
   "outputs": [
    {
     "name": "stdout",
     "output_type": "stream",
     "text": [
      " espresso: 2 shot \n",
      " water: 0 ml\n",
      " milk: 300 ml\n",
      " espresso: 0 \n",
      " Decaffeinated espresso: 2 shot\n"
     ]
    }
   ],
   "source": [
    "cafelatte2 = Coffee(2,0,300)\n",
    "print(cafelatte2)\n",
    "cafelatte2.decaf(2)"
   ]
  },
  {
   "cell_type": "code",
   "execution_count": 99,
   "id": "1d85171b-650c-4938-b30e-454379d9cd46",
   "metadata": {},
   "outputs": [
    {
     "name": "stdin",
     "output_type": "stream",
     "text": [
      "with own bottle?:  y\n"
     ]
    },
    {
     "name": "stdout",
     "output_type": "stream",
     "text": [
      "discount: -0.5 €\n"
     ]
    }
   ],
   "source": [
    "cafelatte2 = Coffee(2,0,300)\n",
    "cafelatte2.take_away()"
   ]
  },
  {
   "cell_type": "code",
   "execution_count": 101,
   "id": "59f0e468-89af-4f78-87c1-f485adf87ae2",
   "metadata": {},
   "outputs": [],
   "source": [
    "#### -------"
   ]
  },
  {
   "cell_type": "code",
   "execution_count": 102,
   "id": "d7e8e382-c347-4162-aaa8-1ccbc8229c5a",
   "metadata": {},
   "outputs": [
    {
     "name": "stdout",
     "output_type": "stream",
     "text": [
      " espresso: 1 shot \n",
      " water: 0 ml\n",
      " milk: 300 ml\n"
     ]
    }
   ],
   "source": [
    "jay = Coffee(1,0,300)\n",
    "print(jay)"
   ]
  },
  {
   "cell_type": "code",
   "execution_count": 103,
   "id": "c17d918a-f9b7-4e9d-9189-cfb15261fe8d",
   "metadata": {},
   "outputs": [
    {
     "name": "stdin",
     "output_type": "stream",
     "text": [
      "how many shots?:  2\n"
     ]
    },
    {
     "name": "stdout",
     "output_type": "stream",
     "text": [
      " espresso: 2 shot \n",
      " water: 0 ml\n",
      " milk: 300 ml\n"
     ]
    }
   ],
   "source": [
    "jay.shot()"
   ]
  },
  {
   "cell_type": "code",
   "execution_count": 104,
   "id": "6ddb76ec-757e-47a2-8cbc-47fc09aed1a9",
   "metadata": {},
   "outputs": [
    {
     "name": "stdin",
     "output_type": "stream",
     "text": [
      "how many people?:  2\n"
     ]
    },
    {
     "name": "stdout",
     "output_type": "stream",
     "text": [
      " espresso: 2 shot \n",
      " water: 0 ml \n",
      " milk: 600 ml \n"
     ]
    }
   ],
   "source": [
    "jay.portion()"
   ]
  },
  {
   "cell_type": "code",
   "execution_count": 105,
   "id": "6309af06-9e39-4bdf-b1ae-f9c17240b191",
   "metadata": {},
   "outputs": [
    {
     "name": "stdout",
     "output_type": "stream",
     "text": [
      " espresso: 0 \n",
      " Decaffeinated espresso: 2 shot\n"
     ]
    }
   ],
   "source": [
    "jay.decaf(2)"
   ]
  },
  {
   "cell_type": "code",
   "execution_count": 106,
   "id": "64be9311-c5fc-4564-89a1-620d46b8f0d4",
   "metadata": {},
   "outputs": [
    {
     "name": "stdin",
     "output_type": "stream",
     "text": [
      "with own bottle?:  n\n"
     ]
    },
    {
     "name": "stdout",
     "output_type": "stream",
     "text": [
      "bottle deposit: +1.0 €\n"
     ]
    }
   ],
   "source": [
    "jay.take_away()"
   ]
  },
  {
   "cell_type": "code",
   "execution_count": null,
   "id": "a7f1f78a-870e-4176-a66b-a18d5ce47988",
   "metadata": {},
   "outputs": [],
   "source": []
  },
  {
   "cell_type": "markdown",
   "id": "c1a4d5a0-61f7-4e0a-809d-2e51ac8d49e8",
   "metadata": {},
   "source": [
    "***"
   ]
  },
  {
   "cell_type": "markdown",
   "id": "732df93c-831b-44ed-b9a1-2d32fa04c8aa",
   "metadata": {},
   "source": [
    "### Bonus1. 직사각형 클래스"
   ]
  },
  {
   "cell_type": "code",
   "execution_count": 107,
   "id": "248dcb38-39f6-4c0a-9070-06317b73f585",
   "metadata": {},
   "outputs": [],
   "source": [
    "class Rect:\n",
    "    def __init__(self, width, height):\n",
    "        if width <= 0 or height <= 0:\n",
    "            print('Width and height cannot be negative.')\n",
    "        self.width = width\n",
    "        self.height = height\n",
    "        \n",
    "    def __str__(self):\n",
    "        return f'Rechteck mit Breite:{self.width} und Hoehe:{self.height}'\n",
    "        \n",
    "    def area(self):\n",
    "        return 'Flaeche:' + str(self.width * self.height)\n",
    "    \n",
    "    def circum(self):\n",
    "        return f'Umfang: {2 * (self.width + self.height)}'\n",
    "    \n",
    "    def __lt__(self, other):\n",
    "        return self.area() < other.area()\n",
    "    "
   ]
  },
  {
   "cell_type": "code",
   "execution_count": 108,
   "id": "a19efb15-1c66-4dd0-9b4f-00c4d0b282ad",
   "metadata": {},
   "outputs": [],
   "source": [
    "recht1 = Rect(2,3)\n",
    "recht2 = Rect(3,4)"
   ]
  },
  {
   "cell_type": "code",
   "execution_count": 109,
   "id": "e7a8aa9c-d7c1-4f5f-8436-3b710fb2b79e",
   "metadata": {},
   "outputs": [
    {
     "name": "stdout",
     "output_type": "stream",
     "text": [
      "Rechteck mit Breite:2 und Hoehe:3\n",
      "Rechteck mit Breite:3 und Hoehe:4\n"
     ]
    }
   ],
   "source": [
    "print(recht1)\n",
    "print(recht2)"
   ]
  },
  {
   "cell_type": "code",
   "execution_count": 110,
   "id": "f2c8481e-584c-4704-8a1f-807895a70134",
   "metadata": {},
   "outputs": [
    {
     "name": "stdout",
     "output_type": "stream",
     "text": [
      "Flaeche:6\n",
      "Umfang: 10\n"
     ]
    }
   ],
   "source": [
    "print(recht1.area())\n",
    "print(recht1.circum())"
   ]
  },
  {
   "cell_type": "code",
   "execution_count": 111,
   "id": "0e73fe1c-41b5-4b29-ac17-72a6bef81a59",
   "metadata": {},
   "outputs": [
    {
     "name": "stdout",
     "output_type": "stream",
     "text": [
      "Flaeche:12\n",
      "Umfang: 14\n"
     ]
    }
   ],
   "source": [
    "print(recht2.area())\n",
    "print(recht2.circum())"
   ]
  },
  {
   "cell_type": "code",
   "execution_count": 112,
   "id": "bc6ff658-de61-421d-9657-1183dccc2fd6",
   "metadata": {},
   "outputs": [
    {
     "data": {
      "text/plain": [
       "True"
      ]
     },
     "execution_count": 112,
     "metadata": {},
     "output_type": "execute_result"
    }
   ],
   "source": [
    "recht2 < recht1"
   ]
  },
  {
   "cell_type": "code",
   "execution_count": 113,
   "id": "a1691337-79e9-4ba8-a8af-5e9e44ae4e05",
   "metadata": {},
   "outputs": [],
   "source": [
    "## 위에 안맞느네...."
   ]
  },
  {
   "cell_type": "code",
   "execution_count": null,
   "id": "eb714743-5e37-4c61-88dc-0974501c4825",
   "metadata": {},
   "outputs": [],
   "source": []
  }
 ],
 "metadata": {
  "kernelspec": {
   "display_name": "Python 3 (ipykernel)",
   "language": "python",
   "name": "python3"
  },
  "language_info": {
   "codemirror_mode": {
    "name": "ipython",
    "version": 3
   },
   "file_extension": ".py",
   "mimetype": "text/x-python",
   "name": "python",
   "nbconvert_exporter": "python",
   "pygments_lexer": "ipython3",
   "version": "3.9.10"
  }
 },
 "nbformat": 4,
 "nbformat_minor": 5
}
