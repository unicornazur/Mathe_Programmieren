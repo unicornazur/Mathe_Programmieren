{
 "cells": [
  {
   "cell_type": "code",
   "execution_count": null,
   "id": "49ed9c04-8bd8-4a0c-9b58-ed67642d4ee9",
   "metadata": {},
   "outputs": [],
   "source": []
  },
  {
   "cell_type": "markdown",
   "id": "d23ffaa3-e947-4a1c-9f1d-a92fc77524d3",
   "metadata": {},
   "source": [
    "# Beispiele zu Termin 3"
   ]
  },
  {
   "cell_type": "markdown",
   "id": "0ee57f4f-2cf7-4a98-84d3-bbed5beac93a",
   "metadata": {},
   "source": [
    "## 1"
   ]
  },
  {
   "cell_type": "markdown",
   "id": "a5cac37f-79d2-4d5f-b62e-695d60449ad8",
   "metadata": {},
   "source": [
    "Erstellen Sie zwei Vektoren $a$ und $b$, die die Zahlen ${0,2,4,6,8}$ enthalten, auf zwei Arten: einmal mit *arange* und einmal mit *linspace*. "
   ]
  },
  {
   "cell_type": "code",
   "execution_count": 1,
   "id": "dd9d69db-70d5-4feb-af6b-204548d73b58",
   "metadata": {},
   "outputs": [],
   "source": [
    "import numpy as np"
   ]
  },
  {
   "cell_type": "code",
   "execution_count": 14,
   "id": "13d4a2bc-0e20-47e0-a67a-5162412fd7cd",
   "metadata": {},
   "outputs": [
    {
     "name": "stdout",
     "output_type": "stream",
     "text": [
      "vector a =  [0 2 4 6 8]\n",
      "vector b =  [0. 2. 4. 6. 8.]\n"
     ]
    }
   ],
   "source": [
    "a = np.arange(0,10,2)\n",
    "b = np.linspace(0,8,5)\n",
    "print('vector a = ', a)\n",
    "print('vector b = ', b)"
   ]
  },
  {
   "cell_type": "markdown",
   "id": "77eec69b-8ea3-4b8b-b2d7-7249f2fe2cdf",
   "metadata": {},
   "source": [
    "Setzen Sie dann den ersten Eintrag in $b$ auf $1$ und geben Sie beide Vektoren aus. "
   ]
  },
  {
   "cell_type": "code",
   "execution_count": 15,
   "id": "b078f780-6b6e-4531-830d-dab4e5996fa4",
   "metadata": {},
   "outputs": [
    {
     "name": "stdout",
     "output_type": "stream",
     "text": [
      "new vector b =  [1. 2. 4. 6. 8.]\n"
     ]
    }
   ],
   "source": [
    "b[0] = 1\n",
    "print('new vector b = ', b)"
   ]
  },
  {
   "cell_type": "markdown",
   "id": "939b6743-0b2c-4fd4-82aa-93f23b1922f6",
   "metadata": {},
   "source": [
    "Berechnen Sie nun das innere Produkt $⟨a,b⟩$ und $M=a∗b^{T}$ und geben Sie das Resultat und jeweils die resultierende Dimension aus (Achtung: zur Erstellung von M müssen Sie die Vektoren $a$ und $b$ als Matrizen auffassen, zB mit `np.asmatrix())`.  "
   ]
  },
  {
   "cell_type": "code",
   "execution_count": 16,
   "id": "d76623b0-b264-4a45-ba06-3b84a133fe58",
   "metadata": {},
   "outputs": [
    {
     "data": {
      "text/plain": [
       "(120.0, 120.0, 120.0)"
      ]
     },
     "execution_count": 16,
     "metadata": {},
     "output_type": "execute_result"
    }
   ],
   "source": [
    "i1 = a.dot(b)\n",
    "i2 = np.dot(a,b)\n",
    "i3 = a @ b\n",
    "i1, i2, i3"
   ]
  },
  {
   "cell_type": "code",
   "execution_count": 17,
   "id": "3f2cee21-05ab-47a3-91c4-907620d06366",
   "metadata": {},
   "outputs": [
    {
     "data": {
      "text/plain": [
       "True"
      ]
     },
     "execution_count": 17,
     "metadata": {},
     "output_type": "execute_result"
    }
   ],
   "source": [
    "i1 == i2 == i3"
   ]
  },
  {
   "cell_type": "code",
   "execution_count": 18,
   "id": "13dc059d-a772-4973-9a2e-f2fa464c5dce",
   "metadata": {},
   "outputs": [
    {
     "name": "stdout",
     "output_type": "stream",
     "text": [
      "inner Produkt <a,b> =  120.0\n"
     ]
    }
   ],
   "source": [
    "print('inner Produkt <a,b> = ', i1)"
   ]
  },
  {
   "cell_type": "code",
   "execution_count": 71,
   "id": "4f06d325-4fdf-4d89-b341-e82d8de873f1",
   "metadata": {},
   "outputs": [
    {
     "name": "stdout",
     "output_type": "stream",
     "text": [
      "Matrix a = [[0 2 4 6 8]]\n",
      "Matrix b = [[1. 2. 4. 6. 8.]]\n"
     ]
    }
   ],
   "source": [
    "a = np.asmatrix(a) # A = matrix a\n",
    "b = np.asmatrix(b) # B = matrix b\n",
    "\n",
    "print('Matrix a =', a)\n",
    "print('Matrix b =', b)"
   ]
  },
  {
   "cell_type": "code",
   "execution_count": null,
   "id": "18ab43f0-ef97-47de-b716-12115d722a0b",
   "metadata": {},
   "outputs": [],
   "source": []
  },
  {
   "cell_type": "code",
   "execution_count": 75,
   "id": "b32f5eed-8fe1-4188-aa81-9f2481277982",
   "metadata": {},
   "outputs": [
    {
     "name": "stdout",
     "output_type": "stream",
     "text": [
      "transpotiert b = \n",
      "[[1.]\n",
      " [2.]\n",
      " [4.]\n",
      " [6.]\n",
      " [8.]]\n"
     ]
    }
   ],
   "source": [
    "bt = np.transpose(b) #  == b.T\n",
    "print('transpotiert b = \\n'+ str(bt))"
   ]
  },
  {
   "cell_type": "code",
   "execution_count": 78,
   "id": "03e5b611-5eb7-4564-aeb8-491c48af15f4",
   "metadata": {},
   "outputs": [
    {
     "data": {
      "text/plain": [
       "matrix([[120.]])"
      ]
     },
     "execution_count": 78,
     "metadata": {},
     "output_type": "execute_result"
    }
   ],
   "source": [
    "M = a * bt\n",
    "M"
   ]
  },
  {
   "cell_type": "code",
   "execution_count": 52,
   "id": "78fcb3bf-12d7-46ea-82ce-94ada94fe78d",
   "metadata": {},
   "outputs": [
    {
     "name": "stdout",
     "output_type": "stream",
     "text": [
      "Matrix M = \n",
      "[[ 0.  0.  0.  0.  0.]\n",
      " [ 2.  4.  8. 12. 16.]\n",
      " [ 4.  8. 16. 24. 32.]\n",
      " [ 6. 12. 24. 36. 48.]\n",
      " [ 8. 16. 32. 48. 64.]]\n"
     ]
    }
   ],
   "source": [
    "# M = np.outer(A,bt)   # == M = A * Bt : 크로스곱. 외적\n",
    "# print('Matrix M = \\n'+str(M)) "
   ]
  },
  {
   "cell_type": "code",
   "execution_count": null,
   "id": "69b6aeb7-14c1-47b9-ad2a-c633f5163e2f",
   "metadata": {},
   "outputs": [],
   "source": [
    "M = A *"
   ]
  },
  {
   "cell_type": "code",
   "execution_count": 44,
   "id": "46209f57-15fd-4239-bb56-a5923701bb6e",
   "metadata": {},
   "outputs": [
    {
     "name": "stdout",
     "output_type": "stream",
     "text": [
      "Dimension M = (5, 5)\n"
     ]
    }
   ],
   "source": [
    "dim_M = np.shape(M)\n",
    "print('Dimension M =', dim_M)"
   ]
  },
  {
   "cell_type": "code",
   "execution_count": 45,
   "id": "37fc2eb5-1153-42cf-abc1-c68150f853e1",
   "metadata": {},
   "outputs": [
    {
     "name": "stdout",
     "output_type": "stream",
     "text": [
      "Dimension <a,b> = ()\n"
     ]
    }
   ],
   "source": [
    "N = i1 # i1 = a.dot(b)\n",
    "dim_N = np.shape(N)\n",
    "print('Dimension <a,b> =', dim_N)"
   ]
  },
  {
   "cell_type": "code",
   "execution_count": null,
   "id": "81eeb144-40be-4891-ae86-4ff408202cd0",
   "metadata": {},
   "outputs": [],
   "source": []
  },
  {
   "cell_type": "markdown",
   "id": "0722ffe8-56b6-46f8-9be6-2f4bad7a9299",
   "metadata": {},
   "source": [
    "Ersetzen Sie durch ausprobieren die Diagonale von $M$ nun so, dass das Gleichungssystem $Mx=b$ lösbar ist."
   ]
  },
  {
   "cell_type": "code",
   "execution_count": 47,
   "id": "bb012a5a-055a-4118-b0a8-ae50d2b0cc50",
   "metadata": {},
   "outputs": [
    {
     "ename": "LinAlgError",
     "evalue": "Singular matrix",
     "output_type": "error",
     "traceback": [
      "\u001b[1;31m---------------------------------------------------------------------------\u001b[0m",
      "\u001b[1;31mLinAlgError\u001b[0m                               Traceback (most recent call last)",
      "\u001b[1;32m~\\AppData\\Local\\Temp\\ipykernel_13504\\2399817966.py\u001b[0m in \u001b[0;36m<module>\u001b[1;34m\u001b[0m\n\u001b[1;32m----> 1\u001b[1;33m \u001b[0mx\u001b[0m \u001b[1;33m=\u001b[0m \u001b[0mnp\u001b[0m\u001b[1;33m.\u001b[0m\u001b[0mlinalg\u001b[0m\u001b[1;33m.\u001b[0m\u001b[0msolve\u001b[0m\u001b[1;33m(\u001b[0m\u001b[0mM\u001b[0m\u001b[1;33m,\u001b[0m\u001b[0mb\u001b[0m\u001b[1;33m)\u001b[0m\u001b[1;33m\u001b[0m\u001b[1;33m\u001b[0m\u001b[0m\n\u001b[0m\u001b[0;32m      2\u001b[0m \u001b[0mx\u001b[0m\u001b[1;33m\u001b[0m\u001b[1;33m\u001b[0m\u001b[0m\n",
      "\u001b[1;32m<__array_function__ internals>\u001b[0m in \u001b[0;36msolve\u001b[1;34m(*args, **kwargs)\u001b[0m\n",
      "\u001b[1;32m~\\Desktop\\WinPython\\WPy64-39100\\python-3.9.10.amd64\\lib\\site-packages\\numpy\\linalg\\linalg.py\u001b[0m in \u001b[0;36msolve\u001b[1;34m(a, b)\u001b[0m\n\u001b[0;32m    391\u001b[0m     \u001b[0msignature\u001b[0m \u001b[1;33m=\u001b[0m \u001b[1;34m'DD->D'\u001b[0m \u001b[1;32mif\u001b[0m \u001b[0misComplexType\u001b[0m\u001b[1;33m(\u001b[0m\u001b[0mt\u001b[0m\u001b[1;33m)\u001b[0m \u001b[1;32melse\u001b[0m \u001b[1;34m'dd->d'\u001b[0m\u001b[1;33m\u001b[0m\u001b[1;33m\u001b[0m\u001b[0m\n\u001b[0;32m    392\u001b[0m     \u001b[0mextobj\u001b[0m \u001b[1;33m=\u001b[0m \u001b[0mget_linalg_error_extobj\u001b[0m\u001b[1;33m(\u001b[0m\u001b[0m_raise_linalgerror_singular\u001b[0m\u001b[1;33m)\u001b[0m\u001b[1;33m\u001b[0m\u001b[1;33m\u001b[0m\u001b[0m\n\u001b[1;32m--> 393\u001b[1;33m     \u001b[0mr\u001b[0m \u001b[1;33m=\u001b[0m \u001b[0mgufunc\u001b[0m\u001b[1;33m(\u001b[0m\u001b[0ma\u001b[0m\u001b[1;33m,\u001b[0m \u001b[0mb\u001b[0m\u001b[1;33m,\u001b[0m \u001b[0msignature\u001b[0m\u001b[1;33m=\u001b[0m\u001b[0msignature\u001b[0m\u001b[1;33m,\u001b[0m \u001b[0mextobj\u001b[0m\u001b[1;33m=\u001b[0m\u001b[0mextobj\u001b[0m\u001b[1;33m)\u001b[0m\u001b[1;33m\u001b[0m\u001b[1;33m\u001b[0m\u001b[0m\n\u001b[0m\u001b[0;32m    394\u001b[0m \u001b[1;33m\u001b[0m\u001b[0m\n\u001b[0;32m    395\u001b[0m     \u001b[1;32mreturn\u001b[0m \u001b[0mwrap\u001b[0m\u001b[1;33m(\u001b[0m\u001b[0mr\u001b[0m\u001b[1;33m.\u001b[0m\u001b[0mastype\u001b[0m\u001b[1;33m(\u001b[0m\u001b[0mresult_t\u001b[0m\u001b[1;33m,\u001b[0m \u001b[0mcopy\u001b[0m\u001b[1;33m=\u001b[0m\u001b[1;32mFalse\u001b[0m\u001b[1;33m)\u001b[0m\u001b[1;33m)\u001b[0m\u001b[1;33m\u001b[0m\u001b[1;33m\u001b[0m\u001b[0m\n",
      "\u001b[1;32m~\\Desktop\\WinPython\\WPy64-39100\\python-3.9.10.amd64\\lib\\site-packages\\numpy\\linalg\\linalg.py\u001b[0m in \u001b[0;36m_raise_linalgerror_singular\u001b[1;34m(err, flag)\u001b[0m\n\u001b[0;32m     86\u001b[0m \u001b[1;33m\u001b[0m\u001b[0m\n\u001b[0;32m     87\u001b[0m \u001b[1;32mdef\u001b[0m \u001b[0m_raise_linalgerror_singular\u001b[0m\u001b[1;33m(\u001b[0m\u001b[0merr\u001b[0m\u001b[1;33m,\u001b[0m \u001b[0mflag\u001b[0m\u001b[1;33m)\u001b[0m\u001b[1;33m:\u001b[0m\u001b[1;33m\u001b[0m\u001b[1;33m\u001b[0m\u001b[0m\n\u001b[1;32m---> 88\u001b[1;33m     \u001b[1;32mraise\u001b[0m \u001b[0mLinAlgError\u001b[0m\u001b[1;33m(\u001b[0m\u001b[1;34m\"Singular matrix\"\u001b[0m\u001b[1;33m)\u001b[0m\u001b[1;33m\u001b[0m\u001b[1;33m\u001b[0m\u001b[0m\n\u001b[0m\u001b[0;32m     89\u001b[0m \u001b[1;33m\u001b[0m\u001b[0m\n\u001b[0;32m     90\u001b[0m \u001b[1;32mdef\u001b[0m \u001b[0m_raise_linalgerror_nonposdef\u001b[0m\u001b[1;33m(\u001b[0m\u001b[0merr\u001b[0m\u001b[1;33m,\u001b[0m \u001b[0mflag\u001b[0m\u001b[1;33m)\u001b[0m\u001b[1;33m:\u001b[0m\u001b[1;33m\u001b[0m\u001b[1;33m\u001b[0m\u001b[0m\n",
      "\u001b[1;31mLinAlgError\u001b[0m: Singular matrix"
     ]
    }
   ],
   "source": [
    "x = np.linalg.solve(M,b)\n",
    "x #오류생김"
   ]
  },
  {
   "cell_type": "code",
   "execution_count": 64,
   "id": "4988612f-229b-470b-ba87-3925e331d806",
   "metadata": {},
   "outputs": [],
   "source": [
    "from numpy.linalg import det   #이거 해야함"
   ]
  },
  {
   "cell_type": "code",
   "execution_count": 56,
   "id": "037fcba2-b701-4d2a-b2fe-c6ed52ec3d92",
   "metadata": {},
   "outputs": [
    {
     "data": {
      "text/plain": [
       "-499808.0"
      ]
     },
     "execution_count": 56,
     "metadata": {},
     "output_type": "execute_result"
    }
   ],
   "source": [
    "# M[np.diag_indices_from(M)] = 2\n",
    "# np.linalg.det(M)"
   ]
  },
  {
   "cell_type": "code",
   "execution_count": 68,
   "id": "dbe4ab83-ccdf-4af5-a2b4-f0d4479e5910",
   "metadata": {},
   "outputs": [
    {
     "name": "stdout",
     "output_type": "stream",
     "text": [
      "[0.5        0.11809335 0.03374096 0.02084    0.01523785]\n"
     ]
    }
   ],
   "source": [
    "x = np.linalg.solve(M,b)\n",
    "print(x)"
   ]
  },
  {
   "cell_type": "code",
   "execution_count": null,
   "id": "fbd3894a-8143-4d13-8ced-14b6b001ab54",
   "metadata": {},
   "outputs": [],
   "source": []
  },
  {
   "cell_type": "code",
   "execution_count": null,
   "id": "006c4a14-d4ce-40b7-a5b2-f27f4e75f3eb",
   "metadata": {},
   "outputs": [],
   "source": []
  },
  {
   "cell_type": "markdown",
   "id": "f646c610-9669-49f8-bde4-3890eb3a469e",
   "metadata": {},
   "source": [
    "## 2-a)"
   ]
  },
  {
   "cell_type": "markdown",
   "id": "50e8355c-9aae-4e3a-a66b-d3f31b43a50f",
   "metadata": {},
   "source": [
    "Definieren Sie zunächst eine Funktion, die die Matrix \n",
    "$$ A_{x} = \\begin{pmatrix} 1 - \\cos x & \\sin x \\\\ \\sin x & 1 + \\cos x \\end{pmatrix}$$\n",
    "für beliebige $x$ erstellt und zurückgibt. "
   ]
  },
  {
   "cell_type": "code",
   "execution_count": 10,
   "id": "8640c89f-15b1-4d7f-9c8c-8f0b8db6620e",
   "metadata": {},
   "outputs": [],
   "source": [
    "import numpy as np"
   ]
  },
  {
   "cell_type": "code",
   "execution_count": 11,
   "id": "efba07dd-e26d-4b87-9275-865c11646453",
   "metadata": {},
   "outputs": [],
   "source": [
    "def A_x(x):\n",
    "    a1 = 1 - np.cos(x)\n",
    "    a2 = np.sin(x)\n",
    "    a3 = 1 + np.cos(x)\n",
    "    \n",
    "    A = np.array([[a1, a2],[a2,a3]])\n",
    "    return A"
   ]
  },
  {
   "cell_type": "code",
   "execution_count": 12,
   "id": "8c790bc9-b998-4d63-b366-70b27014f13f",
   "metadata": {},
   "outputs": [
    {
     "data": {
      "text/plain": [
       "array([[0., 0.],\n",
       "       [0., 2.]])"
      ]
     },
     "execution_count": 12,
     "metadata": {},
     "output_type": "execute_result"
    }
   ],
   "source": [
    "A_x(0) #확인용"
   ]
  },
  {
   "cell_type": "code",
   "execution_count": 13,
   "id": "02026611-5868-4f4b-a422-62a541f78b53",
   "metadata": {},
   "outputs": [
    {
     "data": {
      "text/plain": [
       "array([[1.44807362, 0.89399666],\n",
       "       [0.89399666, 0.55192638]])"
      ]
     },
     "execution_count": 13,
     "metadata": {},
     "output_type": "execute_result"
    }
   ],
   "source": [
    "A_x(90)"
   ]
  },
  {
   "cell_type": "code",
   "execution_count": 14,
   "id": "9e2c15cf-4fac-4654-8a43-81bba6539e30",
   "metadata": {},
   "outputs": [
    {
     "data": {
      "text/plain": [
       "array([[1., 1.],\n",
       "       [1., 1.]])"
      ]
     },
     "execution_count": 14,
     "metadata": {},
     "output_type": "execute_result"
    }
   ],
   "source": [
    "A_x(np.pi/2)"
   ]
  },
  {
   "cell_type": "markdown",
   "id": "e5c175da-1ce8-4570-a5d8-364362f3c640",
   "metadata": {},
   "source": [
    "Schreiben Sie eine weitere Funktion `potenzen`, die $A^{n}_{x}$ numerisch für beliebige $n$ berechnet, einmal mithilfe von `matrix_power(A,power)` aus dem Untermodul `linalg` und einmal durch wiederholtes Anwenden von `dot`. \n",
    "Die Funktion soll beide Matrizen zurückgeben. "
   ]
  },
  {
   "cell_type": "code",
   "execution_count": 15,
   "id": "cb59e272-3708-40fb-be89-663a09ffb10b",
   "metadata": {},
   "outputs": [],
   "source": [
    "def potenzen(x,n):\n",
    "    A = A_x(x)\n",
    "    M1 = np.linalg.matrix_power(A,n)\n",
    "    \n",
    "    M2 = A.copy()\n",
    "    for i in range(n-1):\n",
    "        M2 = M2.dot(A)\n",
    "    \n",
    "    return M1, M2 "
   ]
  },
  {
   "cell_type": "code",
   "execution_count": 16,
   "id": "64a13e2a-c7e2-4a7c-b1c8-658271bbfafa",
   "metadata": {},
   "outputs": [
    {
     "data": {
      "text/plain": [
       "(array([[0., 0.],\n",
       "        [0., 8.]]),\n",
       " array([[0., 0.],\n",
       "        [0., 8.]]))"
      ]
     },
     "execution_count": 16,
     "metadata": {},
     "output_type": "execute_result"
    }
   ],
   "source": [
    "potenzen(0,3) #확인용 A_0^3"
   ]
  },
  {
   "cell_type": "code",
   "execution_count": 17,
   "id": "bae82ad7-88ae-47a0-8446-2c59dcfa1c7d",
   "metadata": {},
   "outputs": [
    {
     "data": {
      "text/plain": [
       "(array([[ 0.03982971, -0.2794155 ],\n",
       "        [-0.2794155 ,  1.96017029]]),\n",
       " array([[ 0.03982971, -0.2794155 ],\n",
       "        [-0.2794155 ,  1.96017029]]))"
      ]
     },
     "execution_count": 17,
     "metadata": {},
     "output_type": "execute_result"
    }
   ],
   "source": [
    "potenzen(6,1) #확인용 A_6^1"
   ]
  },
  {
   "cell_type": "markdown",
   "id": "e784c96a-3824-4b30-8bc1-47e1e7aa76db",
   "metadata": {},
   "source": [
    " Verwenden Sie nun den Befehl `np.finfo(np.float64).eps` um sich die *Maschinengenauigkeit* anzusehen mit welcher die Einträge abgespeichert sind."
   ]
  },
  {
   "cell_type": "code",
   "execution_count": 18,
   "id": "92f7d9d1-bddf-4962-880f-b196778c1dd0",
   "metadata": {},
   "outputs": [
    {
     "data": {
      "text/plain": [
       "2.220446049250313e-16"
      ]
     },
     "execution_count": 18,
     "metadata": {},
     "output_type": "execute_result"
    }
   ],
   "source": [
    "np.finfo(np.float64).eps"
   ]
  },
  {
   "cell_type": "markdown",
   "id": "8b263e56-6a84-4779-9482-9cad9d23dc16",
   "metadata": {},
   "source": [
    "Vergleichen Sie dann für $x=6$ und $n=2,…,30$ auf wieviele Nachkommastellen die beiden Berechnungen gleich sind (vergleichen Sie hierfür bis zur *Maschinengenauigkeit*)."
   ]
  },
  {
   "cell_type": "code",
   "execution_count": 19,
   "id": "2efe251a-0d5b-4583-95dc-75d1050cc36c",
   "metadata": {},
   "outputs": [
    {
     "name": "stdout",
     "output_type": "stream",
     "text": [
      "Matrix A_power with x = 6, n = 2 \n",
      " [[ 0.07965943 -0.558831  ]\n",
      " [-0.558831    3.92034057]]\n",
      "Matrix A_dot with x = 6, n = 2 \n",
      " [[ 0.07965943 -0.558831  ]\n",
      " [-0.558831    3.92034057]] \n",
      "-----------\n",
      "Matrix A_power with x = 6, n = 3 \n",
      " [[ 0.15931885 -1.11766199]\n",
      " [-1.11766199  7.84068115]]\n",
      "Matrix A_dot with x = 6, n = 3 \n",
      " [[ 0.15931885 -1.11766199]\n",
      " [-1.11766199  7.84068115]] \n",
      "-----------\n",
      "Matrix A_power with x = 6, n = 4 \n",
      " [[ 0.31863771 -2.23532399]\n",
      " [-2.23532399 15.68136229]]\n",
      "Matrix A_dot with x = 6, n = 4 \n",
      " [[ 0.31863771 -2.23532399]\n",
      " [-2.23532399 15.68136229]] \n",
      "-----------\n",
      "Matrix A_power with x = 6, n = 5 \n",
      " [[ 0.63727541 -4.47064797]\n",
      " [-4.47064797 31.36272459]]\n",
      "Matrix A_dot with x = 6, n = 5 \n",
      " [[ 0.63727541 -4.47064797]\n",
      " [-4.47064797 31.36272459]] \n",
      "-----------\n",
      "Matrix A_power with x = 6, n = 6 \n",
      " [[ 1.27455083 -8.94129594]\n",
      " [-8.94129594 62.72544917]]\n",
      "Matrix A_dot with x = 6, n = 6 \n",
      " [[ 1.27455083 -8.94129594]\n",
      " [-8.94129594 62.72544917]] \n",
      "-----------\n",
      "Matrix A_power with x = 6, n = 7 \n",
      " [[  2.54910165 -17.88259188]\n",
      " [-17.88259188 125.45089835]]\n",
      "Matrix A_dot with x = 6, n = 7 \n",
      " [[  2.54910165 -17.88259188]\n",
      " [-17.88259188 125.45089835]] \n",
      "-----------\n",
      "Matrix A_power with x = 6, n = 8 \n",
      " [[  5.09820331 -35.76518377]\n",
      " [-35.76518377 250.90179669]]\n",
      "Matrix A_dot with x = 6, n = 8 \n",
      " [[  5.09820331 -35.76518377]\n",
      " [-35.76518377 250.90179669]] \n",
      "-----------\n",
      "Matrix A_power with x = 6, n = 9 \n",
      " [[ 10.19640662 -71.53036754]\n",
      " [-71.53036754 501.80359338]]\n",
      "Matrix A_dot with x = 6, n = 9 \n",
      " [[ 10.19640662 -71.53036754]\n",
      " [-71.53036754 501.80359338]] \n",
      "-----------\n",
      "Matrix A_power with x = 6, n = 10 \n",
      " [[  20.39281324 -143.06073508]\n",
      " [-143.06073508 1003.60718676]]\n",
      "Matrix A_dot with x = 6, n = 10 \n",
      " [[  20.39281324 -143.06073508]\n",
      " [-143.06073508 1003.60718676]] \n",
      "-----------\n",
      "Matrix A_power with x = 6, n = 11 \n",
      " [[  40.78562647 -286.12147016]\n",
      " [-286.12147016 2007.21437353]]\n",
      "Matrix A_dot with x = 6, n = 11 \n",
      " [[  40.78562647 -286.12147016]\n",
      " [-286.12147016 2007.21437353]] \n",
      "-----------\n",
      "Matrix A_power with x = 6, n = 12 \n",
      " [[  81.57125294 -572.24294031]\n",
      " [-572.24294031 4014.42874706]]\n",
      "Matrix A_dot with x = 6, n = 12 \n",
      " [[  81.57125294 -572.24294031]\n",
      " [-572.24294031 4014.42874706]] \n",
      "-----------\n",
      "Matrix A_power with x = 6, n = 13 \n",
      " [[  163.14250588 -1144.48588062]\n",
      " [-1144.48588062  8028.85749412]]\n",
      "Matrix A_dot with x = 6, n = 13 \n",
      " [[  163.14250588 -1144.48588062]\n",
      " [-1144.48588062  8028.85749412]] \n",
      "-----------\n",
      "Matrix A_power with x = 6, n = 14 \n",
      " [[  326.28501176 -2288.97176125]\n",
      " [-2288.97176125 16057.71498824]]\n",
      "Matrix A_dot with x = 6, n = 14 \n",
      " [[  326.28501176 -2288.97176125]\n",
      " [-2288.97176125 16057.71498824]] \n",
      "-----------\n",
      "Matrix A_power with x = 6, n = 15 \n",
      " [[  652.57002352 -4577.94352249]\n",
      " [-4577.94352249 32115.42997648]]\n",
      "Matrix A_dot with x = 6, n = 15 \n",
      " [[  652.57002352 -4577.94352249]\n",
      " [-4577.94352249 32115.42997648]] \n",
      "-----------\n",
      "Matrix A_power with x = 6, n = 16 \n",
      " [[ 1305.14004704 -9155.88704498]\n",
      " [-9155.88704498 64230.85995296]]\n",
      "Matrix A_dot with x = 6, n = 16 \n",
      " [[ 1305.14004704 -9155.88704498]\n",
      " [-9155.88704498 64230.85995296]] \n",
      "-----------\n",
      "Matrix A_power with x = 6, n = 17 \n",
      " [[  2610.28009408 -18311.77408996]\n",
      " [-18311.77408996 128461.71990592]]\n",
      "Matrix A_dot with x = 6, n = 17 \n",
      " [[  2610.28009408 -18311.77408996]\n",
      " [-18311.77408996 128461.71990592]] \n",
      "-----------\n",
      "Matrix A_power with x = 6, n = 18 \n",
      " [[  5220.56018816 -36623.54817993]\n",
      " [-36623.54817993 256923.43981184]]\n",
      "Matrix A_dot with x = 6, n = 18 \n",
      " [[  5220.56018816 -36623.54817993]\n",
      " [-36623.54817993 256923.43981184]] \n",
      "-----------\n",
      "Matrix A_power with x = 6, n = 19 \n",
      " [[ 10441.12037633 -73247.09635986]\n",
      " [-73247.09635986 513846.87962367]]\n",
      "Matrix A_dot with x = 6, n = 19 \n",
      " [[ 10441.12037633 -73247.09635986]\n",
      " [-73247.09635986 513846.87962367]] \n",
      "-----------\n",
      "Matrix A_power with x = 6, n = 20 \n",
      " [[  20882.24075265 -146494.19271972]\n",
      " [-146494.19271972 1027693.75924735]]\n",
      "Matrix A_dot with x = 6, n = 20 \n",
      " [[  20882.24075265 -146494.19271972]\n",
      " [-146494.19271972 1027693.75924735]] \n",
      "-----------\n",
      "Matrix A_power with x = 6, n = 21 \n",
      " [[  41764.48150531 -292988.38543944]\n",
      " [-292988.38543944 2055387.51849469]]\n",
      "Matrix A_dot with x = 6, n = 21 \n",
      " [[  41764.48150531 -292988.38543944]\n",
      " [-292988.38543944 2055387.51849469]] \n",
      "-----------\n",
      "Matrix A_power with x = 6, n = 22 \n",
      " [[  83528.96301061 -585976.77087887]\n",
      " [-585976.77087887 4110775.03698939]]\n",
      "Matrix A_dot with x = 6, n = 22 \n",
      " [[  83528.96301061 -585976.77087887]\n",
      " [-585976.77087887 4110775.03698939]] \n",
      "-----------\n",
      "Matrix A_power with x = 6, n = 23 \n",
      " [[  167057.92602122 -1171953.54175775]\n",
      " [-1171953.54175775  8221550.07397878]]\n",
      "Matrix A_dot with x = 6, n = 23 \n",
      " [[  167057.92602122 -1171953.54175774]\n",
      " [-1171953.54175775  8221550.07397878]] \n",
      "-----------\n",
      "Matrix A_power with x = 6, n = 24 \n",
      " [[  334115.85204245 -2343907.08351549]\n",
      " [-2343907.08351549 16443100.14795755]]\n",
      "Matrix A_dot with x = 6, n = 24 \n",
      " [[  334115.85204245 -2343907.08351549]\n",
      " [-2343907.0835155  16443100.14795755]] \n",
      "-----------\n",
      "Matrix A_power with x = 6, n = 25 \n",
      " [[  668231.70408489 -4687814.16703099]\n",
      " [-4687814.16703099 32886200.2959151 ]]\n",
      "Matrix A_dot with x = 6, n = 25 \n",
      " [[  668231.70408489 -4687814.16703097]\n",
      " [-4687814.16703099 32886200.2959151 ]] \n",
      "-----------\n",
      "Matrix A_power with x = 6, n = 26 \n",
      " [[ 1336463.40816978 -9375628.33406198]\n",
      " [-9375628.33406197 65772400.5918302 ]]\n",
      "Matrix A_dot with x = 6, n = 26 \n",
      " [[ 1336463.40816978 -9375628.33406194]\n",
      " [-9375628.33406198 65772400.59183021]] \n",
      "-----------\n",
      "Matrix A_power with x = 6, n = 27 \n",
      " [[ 2.67292682e+06 -1.87512567e+07]\n",
      " [-1.87512567e+07  1.31544801e+08]]\n",
      "Matrix A_dot with x = 6, n = 27 \n",
      " [[ 2.67292682e+06 -1.87512567e+07]\n",
      " [-1.87512567e+07  1.31544801e+08]] \n",
      "-----------\n",
      "Matrix A_power with x = 6, n = 28 \n",
      " [[ 5.34585363e+06 -3.75025133e+07]\n",
      " [-3.75025133e+07  2.63089602e+08]]\n",
      "Matrix A_dot with x = 6, n = 28 \n",
      " [[ 5.34585363e+06 -3.75025133e+07]\n",
      " [-3.75025133e+07  2.63089602e+08]] \n",
      "-----------\n",
      "Matrix A_power with x = 6, n = 29 \n",
      " [[ 1.06917073e+07 -7.50050267e+07]\n",
      " [-7.50050267e+07  5.26179205e+08]]\n",
      "Matrix A_dot with x = 6, n = 29 \n",
      " [[ 1.06917073e+07 -7.50050267e+07]\n",
      " [-7.50050267e+07  5.26179205e+08]] \n",
      "-----------\n",
      "Matrix A_power with x = 6, n = 30 \n",
      " [[ 2.13834145e+07 -1.50010053e+08]\n",
      " [-1.50010053e+08  1.05235841e+09]]\n",
      "Matrix A_dot with x = 6, n = 30 \n",
      " [[ 2.13834145e+07 -1.50010053e+08]\n",
      " [-1.50010053e+08  1.05235841e+09]] \n",
      "-----------\n"
     ]
    }
   ],
   "source": [
    "for i in np.arange(2,31):\n",
    "    A_power, A_dot = potenzen(6,i)\n",
    "    \n",
    "    print('Matrix A_power with x = 6, n =', i, '\\n', A_power)\n",
    "    print('Matrix A_dot with x = 6, n =', i, '\\n', A_dot, '\\n-----------')"
   ]
  },
  {
   "cell_type": "markdown",
   "id": "bc143bee-984b-4822-9fc3-2fe79439e80e",
   "metadata": {},
   "source": [
    "### 2-b)"
   ]
  },
  {
   "cell_type": "markdown",
   "id": "0a6db9a1-6771-437f-8b65-001626fd2e84",
   "metadata": {},
   "source": [
    "Berechnen Sie $A^{n}_{6}$ für $n=1,…,4.$"
   ]
  },
  {
   "cell_type": "code",
   "execution_count": 20,
   "id": "737ebe41-dff8-44a4-8578-5a934c431b78",
   "metadata": {},
   "outputs": [
    {
     "name": "stdout",
     "output_type": "stream",
     "text": [
      "Matrix A_power with x = 6, n = 1 \n",
      " [[ 0.03982971 -0.2794155 ]\n",
      " [-0.2794155   1.96017029]]\n",
      "Matrix A_dot with x = 6, n = 1 \n",
      " [[ 0.03982971 -0.2794155 ]\n",
      " [-0.2794155   1.96017029]] \n",
      "-----------\n",
      "Matrix A_power with x = 6, n = 2 \n",
      " [[ 0.07965943 -0.558831  ]\n",
      " [-0.558831    3.92034057]]\n",
      "Matrix A_dot with x = 6, n = 2 \n",
      " [[ 0.07965943 -0.558831  ]\n",
      " [-0.558831    3.92034057]] \n",
      "-----------\n",
      "Matrix A_power with x = 6, n = 3 \n",
      " [[ 0.15931885 -1.11766199]\n",
      " [-1.11766199  7.84068115]]\n",
      "Matrix A_dot with x = 6, n = 3 \n",
      " [[ 0.15931885 -1.11766199]\n",
      " [-1.11766199  7.84068115]] \n",
      "-----------\n",
      "Matrix A_power with x = 6, n = 4 \n",
      " [[ 0.31863771 -2.23532399]\n",
      " [-2.23532399 15.68136229]]\n",
      "Matrix A_dot with x = 6, n = 4 \n",
      " [[ 0.31863771 -2.23532399]\n",
      " [-2.23532399 15.68136229]] \n",
      "-----------\n"
     ]
    }
   ],
   "source": [
    "for n in np.arange(1,5):\n",
    "    A_power, A_dot = potenzen(6,n)\n",
    "    \n",
    "    print('Matrix A_power with x = 6, n =', n, '\\n', A_power)\n",
    "    print('Matrix A_dot with x = 6, n =', n, '\\n', A_dot, '\\n-----------')"
   ]
  },
  {
   "cell_type": "code",
   "execution_count": null,
   "id": "1d987ffb-8a1d-42c2-adba-95c9f342a92b",
   "metadata": {},
   "outputs": [],
   "source": []
  },
  {
   "cell_type": "markdown",
   "id": "ba46516f-5bb1-48a9-9098-3b8c64dc4fb5",
   "metadata": {},
   "source": [
    "Untersuchen sie nun genauso die Matrix $B_{x}= \\frac{1}{2}A_{x}$, was fällt Ihnen dabei auf? "
   ]
  },
  {
   "cell_type": "code",
   "execution_count": 22,
   "id": "13eb4bcb-2896-4596-b898-48e142562201",
   "metadata": {},
   "outputs": [],
   "source": [
    "\n",
    "def potenzen_B(x,n):\n",
    "    B = 0.5 * A_x(x)\n",
    "    M1 = np.linalg.matrix_power(B,n)\n",
    "    \n",
    "    M2 = B.copy()\n",
    "    for i in range(n-1):\n",
    "        M2 = M2.dot(B)\n",
    "    \n",
    "    return M1, M2 "
   ]
  },
  {
   "cell_type": "code",
   "execution_count": 23,
   "id": "db37c9b1-90d6-4c97-9a1c-2c57804d3438",
   "metadata": {},
   "outputs": [
    {
     "name": "stdout",
     "output_type": "stream",
     "text": [
      "Matrix B_power with x = 6, n = 1 \n",
      " [[ 0.01991486 -0.13970775]\n",
      " [-0.13970775  0.98008514]]\n",
      "Matrix B_dot with x = 6, n = 1 \n",
      " [[ 0.01991486 -0.13970775]\n",
      " [-0.13970775  0.98008514]] \n",
      "-----------\n",
      "Matrix B_power with x = 6, n = 2 \n",
      " [[ 0.01991486 -0.13970775]\n",
      " [-0.13970775  0.98008514]]\n",
      "Matrix B_dot with x = 6, n = 2 \n",
      " [[ 0.01991486 -0.13970775]\n",
      " [-0.13970775  0.98008514]] \n",
      "-----------\n",
      "Matrix B_power with x = 6, n = 3 \n",
      " [[ 0.01991486 -0.13970775]\n",
      " [-0.13970775  0.98008514]]\n",
      "Matrix B_dot with x = 6, n = 3 \n",
      " [[ 0.01991486 -0.13970775]\n",
      " [-0.13970775  0.98008514]] \n",
      "-----------\n",
      "Matrix B_power with x = 6, n = 4 \n",
      " [[ 0.01991486 -0.13970775]\n",
      " [-0.13970775  0.98008514]]\n",
      "Matrix B_dot with x = 6, n = 4 \n",
      " [[ 0.01991486 -0.13970775]\n",
      " [-0.13970775  0.98008514]] \n",
      "-----------\n"
     ]
    }
   ],
   "source": [
    "for n in np.arange(1,5):\n",
    "    B_power, B_dot = potenzen_B(6,n)\n",
    "    \n",
    "    print('Matrix B_power with x = 6, n =', n, '\\n', B_power)\n",
    "    print('Matrix B_dot with x = 6, n =', n, '\\n', B_dot, '\\n-----------')"
   ]
  },
  {
   "cell_type": "markdown",
   "id": "eca62a0a-ae60-4b40-8927-38e48d8b9c50",
   "metadata": {},
   "source": [
    "Belegen Sie Ihre Vermutung indem Sie $B_{x}$ und $B^{2}_{x}$ für einige verschiedene {x} berechnen."
   ]
  },
  {
   "cell_type": "code",
   "execution_count": 24,
   "id": "5d034b4b-7129-48ae-9bb1-08c36e2124bb",
   "metadata": {},
   "outputs": [
    {
     "name": "stdout",
     "output_type": "stream",
     "text": [
      "Matrix B_power with x = 6, n = 1 \n",
      " [[0.22984885 0.42073549]\n",
      " [0.42073549 0.77015115]]\n",
      "Matrix B_dot with x = 6, n = 1 \n",
      " [[0.22984885 0.42073549]\n",
      " [0.42073549 0.77015115]] \n",
      "-----------\n",
      "Matrix B_power with x = 6, n = 2 \n",
      " [[0.22984885 0.42073549]\n",
      " [0.42073549 0.77015115]]\n",
      "Matrix B_dot with x = 6, n = 2 \n",
      " [[0.22984885 0.42073549]\n",
      " [0.42073549 0.77015115]] \n",
      "-----------\n",
      "Matrix B_power with x = 6, n = 1 \n",
      " [[0.70807342 0.45464871]\n",
      " [0.45464871 0.29192658]]\n",
      "Matrix B_dot with x = 6, n = 1 \n",
      " [[0.70807342 0.45464871]\n",
      " [0.45464871 0.29192658]] \n",
      "-----------\n",
      "Matrix B_power with x = 6, n = 2 \n",
      " [[0.70807342 0.45464871]\n",
      " [0.45464871 0.29192658]]\n",
      "Matrix B_dot with x = 6, n = 2 \n",
      " [[0.70807342 0.45464871]\n",
      " [0.45464871 0.29192658]] \n",
      "-----------\n",
      "Matrix B_power with x = 6, n = 1 \n",
      " [[0.99499625 0.07056   ]\n",
      " [0.07056    0.00500375]]\n",
      "Matrix B_dot with x = 6, n = 1 \n",
      " [[0.99499625 0.07056   ]\n",
      " [0.07056    0.00500375]] \n",
      "-----------\n",
      "Matrix B_power with x = 6, n = 2 \n",
      " [[0.99499625 0.07056   ]\n",
      " [0.07056    0.00500375]]\n",
      "Matrix B_dot with x = 6, n = 2 \n",
      " [[0.99499625 0.07056   ]\n",
      " [0.07056    0.00500375]] \n",
      "-----------\n",
      "Matrix B_power with x = 6, n = 1 \n",
      " [[ 0.82682181 -0.37840125]\n",
      " [-0.37840125  0.17317819]]\n",
      "Matrix B_dot with x = 6, n = 1 \n",
      " [[ 0.82682181 -0.37840125]\n",
      " [-0.37840125  0.17317819]] \n",
      "-----------\n",
      "Matrix B_power with x = 6, n = 2 \n",
      " [[ 0.82682181 -0.37840125]\n",
      " [-0.37840125  0.17317819]]\n",
      "Matrix B_dot with x = 6, n = 2 \n",
      " [[ 0.82682181 -0.37840125]\n",
      " [-0.37840125  0.17317819]] \n",
      "-----------\n"
     ]
    }
   ],
   "source": [
    "for x in np.arange(1,5):\n",
    "    for n in np.arange(1,3):\n",
    "        B_power, B_dot = potenzen_B(x,n)\n",
    "        \n",
    "        print('Matrix B_power with x = 6, n =', n, '\\n', B_power)\n",
    "        print('Matrix B_dot with x = 6, n =', n, '\\n', B_dot, '\\n-----------')"
   ]
  },
  {
   "cell_type": "code",
   "execution_count": null,
   "id": "a44f298a-97c5-4def-8c15-cc409b236ea9",
   "metadata": {},
   "outputs": [],
   "source": []
  },
  {
   "cell_type": "markdown",
   "id": "121b6c3b-686b-4c3f-ab4e-d7cc26a16a2b",
   "metadata": {},
   "source": [
    "### 2-c)"
   ]
  },
  {
   "cell_type": "markdown",
   "id": "1cfd5b63-f84f-4684-80eb-5246d371b339",
   "metadata": {},
   "source": [
    "Die besondere Struktur von $B_{x}$ können wir zur Evaluation der Methoden `dot` und `np.matrix_power` verwenden.  \n",
    "Rufen Sie Ihre Funktion `potenzen` für $B^{20}_{6}$ auf und \n",
    "vergleichen Sie die beiden Berechnungen mit $B$. "
   ]
  },
  {
   "cell_type": "code",
   "execution_count": null,
   "id": "caa9f23a-2a85-476b-9b22-9c2caafcb867",
   "metadata": {},
   "outputs": [],
   "source": []
  },
  {
   "cell_type": "code",
   "execution_count": 25,
   "id": "2b387309-6f95-4097-a64d-6caa9fbb7064",
   "metadata": {},
   "outputs": [],
   "source": [
    "B = 0.5 * A_x(x)\n",
    "\n",
    "def potenzen_B(x,n):\n",
    "    B = 0.5 * A_x(x)\n",
    "    M1 = np.linalg.matrix_power(B,n)\n",
    "    \n",
    "    M2 = B.copy()\n",
    "    for i in range(n-1):\n",
    "        M2 = M2.dot(B)\n",
    "    \n",
    "    return M1, M2"
   ]
  },
  {
   "cell_type": "code",
   "execution_count": 26,
   "id": "c00ae4c4-7b43-459e-9e1a-2e37db4309e3",
   "metadata": {},
   "outputs": [
    {
     "name": "stdout",
     "output_type": "stream",
     "text": [
      "Matrix B_power with x = 6, n = 1 \n",
      " [[ 0.01991486 -0.13970775]\n",
      " [-0.13970775  0.98008514]]\n",
      "Matrix B_dot with x = 6, n = 1 \n",
      " [[ 0.01991486 -0.13970775]\n",
      " [-0.13970775  0.98008514]] \n",
      "--------------\n",
      "Matrix B_power with x = 6, n = 20 \n",
      " [[ 0.01991486 -0.13970775]\n",
      " [-0.13970775  0.98008514]]\n",
      "Matrix B_dot with x = 6, n = 20 \n",
      " [[ 0.01991486 -0.13970775]\n",
      " [-0.13970775  0.98008514]] \n",
      "============================\n"
     ]
    }
   ],
   "source": [
    "B1, B2 = potenzen_B(6,1)\n",
    "B3, B4 = potenzen_B(6,20)\n",
    "\n",
    "print('Matrix B_power with x = 6, n = 1', '\\n', B1)\n",
    "print('Matrix B_dot with x = 6, n = 1', '\\n', B2, \n",
    "      '\\n--------------')\n",
    "\n",
    "print('Matrix B_power with x = 6, n = 20', '\\n', B3)\n",
    "print('Matrix B_dot with x = 6, n = 20', '\\n', B4, \n",
    "      '\\n============================')"
   ]
  },
  {
   "cell_type": "markdown",
   "id": "684d8940-f8a2-430e-944f-ae0d30819916",
   "metadata": {},
   "source": [
    "Wählen Sie dafür die Ausgabegenauigkeit hoch genug (zB mit `np.set_printoptions(precision=16)`)."
   ]
  },
  {
   "cell_type": "code",
   "execution_count": 27,
   "id": "807d9a95-0c75-4eab-a889-54f6af1d89ae",
   "metadata": {},
   "outputs": [],
   "source": [
    "np.set_printoptions(precision=16)"
   ]
  },
  {
   "cell_type": "markdown",
   "id": "411dfe79-1f03-49d0-a26a-3a1526c2022c",
   "metadata": {},
   "source": [
    "Wiederholen Sie dies für mehrere Werte $x$ und stellen Sie eine Vermutung auf, welche der beiden Methoden exakter rechnet."
   ]
  },
  {
   "cell_type": "code",
   "execution_count": 28,
   "id": "c1d858c6-2d5d-48c3-8886-d2a37d24ea25",
   "metadata": {},
   "outputs": [
    {
     "name": "stdout",
     "output_type": "stream",
     "text": [
      "Matrix B_power with x = 2 n = 1 \n",
      " [[0.7080734182735712 0.4546487134128409]\n",
      " [0.4546487134128409 0.2919265817264288]]\n",
      "Matrix B_dot with x = 2 n = 1 \n",
      " [[0.7080734182735712 0.4546487134128409]\n",
      " [0.4546487134128409 0.2919265817264288]] \n",
      "--------------\n",
      "Matrix B_power with x = 2 n = 20 \n",
      " [[0.7080734182735712 0.4546487134128409]\n",
      " [0.4546487134128409 0.2919265817264288]]\n",
      "Matrix B_dot with x = 2 n = 20 \n",
      " [[0.7080734182735712 0.4546487134128409]\n",
      " [0.4546487134128409 0.2919265817264288]] \n",
      "============================\n",
      "Matrix B_power with x = 3 n = 1 \n",
      " [[0.9949962483002227 0.0705600040299336]\n",
      " [0.0705600040299336 0.0050037516997773]]\n",
      "Matrix B_dot with x = 3 n = 1 \n",
      " [[0.9949962483002227 0.0705600040299336]\n",
      " [0.0705600040299336 0.0050037516997773]] \n",
      "--------------\n",
      "Matrix B_power with x = 3 n = 20 \n",
      " [[0.9949962483002226 0.0705600040299336]\n",
      " [0.0705600040299336 0.0050037516997773]]\n",
      "Matrix B_dot with x = 3 n = 20 \n",
      " [[0.9949962483002226 0.0705600040299336]\n",
      " [0.0705600040299336 0.0050037516997773]] \n",
      "============================\n",
      "Matrix B_power with x = 4 n = 1 \n",
      " [[ 0.8268218104318059 -0.3784012476539641]\n",
      " [-0.3784012476539641  0.173178189568194 ]]\n",
      "Matrix B_dot with x = 4 n = 1 \n",
      " [[ 0.8268218104318059 -0.3784012476539641]\n",
      " [-0.3784012476539641  0.173178189568194 ]] \n",
      "--------------\n",
      "Matrix B_power with x = 4 n = 20 \n",
      " [[ 0.8268218104318059 -0.378401247653964 ]\n",
      " [-0.378401247653964   0.173178189568194 ]]\n",
      "Matrix B_dot with x = 4 n = 20 \n",
      " [[ 0.8268218104318059 -0.378401247653964 ]\n",
      " [-0.378401247653964   0.173178189568194 ]] \n",
      "============================\n",
      "Matrix B_power with x = 5 n = 1 \n",
      " [[ 0.3581689072683869 -0.4794621373315692]\n",
      " [-0.4794621373315692  0.6418310927316131]]\n",
      "Matrix B_dot with x = 5 n = 1 \n",
      " [[ 0.3581689072683869 -0.4794621373315692]\n",
      " [-0.4794621373315692  0.6418310927316131]] \n",
      "--------------\n",
      "Matrix B_power with x = 5 n = 20 \n",
      " [[ 0.3581689072683869 -0.4794621373315692]\n",
      " [-0.4794621373315692  0.6418310927316131]]\n",
      "Matrix B_dot with x = 5 n = 20 \n",
      " [[ 0.3581689072683869 -0.4794621373315692]\n",
      " [-0.4794621373315692  0.6418310927316131]] \n",
      "============================\n",
      "Matrix B_power with x = 6 n = 1 \n",
      " [[ 0.019914856674817  -0.1397077490994629]\n",
      " [-0.1397077490994629  0.9800851433251829]]\n",
      "Matrix B_dot with x = 6 n = 1 \n",
      " [[ 0.019914856674817  -0.1397077490994629]\n",
      " [-0.1397077490994629  0.9800851433251829]] \n",
      "--------------\n",
      "Matrix B_power with x = 6 n = 20 \n",
      " [[ 0.019914856674817  -0.1397077490994629]\n",
      " [-0.1397077490994629  0.9800851433251829]]\n",
      "Matrix B_dot with x = 6 n = 20 \n",
      " [[ 0.019914856674817  -0.1397077490994629]\n",
      " [-0.1397077490994629  0.9800851433251829]] \n",
      "============================\n"
     ]
    }
   ],
   "source": [
    "for x in np.arange(2,7):\n",
    "    B1, B2 = potenzen_B(x,1)\n",
    "    B3, B4 = potenzen_B(x,2)\n",
    "    np.set_printoptions(precision=16)\n",
    "\n",
    "    print('Matrix B_power with x =', x, 'n = 1',\n",
    "          '\\n', B1)\n",
    "    print('Matrix B_dot with x =', x, 'n = 1', \n",
    "          '\\n', B2, \n",
    "          '\\n--------------')\n",
    "\n",
    "    print('Matrix B_power with x =', x, 'n = 20',\n",
    "          '\\n', B3)\n",
    "    print('Matrix B_dot with x =', x, 'n = 20',\n",
    "          '\\n', B4, \n",
    "          '\\n============================')"
   ]
  },
  {
   "cell_type": "markdown",
   "id": "adf67fbd-bf81-4fd2-8420-024933af4ffb",
   "metadata": {},
   "source": [
    "Evaluieren Sie dies nun, indem Sie für $n=2,…,25$ folgendes für beide Methoden berechnen:\n",
    "  $$ \\sqrt{ \\sum_{i=1}^2 \\sum_{j=1}^2 (B_{ij} - B_{ij}^{n})^2  }.$$\n",
    "Dies wird auch **Frobeniusnorm** genannt und kann mittels dem numpy Untermodul `linalg` und der Funktion `norm` berechnet werden. \n",
    "Wie verhalten sich die beiden Methoden?"
   ]
  },
  {
   "cell_type": "code",
   "execution_count": 136,
   "id": "f4a1bd42-2a5b-43a9-8634-364ae26315b8",
   "metadata": {},
   "outputs": [
    {
     "data": {
      "text/plain": [
       "2.7755575615628914e-17"
      ]
     },
     "execution_count": 136,
     "metadata": {},
     "output_type": "execute_result"
    }
   ],
   "source": [
    "# B1,B2 = potenzen_B(6,1)\n",
    "# B3,b4 = potenzen_B(6,2)\n",
    "\n",
    "# # B1,B2\n",
    "# np.linalg.norm(B1 - B3)\n"
   ]
  },
  {
   "cell_type": "code",
   "execution_count": 29,
   "id": "bb08fbcc-ca36-4516-8d88-10a0ec052c75",
   "metadata": {},
   "outputs": [
    {
     "name": "stdout",
     "output_type": "stream",
     "text": [
      "||B_6 - B_6^2pow|| =  2.7755575615628914e-17\n",
      "||B_6 - B_6^2dot|| =  2.7755575615628914e-17 \n",
      "-------\n",
      "||B_6 - B_6^3pow|| =  3.925231146709438e-17\n",
      "||B_6 - B_6^3dot|| =  3.925231146709438e-17 \n",
      "-------\n",
      "||B_6 - B_6^4pow|| =  4.8074067159589095e-17\n",
      "||B_6 - B_6^4dot|| =  6.369057972232327e-17 \n",
      "-------\n",
      "||B_6 - B_6^5pow|| =  6.369057972232327e-17\n",
      "||B_6 - B_6^5dot|| =  9.159602786276758e-17 \n",
      "-------\n",
      "||B_6 - B_6^6pow|| =  6.947562107041945e-17\n",
      "||B_6 - B_6^6dot|| =  1.1857187100668868e-16 \n",
      "-------\n",
      "||B_6 - B_6^7pow|| =  6.947562107041945e-17\n",
      "||B_6 - B_6^7dot|| =  1.459231405488224e-16 \n",
      "-------\n",
      "||B_6 - B_6^8pow|| =  8.7289520232855e-17\n",
      "||B_6 - B_6^8dot|| =  1.734723475976807e-16 \n",
      "-------\n",
      "||B_6 - B_6^9pow|| =  9.159602786276758e-17\n",
      "||B_6 - B_6^9dot|| =  2.0113817612349073e-16 \n",
      "-------\n",
      "||B_6 - B_6^10pow|| =  9.570895620573757e-17\n",
      "||B_6 - B_6^10dot|| =  2.2887833992611187e-16 \n",
      "-------\n",
      "||B_6 - B_6^11pow|| =  9.570895620573757e-17\n",
      "||B_6 - B_6^11dot|| =  2.5666873818249836e-16 \n",
      "-------\n",
      "||B_6 - B_6^12pow|| =  1.0838898772828417e-16\n",
      "||B_6 - B_6^12dot|| =  2.8449465006019636e-16 \n",
      "-------\n",
      "||B_6 - B_6^13pow|| =  9.570895620573757e-17\n",
      "||B_6 - B_6^13dot|| =  3.1234658433439916e-16 \n",
      "-------\n",
      "||B_6 - B_6^14pow|| =  1.0838898772828417e-16\n",
      "||B_6 - B_6^14dot|| =  3.4094267730209737e-16 \n",
      "-------\n",
      "||B_6 - B_6^15pow|| =  1.0838898772828417e-16\n",
      "||B_6 - B_6^15dot|| =  3.6880726988814704e-16 \n",
      "-------\n",
      "||B_6 - B_6^16pow|| =  1.2609900516398658e-16\n",
      "||B_6 - B_6^16dot|| =  3.966869212850224e-16 \n",
      "-------\n",
      "||B_6 - B_6^17pow|| =  1.1857187100668868e-16\n",
      "||B_6 - B_6^17dot|| =  4.2457866502527573e-16 \n",
      "-------\n",
      "||B_6 - B_6^18pow|| =  1.2177709378935645e-16\n",
      "||B_6 - B_6^18dot|| =  4.524802649293288e-16 \n",
      "-------\n",
      "||B_6 - B_6^19pow|| =  1.2177709378935645e-16\n",
      "||B_6 - B_6^19dot|| =  4.803900036285107e-16 \n",
      "-------\n",
      "||B_6 - B_6^20pow|| =  1.3206704001701902e-16\n",
      "||B_6 - B_6^20dot|| =  5.083065404868406e-16 \n",
      "-------\n",
      "||B_6 - B_6^21pow|| =  1.6478959984131287e-16\n",
      "||B_6 - B_6^21dot|| =  5.362288137511955e-16 \n",
      "-------\n",
      "||B_6 - B_6^22pow|| =  1.7253305394310741e-16\n",
      "||B_6 - B_6^22dot|| =  5.647850449853784e-16 \n",
      "-------\n",
      "||B_6 - B_6^23pow|| =  1.7253305394310741e-16\n",
      "||B_6 - B_6^23dot|| =  5.654347069560141e-16 \n",
      "-------\n",
      "||B_6 - B_6^24pow|| =  1.8424037361508207e-16\n",
      "||B_6 - B_6^24dot|| =  5.654347069560141e-16 \n",
      "-------\n",
      "||B_6 - B_6^25pow|| =  1.6478959984131287e-16\n",
      "||B_6 - B_6^25dot|| =  5.654347069560141e-16 \n",
      "-------\n"
     ]
    }
   ],
   "source": [
    "import numpy as np\n",
    "\n",
    "for n in np.arange(2,26):\n",
    "    B1_pow, B1_dot = potenzen_B(6,1)\n",
    "    Bn_pow, Bn_dot = potenzen_B(6,n)\n",
    "    \n",
    "    print(f'||B_6 - B_6^{n}pow|| = ', np.linalg.norm(B1_pow - Bn_pow))\n",
    "    print(f'||B_6 - B_6^{n}dot|| = ', np.linalg.norm(B1_dot - Bn_dot),\n",
    "          '\\n-------')"
   ]
  },
  {
   "cell_type": "code",
   "execution_count": null,
   "id": "6df344b1-f56d-4bdd-9263-18c572d35caa",
   "metadata": {},
   "outputs": [],
   "source": []
  },
  {
   "cell_type": "code",
   "execution_count": null,
   "id": "3b4133e0-03fe-406f-958b-95758e28607c",
   "metadata": {},
   "outputs": [],
   "source": []
  },
  {
   "cell_type": "markdown",
   "id": "4473f779-449a-48f0-860b-d904db6c4966",
   "metadata": {},
   "source": [
    "### 2-d)"
   ]
  },
  {
   "cell_type": "markdown",
   "id": "0139267e-8926-4eac-8044-5f75c68e3ee6",
   "metadata": {},
   "source": [
    "Mit den Untermodulen `Display` und `Latex` aus dem Modul `IPython.display` ist es möglich die Ausgaben mit *LaTex-Quellcode* zu formatieren. \n",
    "So können auch Laufvariablen integriert werden zB <br>\n",
    "`for n in range(8,15):`<br>\n",
    "`       display(Latex(f'$B^{ {n}}$:'),B)` <br>\n",
    "Formatieren Sie dahingehend die Ausgabe Ihrer Lösungen in $a) - c)$ übersichtlich.\n"
   ]
  },
  {
   "cell_type": "markdown",
   "id": "4ccb1067-7437-4adc-b87f-9884ca1e9dc3",
   "metadata": {},
   "source": [
    "(**Zusatzaufgabe:** Vergleichen Sie was passiert, wenn in $A$ die Werte als `Decimal` anstatt `float` gespeichert werden.)"
   ]
  },
  {
   "cell_type": "code",
   "execution_count": 54,
   "id": "71820470-b00f-4aac-bbba-c8de2581be27",
   "metadata": {},
   "outputs": [],
   "source": [
    "import numpy as np\n",
    "from IPython.display import display, Latex\n",
    "from decimal import Decimal\n",
    "\n",
    "def A_x(x):\n",
    "    a1 = 1 - np.cos(x)\n",
    "    a2 = np.sin(x)\n",
    "    a3 = 1 + np.cos(x)\n",
    "    \n",
    "    A = np.array([[a1, a2],[a2,a3]])\n",
    "    return A\n",
    "\n",
    "def potenzen(x,n):\n",
    "    A = A_x(x)\n",
    "    A_pow = np.linalg.matrix_power(A,n)\n",
    "    \n",
    "    A_dot = A.copy()\n",
    "    for i in range(n-1):\n",
    "        A_dot = A_dot.dot(A)\n",
    "    \n",
    "    return A_pow, A_dot\n",
    "\n",
    "\n",
    "def potenzen_B(x,n):\n",
    "    B = 0.5 * A_x(x)\n",
    "    B_pow = np.linalg.matrix_power(B,n)\n",
    "    \n",
    "    B_dot = B.copy()\n",
    "    for i in range(n-1):\n",
    "        B_dot = B_dot.dot(B)\n",
    "    \n",
    "    return B_pow, B_dot\n",
    "\n",
    "np.finfo(np.float64).eps\n",
    "np.set_printoptions(precision=16)\n",
    "\n",
    "A_pow, A_dot = potenzen(x,n)\n",
    "B_pow, B_dot = potenzen_B(x,n)"
   ]
  },
  {
   "cell_type": "code",
   "execution_count": 72,
   "id": "54e345dc-125b-49e2-b218-482570489aeb",
   "metadata": {},
   "outputs": [],
   "source": [
    "import numpy as np\n",
    "from IPython.display import display, Latex\n",
    "from decimal import Decimal\n",
    "\n",
    "def latex_A(x, n):\n",
    "    display(Latex(\n",
    "        r'''\n",
    "        $A_{%s,power}^{%s} = \n",
    "        \\begin{pmatrix} \n",
    "        {%s} & {%s} \\\\\n",
    "        {%s} & {%s}\n",
    "        \\end{pmatrix}$\n",
    "        \n",
    "        $A_{%s,dot}^{%s} =\n",
    "        \\begin{pmatrix}\n",
    "        {%s} & {%s} \\\\\n",
    "        {%s} & {%s}\n",
    "        \\end{pmatrix}$\n",
    "        '''\n",
    "        % (x, n, A_pow[0,0], A_pow[0,1], A_pow[1,0], A_pow[1,1],\n",
    "           x, n, A_dot[0,0], A_dot[0,1], A_dot[1,0], A_dot[1,1])\n",
    "    ))\n",
    "    \n",
    "def latex_B(x, n):\n",
    "    display(Latex(\n",
    "        r'''\n",
    "        $B_{%s,power}^{%s} = \n",
    "        \\begin{pmatrix} \n",
    "        {%s} & {%s} \\\\\n",
    "        {%s} & {%s}\n",
    "        \\end{pmatrix}$\n",
    "        \n",
    "        $B_{%s,dot}^{%s} =\n",
    "        \\begin{pmatrix}\n",
    "        {%s} & {%s} \\\\\n",
    "        {%s} & {%s}\n",
    "        \\end{pmatrix}$\n",
    "        '''\n",
    "        % (x, n, B_pow[0,0], B_pow[0,1], B_pow[1,0], B_pow[1,1],\n",
    "           x, n, B_dot[0,0], B_dot[0,1], B_dot[1,0], B_dot[1,1])\n",
    "    ))"
   ]
  },
  {
   "cell_type": "markdown",
   "id": "7c56a689-a6b7-4f39-88c9-7c8237fbcd59",
   "metadata": {
    "tags": []
   },
   "source": [
    "#### 2-a)\n",
    " Definieren Sie zunächst eine Funktion, die die Matrix\n",
    "$$ A_{x}= \\begin{pmatrix}\n",
    "1 − \\cos x & \\sin x \\\\\n",
    "\\sin x & 1 + \\cos x\n",
    "\\end{pmatrix} $$\n",
    "\n",
    "für beliebige $x$ erstellt und zurückgibt. \n",
    "Schreiben Sie eine weitere Funktion `potenzen`, die Anx numerisch für beliebige $n$ berechnet, \n",
    "einmal mithilfe von `matrix_power(A,power)` aus dem Untermodul `linalg` und einmal durch wiederholtes Anwenden von `dot`. \n",
    "Die Funktion soll beide Matrizen zurückgeben. \n",
    "Verwenden Sie nun den `Befehl np.finfo(np.float64).eps` um sich die *Maschinengenauigkeit* anzusehen mit welcher die Einträge abgespeichert sind.  \n",
    "Vergleichen Sie dann für $x=6$ und $n=2,…,30$ auf wieviele Nachkommastellen die beiden Berechnungen gleich sind \n",
    "(vergleichen Sie hierfür bis zur *Maschinengenauigkeit*).  \n",
    "Vergleichen Sie auch für weitere Werte von $x$."
   ]
  },
  {
   "cell_type": "code",
   "execution_count": 66,
   "id": "31573771-4241-4d80-846f-34f308d110f1",
   "metadata": {},
   "outputs": [],
   "source": [
    "A = A_x(6)"
   ]
  },
  {
   "cell_type": "code",
   "execution_count": 67,
   "id": "e42835af-d50a-4455-b77e-568f4640a09f",
   "metadata": {},
   "outputs": [
    {
     "data": {
      "text/plain": [
       "array([[ 0.039829713349634 , -0.2794154981989259],\n",
       "       [-0.2794154981989259,  1.9601702866503659]])"
      ]
     },
     "execution_count": 67,
     "metadata": {},
     "output_type": "execute_result"
    }
   ],
   "source": [
    "A"
   ]
  },
  {
   "cell_type": "code",
   "execution_count": 69,
   "id": "c1cdb23f-8eec-4f17-a8be-5c0e12fbc017",
   "metadata": {},
   "outputs": [
    {
     "data": {
      "text/latex": [
       "\n",
       "        $A_{6,power}^{2} = \n",
       "        \\begin{pmatrix} \n",
       "        {0.07965942669926795} & {-0.5588309963978517} \\\\\n",
       "        {-0.5588309963978517} & {3.9203405733007317}\n",
       "        \\end{pmatrix}$\n",
       "        \n",
       "        $A_{6,dot}^{2} =\n",
       "        \\begin{pmatrix}\n",
       "        {0.07965942669926795} & {-0.5588309963978517} \\\\\n",
       "        {-0.5588309963978517} & {3.9203405733007317}\n",
       "        \\end{pmatrix}$\n",
       "        "
      ],
      "text/plain": [
       "<IPython.core.display.Latex object>"
      ]
     },
     "metadata": {},
     "output_type": "display_data"
    },
    {
     "data": {
      "text/latex": [
       "\n",
       "        $A_{6,power}^{3} = \n",
       "        \\begin{pmatrix} \n",
       "        {0.1593188533985359} & {-1.1176619927957032} \\\\\n",
       "        {-1.1176619927957034} & {7.840681146601463}\n",
       "        \\end{pmatrix}$\n",
       "        \n",
       "        $A_{6,dot}^{3} =\n",
       "        \\begin{pmatrix}\n",
       "        {0.1593188533985359} & {-1.1176619927957032} \\\\\n",
       "        {-1.1176619927957034} & {7.840681146601463}\n",
       "        \\end{pmatrix}$\n",
       "        "
      ],
      "text/plain": [
       "<IPython.core.display.Latex object>"
      ]
     },
     "metadata": {},
     "output_type": "display_data"
    },
    {
     "data": {
      "text/latex": [
       "\n",
       "        $A_{6,power}^{4} = \n",
       "        \\begin{pmatrix} \n",
       "        {0.3186377067970718} & {-2.2353239855914064} \\\\\n",
       "        {-2.2353239855914064} & {15.681362293202927}\n",
       "        \\end{pmatrix}$\n",
       "        \n",
       "        $A_{6,dot}^{4} =\n",
       "        \\begin{pmatrix}\n",
       "        {0.31863770679707176} & {-2.235323985591406} \\\\\n",
       "        {-2.235323985591407} & {15.681362293202927}\n",
       "        \\end{pmatrix}$\n",
       "        "
      ],
      "text/plain": [
       "<IPython.core.display.Latex object>"
      ]
     },
     "metadata": {},
     "output_type": "display_data"
    },
    {
     "data": {
      "text/latex": [
       "\n",
       "        $A_{6,power}^{5} = \n",
       "        \\begin{pmatrix} \n",
       "        {0.6372754135941435} & {-4.470647971182814} \\\\\n",
       "        {-4.470647971182812} & {31.362724586405854}\n",
       "        \\end{pmatrix}$\n",
       "        \n",
       "        $A_{6,dot}^{5} =\n",
       "        \\begin{pmatrix}\n",
       "        {0.6372754135941433} & {-4.470647971182811} \\\\\n",
       "        {-4.470647971182814} & {31.362724586405854}\n",
       "        \\end{pmatrix}$\n",
       "        "
      ],
      "text/plain": [
       "<IPython.core.display.Latex object>"
      ]
     },
     "metadata": {},
     "output_type": "display_data"
    },
    {
     "data": {
      "text/latex": [
       "\n",
       "        $A_{6,power}^{6} = \n",
       "        \\begin{pmatrix} \n",
       "        {1.274550827188287} & {-8.941295942365626} \\\\\n",
       "        {-8.941295942365624} & {62.72544917281171}\n",
       "        \\end{pmatrix}$\n",
       "        \n",
       "        $A_{6,dot}^{6} =\n",
       "        \\begin{pmatrix}\n",
       "        {1.2745508271882864} & {-8.94129594236562} \\\\\n",
       "        {-8.941295942365628} & {62.72544917281171}\n",
       "        \\end{pmatrix}$\n",
       "        "
      ],
      "text/plain": [
       "<IPython.core.display.Latex object>"
      ]
     },
     "metadata": {},
     "output_type": "display_data"
    },
    {
     "data": {
      "text/latex": [
       "\n",
       "        $A_{6,power}^{7} = \n",
       "        \\begin{pmatrix} \n",
       "        {2.549101654376574} & {-17.88259188473125} \\\\\n",
       "        {-17.882591884731248} & {125.45089834562341}\n",
       "        \\end{pmatrix}$\n",
       "        \n",
       "        $A_{6,dot}^{7} =\n",
       "        \\begin{pmatrix}\n",
       "        {2.5491016543765723} & {-17.882591884731237} \\\\\n",
       "        {-17.882591884731255} & {125.45089834562341}\n",
       "        \\end{pmatrix}$\n",
       "        "
      ],
      "text/plain": [
       "<IPython.core.display.Latex object>"
      ]
     },
     "metadata": {},
     "output_type": "display_data"
    },
    {
     "data": {
      "text/latex": [
       "\n",
       "        $A_{6,power}^{8} = \n",
       "        \\begin{pmatrix} \n",
       "        {5.098203308753146} & {-35.765183769462496} \\\\\n",
       "        {-35.765183769462496} & {250.90179669124683}\n",
       "        \\end{pmatrix}$\n",
       "        \n",
       "        $A_{6,dot}^{8} =\n",
       "        \\begin{pmatrix}\n",
       "        {5.098203308753144} & {-35.76518376946247} \\\\\n",
       "        {-35.76518376946251} & {250.90179669124683}\n",
       "        \\end{pmatrix}$\n",
       "        "
      ],
      "text/plain": [
       "<IPython.core.display.Latex object>"
      ]
     },
     "metadata": {},
     "output_type": "display_data"
    },
    {
     "data": {
      "text/latex": [
       "\n",
       "        $A_{6,power}^{9} = \n",
       "        \\begin{pmatrix} \n",
       "        {10.196406617506293} & {-71.53036753892502} \\\\\n",
       "        {-71.53036753892498} & {501.80359338249366}\n",
       "        \\end{pmatrix}$\n",
       "        \n",
       "        $A_{6,dot}^{9} =\n",
       "        \\begin{pmatrix}\n",
       "        {10.196406617506286} & {-71.53036753892492} \\\\\n",
       "        {-71.53036753892502} & {501.80359338249366}\n",
       "        \\end{pmatrix}$\n",
       "        "
      ],
      "text/plain": [
       "<IPython.core.display.Latex object>"
      ]
     },
     "metadata": {},
     "output_type": "display_data"
    },
    {
     "data": {
      "text/latex": [
       "\n",
       "        $A_{6,power}^{10} = \n",
       "        \\begin{pmatrix} \n",
       "        {20.392813235012586} & {-143.06073507785} \\\\\n",
       "        {-143.06073507784996} & {1003.6071867649873}\n",
       "        \\end{pmatrix}$\n",
       "        \n",
       "        $A_{6,dot}^{10} =\n",
       "        \\begin{pmatrix}\n",
       "        {20.392813235012568} & {-143.0607350778498} \\\\\n",
       "        {-143.06073507785004} & {1003.6071867649873}\n",
       "        \\end{pmatrix}$\n",
       "        "
      ],
      "text/plain": [
       "<IPython.core.display.Latex object>"
      ]
     },
     "metadata": {},
     "output_type": "display_data"
    },
    {
     "data": {
      "text/latex": [
       "\n",
       "        $A_{6,power}^{11} = \n",
       "        \\begin{pmatrix} \n",
       "        {40.78562647002517} & {-286.1214701557} \\\\\n",
       "        {-286.1214701556999} & {2007.2143735299746}\n",
       "        \\end{pmatrix}$\n",
       "        \n",
       "        $A_{6,dot}^{11} =\n",
       "        \\begin{pmatrix}\n",
       "        {40.78562647002513} & {-286.12147015569957} \\\\\n",
       "        {-286.1214701557001} & {2007.2143735299746}\n",
       "        \\end{pmatrix}$\n",
       "        "
      ],
      "text/plain": [
       "<IPython.core.display.Latex object>"
      ]
     },
     "metadata": {},
     "output_type": "display_data"
    },
    {
     "data": {
      "text/latex": [
       "\n",
       "        $A_{6,power}^{12} = \n",
       "        \\begin{pmatrix} \n",
       "        {81.57125294005033} & {-572.2429403113999} \\\\\n",
       "        {-572.2429403113998} & {4014.4287470599493}\n",
       "        \\end{pmatrix}$\n",
       "        \n",
       "        $A_{6,dot}^{12} =\n",
       "        \\begin{pmatrix}\n",
       "        {81.57125294005024} & {-572.242940311399} \\\\\n",
       "        {-572.2429403114002} & {4014.4287470599493}\n",
       "        \\end{pmatrix}$\n",
       "        "
      ],
      "text/plain": [
       "<IPython.core.display.Latex object>"
      ]
     },
     "metadata": {},
     "output_type": "display_data"
    },
    {
     "data": {
      "text/latex": [
       "\n",
       "        $A_{6,power}^{13} = \n",
       "        \\begin{pmatrix} \n",
       "        {163.14250588010069} & {-1144.4858806228} \\\\\n",
       "        {-1144.4858806227996} & {8028.857494119899}\n",
       "        \\end{pmatrix}$\n",
       "        \n",
       "        $A_{6,dot}^{13} =\n",
       "        \\begin{pmatrix}\n",
       "        {163.14250588010046} & {-1144.4858806227978} \\\\\n",
       "        {-1144.4858806228003} & {8028.857494119899}\n",
       "        \\end{pmatrix}$\n",
       "        "
      ],
      "text/plain": [
       "<IPython.core.display.Latex object>"
      ]
     },
     "metadata": {},
     "output_type": "display_data"
    },
    {
     "data": {
      "text/latex": [
       "\n",
       "        $A_{6,power}^{14} = \n",
       "        \\begin{pmatrix} \n",
       "        {326.2850117602013} & {-2288.9717612455997} \\\\\n",
       "        {-2288.9717612455993} & {16057.714988239797}\n",
       "        \\end{pmatrix}$\n",
       "        \n",
       "        $A_{6,dot}^{14} =\n",
       "        \\begin{pmatrix}\n",
       "        {326.2850117602008} & {-2288.971761245595} \\\\\n",
       "        {-2288.9717612456006} & {16057.714988239797}\n",
       "        \\end{pmatrix}$\n",
       "        "
      ],
      "text/plain": [
       "<IPython.core.display.Latex object>"
      ]
     },
     "metadata": {},
     "output_type": "display_data"
    },
    {
     "data": {
      "text/latex": [
       "\n",
       "        $A_{6,power}^{15} = \n",
       "        \\begin{pmatrix} \n",
       "        {652.5700235204026} & {-4577.9435224911995} \\\\\n",
       "        {-4577.943522491199} & {32115.429976479594}\n",
       "        \\end{pmatrix}$\n",
       "        \n",
       "        $A_{6,dot}^{15} =\n",
       "        \\begin{pmatrix}\n",
       "        {652.5700235204015} & {-4577.9435224911895} \\\\\n",
       "        {-4577.943522491201} & {32115.429976479594}\n",
       "        \\end{pmatrix}$\n",
       "        "
      ],
      "text/plain": [
       "<IPython.core.display.Latex object>"
      ]
     },
     "metadata": {},
     "output_type": "display_data"
    },
    {
     "data": {
      "text/latex": [
       "\n",
       "        $A_{6,power}^{16} = \n",
       "        \\begin{pmatrix} \n",
       "        {1305.140047040805} & {-9155.887044982397} \\\\\n",
       "        {-9155.887044982397} & {64230.85995295919}\n",
       "        \\end{pmatrix}$\n",
       "        \n",
       "        $A_{6,dot}^{16} =\n",
       "        \\begin{pmatrix}\n",
       "        {1305.1400470408028} & {-9155.887044982377} \\\\\n",
       "        {-9155.887044982403} & {64230.85995295919}\n",
       "        \\end{pmatrix}$\n",
       "        "
      ],
      "text/plain": [
       "<IPython.core.display.Latex object>"
      ]
     },
     "metadata": {},
     "output_type": "display_data"
    },
    {
     "data": {
      "text/latex": [
       "\n",
       "        $A_{6,power}^{17} = \n",
       "        \\begin{pmatrix} \n",
       "        {2610.2800940816105} & {-18311.774089964805} \\\\\n",
       "        {-18311.77408996479} & {128461.71990591838}\n",
       "        \\end{pmatrix}$\n",
       "        \n",
       "        $A_{6,dot}^{17} =\n",
       "        \\begin{pmatrix}\n",
       "        {2610.280094081605} & {-18311.77408996475} \\\\\n",
       "        {-18311.774089964805} & {128461.71990591838}\n",
       "        \\end{pmatrix}$\n",
       "        "
      ],
      "text/plain": [
       "<IPython.core.display.Latex object>"
      ]
     },
     "metadata": {},
     "output_type": "display_data"
    },
    {
     "data": {
      "text/latex": [
       "\n",
       "        $A_{6,power}^{18} = \n",
       "        \\begin{pmatrix} \n",
       "        {5220.560188163221} & {-36623.5481799296} \\\\\n",
       "        {-36623.54817992958} & {256923.43981183675}\n",
       "        \\end{pmatrix}$\n",
       "        \n",
       "        $A_{6,dot}^{18} =\n",
       "        \\begin{pmatrix}\n",
       "        {5220.560188163209} & {-36623.548179929494} \\\\\n",
       "        {-36623.54817992961} & {256923.43981183675}\n",
       "        \\end{pmatrix}$\n",
       "        "
      ],
      "text/plain": [
       "<IPython.core.display.Latex object>"
      ]
     },
     "metadata": {},
     "output_type": "display_data"
    },
    {
     "data": {
      "text/latex": [
       "\n",
       "        $A_{6,power}^{19} = \n",
       "        \\begin{pmatrix} \n",
       "        {10441.120376326442} & {-73247.0963598592} \\\\\n",
       "        {-73247.09635985916} & {513846.8796236735}\n",
       "        \\end{pmatrix}$\n",
       "        \n",
       "        $A_{6,dot}^{19} =\n",
       "        \\begin{pmatrix}\n",
       "        {10441.120376326417} & {-73247.09635985897} \\\\\n",
       "        {-73247.09635985922} & {513846.8796236735}\n",
       "        \\end{pmatrix}$\n",
       "        "
      ],
      "text/plain": [
       "<IPython.core.display.Latex object>"
      ]
     },
     "metadata": {},
     "output_type": "display_data"
    },
    {
     "data": {
      "text/latex": [
       "\n",
       "        $A_{6,power}^{20} = \n",
       "        \\begin{pmatrix} \n",
       "        {20882.24075265288} & {-146494.19271971838} \\\\\n",
       "        {-146494.19271971832} & {1027693.759247347}\n",
       "        \\end{pmatrix}$\n",
       "        \n",
       "        $A_{6,dot}^{20} =\n",
       "        \\begin{pmatrix}\n",
       "        {20882.24075265283} & {-146494.19271971792} \\\\\n",
       "        {-146494.19271971844} & {1027693.759247347}\n",
       "        \\end{pmatrix}$\n",
       "        "
      ],
      "text/plain": [
       "<IPython.core.display.Latex object>"
      ]
     },
     "metadata": {},
     "output_type": "display_data"
    },
    {
     "data": {
      "text/latex": [
       "\n",
       "        $A_{6,power}^{21} = \n",
       "        \\begin{pmatrix} \n",
       "        {41764.48150530577} & {-292988.3854394368} \\\\\n",
       "        {-292988.38543943665} & {2055387.5184946938}\n",
       "        \\end{pmatrix}$\n",
       "        \n",
       "        $A_{6,dot}^{21} =\n",
       "        \\begin{pmatrix}\n",
       "        {41764.48150530565} & {-292988.3854394358} \\\\\n",
       "        {-292988.3854394369} & {2055387.518494694}\n",
       "        \\end{pmatrix}$\n",
       "        "
      ],
      "text/plain": [
       "<IPython.core.display.Latex object>"
      ]
     },
     "metadata": {},
     "output_type": "display_data"
    },
    {
     "data": {
      "text/latex": [
       "\n",
       "        $A_{6,power}^{22} = \n",
       "        \\begin{pmatrix} \n",
       "        {83528.96301061152} & {-585976.7708788735} \\\\\n",
       "        {-585976.7708788733} & {4110775.0369893876}\n",
       "        \\end{pmatrix}$\n",
       "        \n",
       "        $A_{6,dot}^{22} =\n",
       "        \\begin{pmatrix}\n",
       "        {83528.96301061127} & {-585976.7708788714} \\\\\n",
       "        {-585976.7708788738} & {4110775.036989388}\n",
       "        \\end{pmatrix}$\n",
       "        "
      ],
      "text/plain": [
       "<IPython.core.display.Latex object>"
      ]
     },
     "metadata": {},
     "output_type": "display_data"
    },
    {
     "data": {
      "text/latex": [
       "\n",
       "        $A_{6,power}^{23} = \n",
       "        \\begin{pmatrix} \n",
       "        {167057.92602122304} & {-1171953.541757747} \\\\\n",
       "        {-1171953.5417577466} & {8221550.073978775}\n",
       "        \\end{pmatrix}$\n",
       "        \n",
       "        $A_{6,dot}^{23} =\n",
       "        \\begin{pmatrix}\n",
       "        {167057.92602122252} & {-1171953.5417577429} \\\\\n",
       "        {-1171953.5417577475} & {8221550.073978776}\n",
       "        \\end{pmatrix}$\n",
       "        "
      ],
      "text/plain": [
       "<IPython.core.display.Latex object>"
      ]
     },
     "metadata": {},
     "output_type": "display_data"
    },
    {
     "data": {
      "text/latex": [
       "\n",
       "        $A_{6,power}^{24} = \n",
       "        \\begin{pmatrix} \n",
       "        {334115.85204244603} & {-2343907.0835154937} \\\\\n",
       "        {-2343907.083515493} & {16443100.14795755}\n",
       "        \\end{pmatrix}$\n",
       "        \n",
       "        $A_{6,dot}^{24} =\n",
       "        \\begin{pmatrix}\n",
       "        {334115.85204244504} & {-2343907.0835154857} \\\\\n",
       "        {-2343907.083515495} & {16443100.147957552}\n",
       "        \\end{pmatrix}$\n",
       "        "
      ],
      "text/plain": [
       "<IPython.core.display.Latex object>"
      ]
     },
     "metadata": {},
     "output_type": "display_data"
    },
    {
     "data": {
      "text/latex": [
       "\n",
       "        $A_{6,power}^{25} = \n",
       "        \\begin{pmatrix} \n",
       "        {668231.7040848923} & {-4687814.167030989} \\\\\n",
       "        {-4687814.167030986} & {32886200.2959151}\n",
       "        \\end{pmatrix}$\n",
       "        \n",
       "        $A_{6,dot}^{25} =\n",
       "        \\begin{pmatrix}\n",
       "        {668231.7040848901} & {-4687814.1670309715} \\\\\n",
       "        {-4687814.16703099} & {32886200.295915104}\n",
       "        \\end{pmatrix}$\n",
       "        "
      ],
      "text/plain": [
       "<IPython.core.display.Latex object>"
      ]
     },
     "metadata": {},
     "output_type": "display_data"
    },
    {
     "data": {
      "text/latex": [
       "\n",
       "        $A_{6,power}^{26} = \n",
       "        \\begin{pmatrix} \n",
       "        {1336463.4081697844} & {-9375628.334061977} \\\\\n",
       "        {-9375628.334061973} & {65772400.5918302}\n",
       "        \\end{pmatrix}$\n",
       "        \n",
       "        $A_{6,dot}^{26} =\n",
       "        \\begin{pmatrix}\n",
       "        {1336463.4081697802} & {-9375628.334061943} \\\\\n",
       "        {-9375628.33406198} & {65772400.59183021}\n",
       "        \\end{pmatrix}$\n",
       "        "
      ],
      "text/plain": [
       "<IPython.core.display.Latex object>"
      ]
     },
     "metadata": {},
     "output_type": "display_data"
    },
    {
     "data": {
      "text/latex": [
       "\n",
       "        $A_{6,power}^{27} = \n",
       "        \\begin{pmatrix} \n",
       "        {2672926.8163395687} & {-18751256.668123953} \\\\\n",
       "        {-18751256.668123946} & {131544801.1836604}\n",
       "        \\end{pmatrix}$\n",
       "        \n",
       "        $A_{6,dot}^{27} =\n",
       "        \\begin{pmatrix}\n",
       "        {2672926.8163395603} & {-18751256.668123886} \\\\\n",
       "        {-18751256.66812396} & {131544801.18366042}\n",
       "        \\end{pmatrix}$\n",
       "        "
      ],
      "text/plain": [
       "<IPython.core.display.Latex object>"
      ]
     },
     "metadata": {},
     "output_type": "display_data"
    },
    {
     "data": {
      "text/latex": [
       "\n",
       "        $A_{6,power}^{28} = \n",
       "        \\begin{pmatrix} \n",
       "        {5345853.6326791365} & {-37502513.3362479} \\\\\n",
       "        {-37502513.33624789} & {263089602.3673208}\n",
       "        \\end{pmatrix}$\n",
       "        \n",
       "        $A_{6,dot}^{28} =\n",
       "        \\begin{pmatrix}\n",
       "        {5345853.632679121} & {-37502513.33624777} \\\\\n",
       "        {-37502513.33624792} & {263089602.36732084}\n",
       "        \\end{pmatrix}$\n",
       "        "
      ],
      "text/plain": [
       "<IPython.core.display.Latex object>"
      ]
     },
     "metadata": {},
     "output_type": "display_data"
    },
    {
     "data": {
      "text/latex": [
       "\n",
       "        $A_{6,power}^{29} = \n",
       "        \\begin{pmatrix} \n",
       "        {10691707.265358275} & {-75005026.67249581} \\\\\n",
       "        {-75005026.67249578} & {526179204.7346416}\n",
       "        \\end{pmatrix}$\n",
       "        \n",
       "        $A_{6,dot}^{29} =\n",
       "        \\begin{pmatrix}\n",
       "        {10691707.265358241} & {-75005026.67249554} \\\\\n",
       "        {-75005026.67249584} & {526179204.7346417}\n",
       "        \\end{pmatrix}$\n",
       "        "
      ],
      "text/plain": [
       "<IPython.core.display.Latex object>"
      ]
     },
     "metadata": {},
     "output_type": "display_data"
    },
    {
     "data": {
      "text/latex": [
       "\n",
       "        $A_{6,power}^{30} = \n",
       "        \\begin{pmatrix} \n",
       "        {21383414.530716546} & {-150010053.3449916} \\\\\n",
       "        {-150010053.34499156} & {1052358409.4692832}\n",
       "        \\end{pmatrix}$\n",
       "        \n",
       "        $A_{6,dot}^{30} =\n",
       "        \\begin{pmatrix}\n",
       "        {21383414.530716483} & {-150010053.3449911} \\\\\n",
       "        {-150010053.34499168} & {1052358409.4692833}\n",
       "        \\end{pmatrix}$\n",
       "        "
      ],
      "text/plain": [
       "<IPython.core.display.Latex object>"
      ]
     },
     "metadata": {},
     "output_type": "display_data"
    }
   ],
   "source": [
    "for n in np.arange(2,31):\n",
    "    A = A_x(6)\n",
    "    A_pow, A_dot = potenzen(x,n)\n",
    "    \n",
    "    latex_A(6,n)"
   ]
  },
  {
   "cell_type": "markdown",
   "id": "5fc9b811-d172-49d3-9b09-435cba1bed6d",
   "metadata": {},
   "source": [
    "##### 같은 자리 소수점 구하기..."
   ]
  },
  {
   "cell_type": "code",
   "execution_count": null,
   "id": "0f2e17ac-f139-4f32-a9a6-c0de5627a9db",
   "metadata": {},
   "outputs": [],
   "source": []
  },
  {
   "cell_type": "code",
   "execution_count": null,
   "id": "f76d3bf6-dce2-47e5-b896-e3997df17c7d",
   "metadata": {},
   "outputs": [],
   "source": []
  },
  {
   "cell_type": "code",
   "execution_count": null,
   "id": "f05d77d1-69c4-40fc-bf9e-70c18c6172ca",
   "metadata": {},
   "outputs": [],
   "source": []
  },
  {
   "cell_type": "markdown",
   "id": "e27731e9-4791-42b6-92e0-35db41eb597f",
   "metadata": {},
   "source": [
    "#### 2-b)\n",
    "Berechnen Sie $A^{n}_{6}$ für $n=1,…,4.$ \n",
    "Untersuchen sie nun genauso die Matrix $B_{x}= \\frac{1}{2} A_{x}$, was fällt Ihnen dabei auf? \n",
    "Belegen Sie Ihre Vermutung indem Sie $B_{x}$ und $B^{2}_{x}$ für einige verschiedene $x$ berechnen."
   ]
  },
  {
   "cell_type": "code",
   "execution_count": 70,
   "id": "4461df55-09db-42c8-b883-2d0c608b53f1",
   "metadata": {},
   "outputs": [
    {
     "data": {
      "text/latex": [
       "\n",
       "        $A_{6,power}^{1} = \n",
       "        \\begin{pmatrix} \n",
       "        {0.03982971334963403} & {-0.27941549819892586} \\\\\n",
       "        {-0.27941549819892586} & {1.9601702866503659}\n",
       "        \\end{pmatrix}$\n",
       "        \n",
       "        $A_{6,dot}^{1} =\n",
       "        \\begin{pmatrix}\n",
       "        {0.03982971334963403} & {-0.27941549819892586} \\\\\n",
       "        {-0.27941549819892586} & {1.9601702866503659}\n",
       "        \\end{pmatrix}$\n",
       "        "
      ],
      "text/plain": [
       "<IPython.core.display.Latex object>"
      ]
     },
     "metadata": {},
     "output_type": "display_data"
    },
    {
     "data": {
      "text/latex": [
       "\n",
       "        $A_{6,power}^{2} = \n",
       "        \\begin{pmatrix} \n",
       "        {0.07965942669926795} & {-0.5588309963978517} \\\\\n",
       "        {-0.5588309963978517} & {3.9203405733007317}\n",
       "        \\end{pmatrix}$\n",
       "        \n",
       "        $A_{6,dot}^{2} =\n",
       "        \\begin{pmatrix}\n",
       "        {0.07965942669926795} & {-0.5588309963978517} \\\\\n",
       "        {-0.5588309963978517} & {3.9203405733007317}\n",
       "        \\end{pmatrix}$\n",
       "        "
      ],
      "text/plain": [
       "<IPython.core.display.Latex object>"
      ]
     },
     "metadata": {},
     "output_type": "display_data"
    },
    {
     "data": {
      "text/latex": [
       "\n",
       "        $A_{6,power}^{3} = \n",
       "        \\begin{pmatrix} \n",
       "        {0.1593188533985359} & {-1.1176619927957032} \\\\\n",
       "        {-1.1176619927957034} & {7.840681146601463}\n",
       "        \\end{pmatrix}$\n",
       "        \n",
       "        $A_{6,dot}^{3} =\n",
       "        \\begin{pmatrix}\n",
       "        {0.1593188533985359} & {-1.1176619927957032} \\\\\n",
       "        {-1.1176619927957034} & {7.840681146601463}\n",
       "        \\end{pmatrix}$\n",
       "        "
      ],
      "text/plain": [
       "<IPython.core.display.Latex object>"
      ]
     },
     "metadata": {},
     "output_type": "display_data"
    },
    {
     "data": {
      "text/latex": [
       "\n",
       "        $A_{6,power}^{4} = \n",
       "        \\begin{pmatrix} \n",
       "        {0.3186377067970718} & {-2.2353239855914064} \\\\\n",
       "        {-2.2353239855914064} & {15.681362293202927}\n",
       "        \\end{pmatrix}$\n",
       "        \n",
       "        $A_{6,dot}^{4} =\n",
       "        \\begin{pmatrix}\n",
       "        {0.31863770679707176} & {-2.235323985591406} \\\\\n",
       "        {-2.235323985591407} & {15.681362293202927}\n",
       "        \\end{pmatrix}$\n",
       "        "
      ],
      "text/plain": [
       "<IPython.core.display.Latex object>"
      ]
     },
     "metadata": {},
     "output_type": "display_data"
    }
   ],
   "source": [
    "for n in np.arange(1,5):\n",
    "    A = A_x(6)\n",
    "    A_pow, A_dot = potenzen(x,n)\n",
    "    \n",
    "    latex_A(6,n)"
   ]
  },
  {
   "cell_type": "code",
   "execution_count": 73,
   "id": "81312a7c-3308-4fe8-920a-5c4b5ec7b533",
   "metadata": {},
   "outputs": [
    {
     "data": {
      "text/latex": [
       "\n",
       "        $B_{6,power}^{1} = \n",
       "        \\begin{pmatrix} \n",
       "        {0.019914856674817016} & {-0.13970774909946293} \\\\\n",
       "        {-0.13970774909946293} & {0.9800851433251829}\n",
       "        \\end{pmatrix}$\n",
       "        \n",
       "        $B_{6,dot}^{1} =\n",
       "        \\begin{pmatrix}\n",
       "        {0.019914856674817016} & {-0.13970774909946293} \\\\\n",
       "        {-0.13970774909946293} & {0.9800851433251829}\n",
       "        \\end{pmatrix}$\n",
       "        "
      ],
      "text/plain": [
       "<IPython.core.display.Latex object>"
      ]
     },
     "metadata": {},
     "output_type": "display_data"
    },
    {
     "data": {
      "text/latex": [
       "\n",
       "        $B_{6,power}^{2} = \n",
       "        \\begin{pmatrix} \n",
       "        {0.01991485667481699} & {-0.13970774909946293} \\\\\n",
       "        {-0.13970774909946293} & {0.9800851433251829}\n",
       "        \\end{pmatrix}$\n",
       "        \n",
       "        $B_{6,dot}^{2} =\n",
       "        \\begin{pmatrix}\n",
       "        {0.01991485667481699} & {-0.13970774909946293} \\\\\n",
       "        {-0.13970774909946293} & {0.9800851433251829}\n",
       "        \\end{pmatrix}$\n",
       "        "
      ],
      "text/plain": [
       "<IPython.core.display.Latex object>"
      ]
     },
     "metadata": {},
     "output_type": "display_data"
    },
    {
     "data": {
      "text/latex": [
       "\n",
       "        $B_{6,power}^{3} = \n",
       "        \\begin{pmatrix} \n",
       "        {0.01991485667481699} & {-0.1397077490994629} \\\\\n",
       "        {-0.13970774909946293} & {0.9800851433251829}\n",
       "        \\end{pmatrix}$\n",
       "        \n",
       "        $B_{6,dot}^{3} =\n",
       "        \\begin{pmatrix}\n",
       "        {0.01991485667481699} & {-0.1397077490994629} \\\\\n",
       "        {-0.13970774909946293} & {0.9800851433251829}\n",
       "        \\end{pmatrix}$\n",
       "        "
      ],
      "text/plain": [
       "<IPython.core.display.Latex object>"
      ]
     },
     "metadata": {},
     "output_type": "display_data"
    },
    {
     "data": {
      "text/latex": [
       "\n",
       "        $B_{6,power}^{4} = \n",
       "        \\begin{pmatrix} \n",
       "        {0.01991485667481699} & {-0.1397077490994629} \\\\\n",
       "        {-0.1397077490994629} & {0.9800851433251829}\n",
       "        \\end{pmatrix}$\n",
       "        \n",
       "        $B_{6,dot}^{4} =\n",
       "        \\begin{pmatrix}\n",
       "        {0.019914856674816985} & {-0.13970774909946287} \\\\\n",
       "        {-0.13970774909946293} & {0.9800851433251829}\n",
       "        \\end{pmatrix}$\n",
       "        "
      ],
      "text/plain": [
       "<IPython.core.display.Latex object>"
      ]
     },
     "metadata": {},
     "output_type": "display_data"
    }
   ],
   "source": [
    "for n in np.arange(1,5):\n",
    "    B_pow, B_dot = potenzen_B(6,n)\n",
    "    \n",
    "    latex_B(6,n)"
   ]
  },
  {
   "cell_type": "code",
   "execution_count": 77,
   "id": "0041b8b4-3a86-40cc-be83-6efee3737c04",
   "metadata": {},
   "outputs": [
    {
     "data": {
      "text/latex": [
       "\n",
       "        $B_{1,power}^{1} = \n",
       "        \\begin{pmatrix} \n",
       "        {0.22984884706593012} & {0.42073549240394825} \\\\\n",
       "        {0.42073549240394825} & {0.7701511529340699}\n",
       "        \\end{pmatrix}$\n",
       "        \n",
       "        $B_{1,dot}^{1} =\n",
       "        \\begin{pmatrix}\n",
       "        {0.22984884706593012} & {0.42073549240394825} \\\\\n",
       "        {0.42073549240394825} & {0.7701511529340699}\n",
       "        \\end{pmatrix}$\n",
       "        "
      ],
      "text/plain": [
       "<IPython.core.display.Latex object>"
      ]
     },
     "metadata": {},
     "output_type": "display_data"
    },
    {
     "data": {
      "text/latex": [
       "\n",
       "        $B_{1,power}^{2} = \n",
       "        \\begin{pmatrix} \n",
       "        {0.22984884706593012} & {0.42073549240394825} \\\\\n",
       "        {0.42073549240394825} & {0.7701511529340699}\n",
       "        \\end{pmatrix}$\n",
       "        \n",
       "        $B_{1,dot}^{2} =\n",
       "        \\begin{pmatrix}\n",
       "        {0.22984884706593012} & {0.42073549240394825} \\\\\n",
       "        {0.42073549240394825} & {0.7701511529340699}\n",
       "        \\end{pmatrix}$\n",
       "        "
      ],
      "text/plain": [
       "<IPython.core.display.Latex object>"
      ]
     },
     "metadata": {},
     "output_type": "display_data"
    },
    {
     "data": {
      "text/latex": [
       "\n",
       "        $B_{2,power}^{1} = \n",
       "        \\begin{pmatrix} \n",
       "        {0.7080734182735712} & {0.45464871341284085} \\\\\n",
       "        {0.45464871341284085} & {0.2919265817264288}\n",
       "        \\end{pmatrix}$\n",
       "        \n",
       "        $B_{2,dot}^{1} =\n",
       "        \\begin{pmatrix}\n",
       "        {0.7080734182735712} & {0.45464871341284085} \\\\\n",
       "        {0.45464871341284085} & {0.2919265817264288}\n",
       "        \\end{pmatrix}$\n",
       "        "
      ],
      "text/plain": [
       "<IPython.core.display.Latex object>"
      ]
     },
     "metadata": {},
     "output_type": "display_data"
    },
    {
     "data": {
      "text/latex": [
       "\n",
       "        $B_{2,power}^{2} = \n",
       "        \\begin{pmatrix} \n",
       "        {0.7080734182735712} & {0.45464871341284085} \\\\\n",
       "        {0.45464871341284085} & {0.2919265817264288}\n",
       "        \\end{pmatrix}$\n",
       "        \n",
       "        $B_{2,dot}^{2} =\n",
       "        \\begin{pmatrix}\n",
       "        {0.7080734182735712} & {0.45464871341284085} \\\\\n",
       "        {0.45464871341284085} & {0.2919265817264288}\n",
       "        \\end{pmatrix}$\n",
       "        "
      ],
      "text/plain": [
       "<IPython.core.display.Latex object>"
      ]
     },
     "metadata": {},
     "output_type": "display_data"
    },
    {
     "data": {
      "text/latex": [
       "\n",
       "        $B_{3,power}^{1} = \n",
       "        \\begin{pmatrix} \n",
       "        {0.9949962483002227} & {0.0705600040299336} \\\\\n",
       "        {0.0705600040299336} & {0.005003751699777292}\n",
       "        \\end{pmatrix}$\n",
       "        \n",
       "        $B_{3,dot}^{1} =\n",
       "        \\begin{pmatrix}\n",
       "        {0.9949962483002227} & {0.0705600040299336} \\\\\n",
       "        {0.0705600040299336} & {0.005003751699777292}\n",
       "        \\end{pmatrix}$\n",
       "        "
      ],
      "text/plain": [
       "<IPython.core.display.Latex object>"
      ]
     },
     "metadata": {},
     "output_type": "display_data"
    },
    {
     "data": {
      "text/latex": [
       "\n",
       "        $B_{3,power}^{2} = \n",
       "        \\begin{pmatrix} \n",
       "        {0.9949962483002226} & {0.0705600040299336} \\\\\n",
       "        {0.0705600040299336} & {0.005003751699777272}\n",
       "        \\end{pmatrix}$\n",
       "        \n",
       "        $B_{3,dot}^{2} =\n",
       "        \\begin{pmatrix}\n",
       "        {0.9949962483002226} & {0.0705600040299336} \\\\\n",
       "        {0.0705600040299336} & {0.005003751699777272}\n",
       "        \\end{pmatrix}$\n",
       "        "
      ],
      "text/plain": [
       "<IPython.core.display.Latex object>"
      ]
     },
     "metadata": {},
     "output_type": "display_data"
    },
    {
     "data": {
      "text/latex": [
       "\n",
       "        $B_{4,power}^{1} = \n",
       "        \\begin{pmatrix} \n",
       "        {0.8268218104318059} & {-0.3784012476539641} \\\\\n",
       "        {-0.3784012476539641} & {0.17317818956819403}\n",
       "        \\end{pmatrix}$\n",
       "        \n",
       "        $B_{4,dot}^{1} =\n",
       "        \\begin{pmatrix}\n",
       "        {0.8268218104318059} & {-0.3784012476539641} \\\\\n",
       "        {-0.3784012476539641} & {0.17317818956819403}\n",
       "        \\end{pmatrix}$\n",
       "        "
      ],
      "text/plain": [
       "<IPython.core.display.Latex object>"
      ]
     },
     "metadata": {},
     "output_type": "display_data"
    },
    {
     "data": {
      "text/latex": [
       "\n",
       "        $B_{4,power}^{2} = \n",
       "        \\begin{pmatrix} \n",
       "        {0.8268218104318059} & {-0.37840124765396405} \\\\\n",
       "        {-0.37840124765396405} & {0.17317818956819403}\n",
       "        \\end{pmatrix}$\n",
       "        \n",
       "        $B_{4,dot}^{2} =\n",
       "        \\begin{pmatrix}\n",
       "        {0.8268218104318059} & {-0.37840124765396405} \\\\\n",
       "        {-0.37840124765396405} & {0.17317818956819403}\n",
       "        \\end{pmatrix}$\n",
       "        "
      ],
      "text/plain": [
       "<IPython.core.display.Latex object>"
      ]
     },
     "metadata": {},
     "output_type": "display_data"
    },
    {
     "data": {
      "text/latex": [
       "\n",
       "        $B_{5,power}^{1} = \n",
       "        \\begin{pmatrix} \n",
       "        {0.3581689072683869} & {-0.4794621373315692} \\\\\n",
       "        {-0.4794621373315692} & {0.6418310927316131}\n",
       "        \\end{pmatrix}$\n",
       "        \n",
       "        $B_{5,dot}^{1} =\n",
       "        \\begin{pmatrix}\n",
       "        {0.3581689072683869} & {-0.4794621373315692} \\\\\n",
       "        {-0.4794621373315692} & {0.6418310927316131}\n",
       "        \\end{pmatrix}$\n",
       "        "
      ],
      "text/plain": [
       "<IPython.core.display.Latex object>"
      ]
     },
     "metadata": {},
     "output_type": "display_data"
    },
    {
     "data": {
      "text/latex": [
       "\n",
       "        $B_{5,power}^{2} = \n",
       "        \\begin{pmatrix} \n",
       "        {0.3581689072683869} & {-0.4794621373315692} \\\\\n",
       "        {-0.4794621373315692} & {0.6418310927316131}\n",
       "        \\end{pmatrix}$\n",
       "        \n",
       "        $B_{5,dot}^{2} =\n",
       "        \\begin{pmatrix}\n",
       "        {0.3581689072683869} & {-0.4794621373315692} \\\\\n",
       "        {-0.4794621373315692} & {0.6418310927316131}\n",
       "        \\end{pmatrix}$\n",
       "        "
      ],
      "text/plain": [
       "<IPython.core.display.Latex object>"
      ]
     },
     "metadata": {},
     "output_type": "display_data"
    },
    {
     "data": {
      "text/latex": [
       "\n",
       "        $B_{6,power}^{1} = \n",
       "        \\begin{pmatrix} \n",
       "        {0.019914856674817016} & {-0.13970774909946293} \\\\\n",
       "        {-0.13970774909946293} & {0.9800851433251829}\n",
       "        \\end{pmatrix}$\n",
       "        \n",
       "        $B_{6,dot}^{1} =\n",
       "        \\begin{pmatrix}\n",
       "        {0.019914856674817016} & {-0.13970774909946293} \\\\\n",
       "        {-0.13970774909946293} & {0.9800851433251829}\n",
       "        \\end{pmatrix}$\n",
       "        "
      ],
      "text/plain": [
       "<IPython.core.display.Latex object>"
      ]
     },
     "metadata": {},
     "output_type": "display_data"
    },
    {
     "data": {
      "text/latex": [
       "\n",
       "        $B_{6,power}^{2} = \n",
       "        \\begin{pmatrix} \n",
       "        {0.01991485667481699} & {-0.13970774909946293} \\\\\n",
       "        {-0.13970774909946293} & {0.9800851433251829}\n",
       "        \\end{pmatrix}$\n",
       "        \n",
       "        $B_{6,dot}^{2} =\n",
       "        \\begin{pmatrix}\n",
       "        {0.01991485667481699} & {-0.13970774909946293} \\\\\n",
       "        {-0.13970774909946293} & {0.9800851433251829}\n",
       "        \\end{pmatrix}$\n",
       "        "
      ],
      "text/plain": [
       "<IPython.core.display.Latex object>"
      ]
     },
     "metadata": {},
     "output_type": "display_data"
    }
   ],
   "source": [
    "for x in np.arange(1,7):\n",
    "    for n in np.arange(1,3):\n",
    "        B_pow, B_dot = potenzen_B(x,n)\n",
    "        \n",
    "        latex_B(x,n)"
   ]
  },
  {
   "cell_type": "code",
   "execution_count": null,
   "id": "5587d951-f1ce-4c67-9765-3f5477d5faad",
   "metadata": {},
   "outputs": [],
   "source": []
  },
  {
   "cell_type": "markdown",
   "id": "9468d33b-0dec-4b8e-a36b-c362a359c4b3",
   "metadata": {},
   "source": [
    "#### 2-c)\n",
    "\n",
    "Die besondere Struktur von $B_{x}$ können wir zur Evaluation der Methoden `dot` und `np.matrix_power` verwenden. <br>\n",
    "Rufen Sie Ihre Funktion `potenzen` für $B^{20}_{6}$ auf und \n",
    "vergleichen Sie die beiden Berechnungen mit $B$. <br>\n",
    "Wählen Sie dafür die Ausgabegenauigkeit hoch genug (zB mit `np.set_printoptions(precision=16)`). <br>\n",
    "Wiederholen Sie dies für mehrere Werte $x$ und stellen Sie eine Vermutung auf, welche der beiden Methoden exakter rechnet. <br>\n",
    "Evaluieren Sie dies nun, indem Sie für $n=2,…,25$ folgendes für beide Methoden berechnen:\n",
    "  $$ \\sqrt{ \\sum_{i=1}^2 \\sum_{j=1}^2 (B_{ij} - B_{ij}^{n})^2  }.$$ \n",
    "Dies wird auch **Frobeniusnorm** genannt und kann mittels dem numpy Untermodul `linalg` und der Funktion `norm` berechnet werden. <br>\n",
    "Wie verhalten sich die beiden Methoden?\n"
   ]
  },
  {
   "cell_type": "code",
   "execution_count": 78,
   "id": "bb688eaf-d689-4226-bcc8-2ace24c0baf3",
   "metadata": {},
   "outputs": [
    {
     "data": {
      "text/latex": [
       "\n",
       "        $B_{6,power}^{1} = \n",
       "        \\begin{pmatrix} \n",
       "        {0.01991485667481699} & {-0.13970774909946293} \\\\\n",
       "        {-0.13970774909946293} & {0.9800851433251829}\n",
       "        \\end{pmatrix}$\n",
       "        \n",
       "        $B_{6,dot}^{1} =\n",
       "        \\begin{pmatrix}\n",
       "        {0.01991485667481699} & {-0.13970774909946293} \\\\\n",
       "        {-0.13970774909946293} & {0.9800851433251829}\n",
       "        \\end{pmatrix}$\n",
       "        "
      ],
      "text/plain": [
       "<IPython.core.display.Latex object>"
      ]
     },
     "metadata": {},
     "output_type": "display_data"
    },
    {
     "data": {
      "text/latex": [
       "\n",
       "        $B_{6,power}^{20} = \n",
       "        \\begin{pmatrix} \n",
       "        {0.01991485667481699} & {-0.13970774909946293} \\\\\n",
       "        {-0.13970774909946293} & {0.9800851433251829}\n",
       "        \\end{pmatrix}$\n",
       "        \n",
       "        $B_{6,dot}^{20} =\n",
       "        \\begin{pmatrix}\n",
       "        {0.01991485667481699} & {-0.13970774909946293} \\\\\n",
       "        {-0.13970774909946293} & {0.9800851433251829}\n",
       "        \\end{pmatrix}$\n",
       "        "
      ],
      "text/plain": [
       "<IPython.core.display.Latex object>"
      ]
     },
     "metadata": {},
     "output_type": "display_data"
    }
   ],
   "source": [
    "A = A_x(6)\n",
    "B1, B2 = potenzen_B(6,1)\n",
    "B3, B4 = potenzen_B(6,20)\n",
    "\n",
    "latex_B(6,1)\n",
    "latex_B(6,20)"
   ]
  },
  {
   "cell_type": "code",
   "execution_count": 84,
   "id": "81b6a88d-ce4f-4821-8db6-62b56d200eef",
   "metadata": {},
   "outputs": [
    {
     "data": {
      "text/latex": [
       "\n",
       "        $B_{1,power}^{20} = \n",
       "        \\begin{pmatrix} \n",
       "        {0.22984884706593012} & {0.42073549240394825} \\\\\n",
       "        {0.42073549240394825} & {0.7701511529340699}\n",
       "        \\end{pmatrix}$\n",
       "        \n",
       "        $B_{1,dot}^{20} =\n",
       "        \\begin{pmatrix}\n",
       "        {0.22984884706593012} & {0.42073549240394825} \\\\\n",
       "        {0.42073549240394825} & {0.7701511529340699}\n",
       "        \\end{pmatrix}$\n",
       "        "
      ],
      "text/plain": [
       "<IPython.core.display.Latex object>"
      ]
     },
     "metadata": {},
     "output_type": "display_data"
    },
    {
     "data": {
      "text/latex": [
       "\n",
       "        $B_{2,power}^{20} = \n",
       "        \\begin{pmatrix} \n",
       "        {0.7080734182735712} & {0.45464871341284085} \\\\\n",
       "        {0.45464871341284085} & {0.2919265817264288}\n",
       "        \\end{pmatrix}$\n",
       "        \n",
       "        $B_{2,dot}^{20} =\n",
       "        \\begin{pmatrix}\n",
       "        {0.7080734182735712} & {0.45464871341284085} \\\\\n",
       "        {0.45464871341284085} & {0.2919265817264288}\n",
       "        \\end{pmatrix}$\n",
       "        "
      ],
      "text/plain": [
       "<IPython.core.display.Latex object>"
      ]
     },
     "metadata": {},
     "output_type": "display_data"
    },
    {
     "data": {
      "text/latex": [
       "\n",
       "        $B_{3,power}^{20} = \n",
       "        \\begin{pmatrix} \n",
       "        {0.9949962483002216} & {0.07056000402993355} \\\\\n",
       "        {0.07056000402993355} & {0.005003751699777267}\n",
       "        \\end{pmatrix}$\n",
       "        \n",
       "        $B_{3,dot}^{20} =\n",
       "        \\begin{pmatrix}\n",
       "        {0.9949962483002226} & {0.0705600040299336} \\\\\n",
       "        {0.0705600040299336} & {0.005003751699777272}\n",
       "        \\end{pmatrix}$\n",
       "        "
      ],
      "text/plain": [
       "<IPython.core.display.Latex object>"
      ]
     },
     "metadata": {},
     "output_type": "display_data"
    },
    {
     "data": {
      "text/latex": [
       "\n",
       "        $B_{4,power}^{20} = \n",
       "        \\begin{pmatrix} \n",
       "        {0.826821810431805} & {-0.37840124765396366} \\\\\n",
       "        {-0.3784012476539636} & {0.17317818956819378}\n",
       "        \\end{pmatrix}$\n",
       "        \n",
       "        $B_{4,dot}^{20} =\n",
       "        \\begin{pmatrix}\n",
       "        {0.8268218104318056} & {-0.37840124765396393} \\\\\n",
       "        {-0.378401247653964} & {0.17317818956819397}\n",
       "        \\end{pmatrix}$\n",
       "        "
      ],
      "text/plain": [
       "<IPython.core.display.Latex object>"
      ]
     },
     "metadata": {},
     "output_type": "display_data"
    },
    {
     "data": {
      "text/latex": [
       "\n",
       "        $B_{5,power}^{20} = \n",
       "        \\begin{pmatrix} \n",
       "        {0.3581689072683869} & {-0.4794621373315692} \\\\\n",
       "        {-0.4794621373315692} & {0.6418310927316131}\n",
       "        \\end{pmatrix}$\n",
       "        \n",
       "        $B_{5,dot}^{20} =\n",
       "        \\begin{pmatrix}\n",
       "        {0.3581689072683869} & {-0.4794621373315692} \\\\\n",
       "        {-0.4794621373315692} & {0.6418310927316131}\n",
       "        \\end{pmatrix}$\n",
       "        "
      ],
      "text/plain": [
       "<IPython.core.display.Latex object>"
      ]
     },
     "metadata": {},
     "output_type": "display_data"
    },
    {
     "data": {
      "text/latex": [
       "\n",
       "        $B_{6,power}^{20} = \n",
       "        \\begin{pmatrix} \n",
       "        {0.01991485667481697} & {-0.13970774909946287} \\\\\n",
       "        {-0.13970774909946282} & {0.9800851433251829}\n",
       "        \\end{pmatrix}$\n",
       "        \n",
       "        $B_{6,dot}^{20} =\n",
       "        \\begin{pmatrix}\n",
       "        {0.019914856674816923} & {-0.13970774909946243} \\\\\n",
       "        {-0.13970774909946293} & {0.9800851433251829}\n",
       "        \\end{pmatrix}$\n",
       "        "
      ],
      "text/plain": [
       "<IPython.core.display.Latex object>"
      ]
     },
     "metadata": {},
     "output_type": "display_data"
    }
   ],
   "source": [
    "for x in np.arange(1,7):\n",
    "    A = A_x(x)\n",
    "    B = 0.5 * A\n",
    "    B_pow, B_dot = potenzen_B(x,20)\n",
    "    \n",
    "    latex_B(x,20)"
   ]
  },
  {
   "cell_type": "code",
   "execution_count": 88,
   "id": "a6c8593d-5676-448c-bb33-08cf9fcbf217",
   "metadata": {},
   "outputs": [
    {
     "data": {
      "text/latex": [
       "\n",
       "    $||B_{6} - B_{6,power}^{2}||$ = ${2.7755575615628914e-17}$"
      ],
      "text/plain": [
       "<IPython.core.display.Latex object>"
      ]
     },
     "metadata": {},
     "output_type": "display_data"
    },
    {
     "data": {
      "text/latex": [
       "\n",
       "    $||B_{6} - B_{6,dot}^{2}||$ = ${2.7755575615628914e-17}$"
      ],
      "text/plain": [
       "<IPython.core.display.Latex object>"
      ]
     },
     "metadata": {},
     "output_type": "display_data"
    },
    {
     "data": {
      "text/latex": [
       "\n",
       "    $||B_{6} - B_{6,power}^{3}||$ = ${3.925231146709438e-17}$"
      ],
      "text/plain": [
       "<IPython.core.display.Latex object>"
      ]
     },
     "metadata": {},
     "output_type": "display_data"
    },
    {
     "data": {
      "text/latex": [
       "\n",
       "    $||B_{6} - B_{6,dot}^{3}||$ = ${3.925231146709438e-17}$"
      ],
      "text/plain": [
       "<IPython.core.display.Latex object>"
      ]
     },
     "metadata": {},
     "output_type": "display_data"
    },
    {
     "data": {
      "text/latex": [
       "\n",
       "    $||B_{6} - B_{6,power}^{4}||$ = ${4.8074067159589095e-17}$"
      ],
      "text/plain": [
       "<IPython.core.display.Latex object>"
      ]
     },
     "metadata": {},
     "output_type": "display_data"
    },
    {
     "data": {
      "text/latex": [
       "\n",
       "    $||B_{6} - B_{6,dot}^{4}||$ = ${6.369057972232327e-17}$"
      ],
      "text/plain": [
       "<IPython.core.display.Latex object>"
      ]
     },
     "metadata": {},
     "output_type": "display_data"
    },
    {
     "data": {
      "text/latex": [
       "\n",
       "    $||B_{6} - B_{6,power}^{5}||$ = ${6.369057972232327e-17}$"
      ],
      "text/plain": [
       "<IPython.core.display.Latex object>"
      ]
     },
     "metadata": {},
     "output_type": "display_data"
    },
    {
     "data": {
      "text/latex": [
       "\n",
       "    $||B_{6} - B_{6,dot}^{5}||$ = ${9.159602786276758e-17}$"
      ],
      "text/plain": [
       "<IPython.core.display.Latex object>"
      ]
     },
     "metadata": {},
     "output_type": "display_data"
    },
    {
     "data": {
      "text/latex": [
       "\n",
       "    $||B_{6} - B_{6,power}^{6}||$ = ${6.947562107041945e-17}$"
      ],
      "text/plain": [
       "<IPython.core.display.Latex object>"
      ]
     },
     "metadata": {},
     "output_type": "display_data"
    },
    {
     "data": {
      "text/latex": [
       "\n",
       "    $||B_{6} - B_{6,dot}^{6}||$ = ${1.1857187100668868e-16}$"
      ],
      "text/plain": [
       "<IPython.core.display.Latex object>"
      ]
     },
     "metadata": {},
     "output_type": "display_data"
    },
    {
     "data": {
      "text/latex": [
       "\n",
       "    $||B_{6} - B_{6,power}^{7}||$ = ${6.947562107041945e-17}$"
      ],
      "text/plain": [
       "<IPython.core.display.Latex object>"
      ]
     },
     "metadata": {},
     "output_type": "display_data"
    },
    {
     "data": {
      "text/latex": [
       "\n",
       "    $||B_{6} - B_{6,dot}^{7}||$ = ${1.459231405488224e-16}$"
      ],
      "text/plain": [
       "<IPython.core.display.Latex object>"
      ]
     },
     "metadata": {},
     "output_type": "display_data"
    },
    {
     "data": {
      "text/latex": [
       "\n",
       "    $||B_{6} - B_{6,power}^{8}||$ = ${8.7289520232855e-17}$"
      ],
      "text/plain": [
       "<IPython.core.display.Latex object>"
      ]
     },
     "metadata": {},
     "output_type": "display_data"
    },
    {
     "data": {
      "text/latex": [
       "\n",
       "    $||B_{6} - B_{6,dot}^{8}||$ = ${1.734723475976807e-16}$"
      ],
      "text/plain": [
       "<IPython.core.display.Latex object>"
      ]
     },
     "metadata": {},
     "output_type": "display_data"
    },
    {
     "data": {
      "text/latex": [
       "\n",
       "    $||B_{6} - B_{6,power}^{9}||$ = ${9.159602786276758e-17}$"
      ],
      "text/plain": [
       "<IPython.core.display.Latex object>"
      ]
     },
     "metadata": {},
     "output_type": "display_data"
    },
    {
     "data": {
      "text/latex": [
       "\n",
       "    $||B_{6} - B_{6,dot}^{9}||$ = ${2.0113817612349073e-16}$"
      ],
      "text/plain": [
       "<IPython.core.display.Latex object>"
      ]
     },
     "metadata": {},
     "output_type": "display_data"
    },
    {
     "data": {
      "text/latex": [
       "\n",
       "    $||B_{6} - B_{6,power}^{10}||$ = ${9.570895620573757e-17}$"
      ],
      "text/plain": [
       "<IPython.core.display.Latex object>"
      ]
     },
     "metadata": {},
     "output_type": "display_data"
    },
    {
     "data": {
      "text/latex": [
       "\n",
       "    $||B_{6} - B_{6,dot}^{10}||$ = ${2.2887833992611187e-16}$"
      ],
      "text/plain": [
       "<IPython.core.display.Latex object>"
      ]
     },
     "metadata": {},
     "output_type": "display_data"
    },
    {
     "data": {
      "text/latex": [
       "\n",
       "    $||B_{6} - B_{6,power}^{11}||$ = ${9.570895620573757e-17}$"
      ],
      "text/plain": [
       "<IPython.core.display.Latex object>"
      ]
     },
     "metadata": {},
     "output_type": "display_data"
    },
    {
     "data": {
      "text/latex": [
       "\n",
       "    $||B_{6} - B_{6,dot}^{11}||$ = ${2.5666873818249836e-16}$"
      ],
      "text/plain": [
       "<IPython.core.display.Latex object>"
      ]
     },
     "metadata": {},
     "output_type": "display_data"
    },
    {
     "data": {
      "text/latex": [
       "\n",
       "    $||B_{6} - B_{6,power}^{12}||$ = ${1.0838898772828417e-16}$"
      ],
      "text/plain": [
       "<IPython.core.display.Latex object>"
      ]
     },
     "metadata": {},
     "output_type": "display_data"
    },
    {
     "data": {
      "text/latex": [
       "\n",
       "    $||B_{6} - B_{6,dot}^{12}||$ = ${2.8449465006019636e-16}$"
      ],
      "text/plain": [
       "<IPython.core.display.Latex object>"
      ]
     },
     "metadata": {},
     "output_type": "display_data"
    },
    {
     "data": {
      "text/latex": [
       "\n",
       "    $||B_{6} - B_{6,power}^{13}||$ = ${9.570895620573757e-17}$"
      ],
      "text/plain": [
       "<IPython.core.display.Latex object>"
      ]
     },
     "metadata": {},
     "output_type": "display_data"
    },
    {
     "data": {
      "text/latex": [
       "\n",
       "    $||B_{6} - B_{6,dot}^{13}||$ = ${3.1234658433439916e-16}$"
      ],
      "text/plain": [
       "<IPython.core.display.Latex object>"
      ]
     },
     "metadata": {},
     "output_type": "display_data"
    },
    {
     "data": {
      "text/latex": [
       "\n",
       "    $||B_{6} - B_{6,power}^{14}||$ = ${1.0838898772828417e-16}$"
      ],
      "text/plain": [
       "<IPython.core.display.Latex object>"
      ]
     },
     "metadata": {},
     "output_type": "display_data"
    },
    {
     "data": {
      "text/latex": [
       "\n",
       "    $||B_{6} - B_{6,dot}^{14}||$ = ${3.4094267730209737e-16}$"
      ],
      "text/plain": [
       "<IPython.core.display.Latex object>"
      ]
     },
     "metadata": {},
     "output_type": "display_data"
    },
    {
     "data": {
      "text/latex": [
       "\n",
       "    $||B_{6} - B_{6,power}^{15}||$ = ${1.0838898772828417e-16}$"
      ],
      "text/plain": [
       "<IPython.core.display.Latex object>"
      ]
     },
     "metadata": {},
     "output_type": "display_data"
    },
    {
     "data": {
      "text/latex": [
       "\n",
       "    $||B_{6} - B_{6,dot}^{15}||$ = ${3.6880726988814704e-16}$"
      ],
      "text/plain": [
       "<IPython.core.display.Latex object>"
      ]
     },
     "metadata": {},
     "output_type": "display_data"
    },
    {
     "data": {
      "text/latex": [
       "\n",
       "    $||B_{6} - B_{6,power}^{16}||$ = ${1.2609900516398658e-16}$"
      ],
      "text/plain": [
       "<IPython.core.display.Latex object>"
      ]
     },
     "metadata": {},
     "output_type": "display_data"
    },
    {
     "data": {
      "text/latex": [
       "\n",
       "    $||B_{6} - B_{6,dot}^{16}||$ = ${3.966869212850224e-16}$"
      ],
      "text/plain": [
       "<IPython.core.display.Latex object>"
      ]
     },
     "metadata": {},
     "output_type": "display_data"
    },
    {
     "data": {
      "text/latex": [
       "\n",
       "    $||B_{6} - B_{6,power}^{17}||$ = ${1.1857187100668868e-16}$"
      ],
      "text/plain": [
       "<IPython.core.display.Latex object>"
      ]
     },
     "metadata": {},
     "output_type": "display_data"
    },
    {
     "data": {
      "text/latex": [
       "\n",
       "    $||B_{6} - B_{6,dot}^{17}||$ = ${4.2457866502527573e-16}$"
      ],
      "text/plain": [
       "<IPython.core.display.Latex object>"
      ]
     },
     "metadata": {},
     "output_type": "display_data"
    },
    {
     "data": {
      "text/latex": [
       "\n",
       "    $||B_{6} - B_{6,power}^{18}||$ = ${1.2177709378935645e-16}$"
      ],
      "text/plain": [
       "<IPython.core.display.Latex object>"
      ]
     },
     "metadata": {},
     "output_type": "display_data"
    },
    {
     "data": {
      "text/latex": [
       "\n",
       "    $||B_{6} - B_{6,dot}^{18}||$ = ${4.524802649293288e-16}$"
      ],
      "text/plain": [
       "<IPython.core.display.Latex object>"
      ]
     },
     "metadata": {},
     "output_type": "display_data"
    },
    {
     "data": {
      "text/latex": [
       "\n",
       "    $||B_{6} - B_{6,power}^{19}||$ = ${1.2177709378935645e-16}$"
      ],
      "text/plain": [
       "<IPython.core.display.Latex object>"
      ]
     },
     "metadata": {},
     "output_type": "display_data"
    },
    {
     "data": {
      "text/latex": [
       "\n",
       "    $||B_{6} - B_{6,dot}^{19}||$ = ${4.803900036285107e-16}$"
      ],
      "text/plain": [
       "<IPython.core.display.Latex object>"
      ]
     },
     "metadata": {},
     "output_type": "display_data"
    },
    {
     "data": {
      "text/latex": [
       "\n",
       "    $||B_{6} - B_{6,power}^{20}||$ = ${1.3206704001701902e-16}$"
      ],
      "text/plain": [
       "<IPython.core.display.Latex object>"
      ]
     },
     "metadata": {},
     "output_type": "display_data"
    },
    {
     "data": {
      "text/latex": [
       "\n",
       "    $||B_{6} - B_{6,dot}^{20}||$ = ${5.083065404868406e-16}$"
      ],
      "text/plain": [
       "<IPython.core.display.Latex object>"
      ]
     },
     "metadata": {},
     "output_type": "display_data"
    },
    {
     "data": {
      "text/latex": [
       "\n",
       "    $||B_{6} - B_{6,power}^{21}||$ = ${1.6478959984131287e-16}$"
      ],
      "text/plain": [
       "<IPython.core.display.Latex object>"
      ]
     },
     "metadata": {},
     "output_type": "display_data"
    },
    {
     "data": {
      "text/latex": [
       "\n",
       "    $||B_{6} - B_{6,dot}^{21}||$ = ${5.362288137511955e-16}$"
      ],
      "text/plain": [
       "<IPython.core.display.Latex object>"
      ]
     },
     "metadata": {},
     "output_type": "display_data"
    },
    {
     "data": {
      "text/latex": [
       "\n",
       "    $||B_{6} - B_{6,power}^{22}||$ = ${1.7253305394310741e-16}$"
      ],
      "text/plain": [
       "<IPython.core.display.Latex object>"
      ]
     },
     "metadata": {},
     "output_type": "display_data"
    },
    {
     "data": {
      "text/latex": [
       "\n",
       "    $||B_{6} - B_{6,dot}^{22}||$ = ${5.647850449853784e-16}$"
      ],
      "text/plain": [
       "<IPython.core.display.Latex object>"
      ]
     },
     "metadata": {},
     "output_type": "display_data"
    },
    {
     "data": {
      "text/latex": [
       "\n",
       "    $||B_{6} - B_{6,power}^{23}||$ = ${1.7253305394310741e-16}$"
      ],
      "text/plain": [
       "<IPython.core.display.Latex object>"
      ]
     },
     "metadata": {},
     "output_type": "display_data"
    },
    {
     "data": {
      "text/latex": [
       "\n",
       "    $||B_{6} - B_{6,dot}^{23}||$ = ${5.654347069560141e-16}$"
      ],
      "text/plain": [
       "<IPython.core.display.Latex object>"
      ]
     },
     "metadata": {},
     "output_type": "display_data"
    },
    {
     "data": {
      "text/latex": [
       "\n",
       "    $||B_{6} - B_{6,power}^{24}||$ = ${1.8424037361508207e-16}$"
      ],
      "text/plain": [
       "<IPython.core.display.Latex object>"
      ]
     },
     "metadata": {},
     "output_type": "display_data"
    },
    {
     "data": {
      "text/latex": [
       "\n",
       "    $||B_{6} - B_{6,dot}^{24}||$ = ${5.654347069560141e-16}$"
      ],
      "text/plain": [
       "<IPython.core.display.Latex object>"
      ]
     },
     "metadata": {},
     "output_type": "display_data"
    },
    {
     "data": {
      "text/latex": [
       "\n",
       "    $||B_{6} - B_{6,power}^{25}||$ = ${1.6478959984131287e-16}$"
      ],
      "text/plain": [
       "<IPython.core.display.Latex object>"
      ]
     },
     "metadata": {},
     "output_type": "display_data"
    },
    {
     "data": {
      "text/latex": [
       "\n",
       "    $||B_{6} - B_{6,dot}^{25}||$ = ${5.654347069560141e-16}$"
      ],
      "text/plain": [
       "<IPython.core.display.Latex object>"
      ]
     },
     "metadata": {},
     "output_type": "display_data"
    }
   ],
   "source": [
    "## 계산 다시해라잉~~~\n",
    "\n",
    "for n in np.arange(2,26):\n",
    "    A = A_x(6)\n",
    "    B = 0.5 * A\n",
    "    \n",
    "    B1_pow, B1_dot = potenzen_B(6,1)\n",
    "    Bn_pow, Bn_dot = potenzen_B(6,n)\n",
    "    \n",
    "    display(Latex(r'''\n",
    "    $||B_{6} - B_{6,power}^{%s}||$ = ${%s}$''' \n",
    "                  % (n, np.linalg.norm(B1_pow - Bn_pow),) \n",
    "                 ))\n",
    "    \n",
    "    display(Latex(r'''\n",
    "    $||B_{6} - B_{6,dot}^{%s}||$ = ${%s}$''' \n",
    "                  % (n, np.linalg.norm(B1_dot - Bn_dot)) \n",
    "                 ))"
   ]
  },
  {
   "cell_type": "code",
   "execution_count": null,
   "id": "6b243b50-fa0f-4954-8cf5-26c93193a917",
   "metadata": {},
   "outputs": [],
   "source": []
  }
 ],
 "metadata": {
  "kernelspec": {
   "display_name": "Python 3 (ipykernel)",
   "language": "python",
   "name": "python3"
  },
  "language_info": {
   "codemirror_mode": {
    "name": "ipython",
    "version": 3
   },
   "file_extension": ".py",
   "mimetype": "text/x-python",
   "name": "python",
   "nbconvert_exporter": "python",
   "pygments_lexer": "ipython3",
   "version": "3.9.10"
  }
 },
 "nbformat": 4,
 "nbformat_minor": 5
}
