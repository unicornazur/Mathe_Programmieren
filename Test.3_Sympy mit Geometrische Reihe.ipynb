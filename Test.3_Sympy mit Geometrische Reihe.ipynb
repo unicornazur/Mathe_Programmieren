{
 "cells": [
  {
   "cell_type": "code",
   "execution_count": null,
   "id": "fa524ce2-7152-42f3-a773-e75f9107c858",
   "metadata": {},
   "outputs": [],
   "source": []
  },
  {
   "cell_type": "markdown",
   "id": "fb010af6-c6b8-40ee-914e-bd698a230f77",
   "metadata": {},
   "source": [
    "# 3. Sympy mit Geometrische Reihe"
   ]
  },
  {
   "cell_type": "markdown",
   "id": "77ec21ad-650c-4723-a6a4-c3eabc0c869e",
   "metadata": {},
   "source": [
    "Für $q \\neq 1$ kann die n-te Partialsumme der geometrischen Reihe wie folgt berechnet werden:\n",
    "$$\\sum_{k=0}^{n}{q^{k}} = \\frac{1-q^{n+1}}{1-q}$$\n",
    "Zeigen Sie dies empirisch, indem Sie mithilfe von `sympy` die linke und rechte Seite in einer for-Schleife für $n = 1, \\ldots, 5$ berechnen und deren faktorisierte Formen mit einem logischen Operator vergleichen. \n",
    "Geben Sie dies für jedes $n$ aus. \n",
    "Anschließend berechnen Sie die 5-te Partialsumme an der Stelle $q = 3$ (indem Sie mittels einer `sympy` Routine für $q$ den konkreten Wert übergeben) und geben diese aus.\""
   ]
  },
  {
   "cell_type": "markdown",
   "id": "b144351f-8fac-470c-94d3-4141aa71f840",
   "metadata": {},
   "source": [
    "## Practice"
   ]
  },
  {
   "cell_type": "markdown",
   "id": "72b8da27-305c-465e-b4fe-54957faca499",
   "metadata": {},
   "source": [
    "[doit()](https://m.blog.naver.com/rlgus4175/222071997689)"
   ]
  },
  {
   "cell_type": "code",
   "execution_count": 1,
   "id": "321c2843-098a-4ce0-8142-8e39c7c08f39",
   "metadata": {},
   "outputs": [
    {
     "data": {
      "text/latex": [
       "$\\displaystyle \\sum_{k=0}^{3} g^{k}$"
      ],
      "text/plain": [
       "Sum(g**k, (k, 0, 3))"
      ]
     },
     "execution_count": 1,
     "metadata": {},
     "output_type": "execute_result"
    }
   ],
   "source": [
    "from sympy import *\n",
    "\n",
    "q,k = symbols('g k')\n",
    "\n",
    "n = 3\n",
    "s1 = Sum(q**k, (k,0,n))\n",
    "s1"
   ]
  },
  {
   "cell_type": "code",
   "execution_count": 2,
   "id": "db42a3db-2cd5-41a1-a886-a25b870d56dd",
   "metadata": {},
   "outputs": [
    {
     "data": {
      "text/latex": [
       "$\\displaystyle g^{3} + g^{2} + g + 1$"
      ],
      "text/plain": [
       "g**3 + g**2 + g + 1"
      ]
     },
     "execution_count": 2,
     "metadata": {},
     "output_type": "execute_result"
    }
   ],
   "source": [
    "s1.doit()"
   ]
  },
  {
   "cell_type": "code",
   "execution_count": 3,
   "id": "ac7ced3c-5196-4155-9af9-76f6c5191665",
   "metadata": {},
   "outputs": [
    {
     "data": {
      "text/latex": [
       "$\\displaystyle \\frac{1 - g^{4}}{1 - g}$"
      ],
      "text/plain": [
       "(1 - g**4)/(1 - g)"
      ]
     },
     "execution_count": 3,
     "metadata": {},
     "output_type": "execute_result"
    }
   ],
   "source": [
    "s2 = (1 -q**(n+1)) / (1-q)\n",
    "s2"
   ]
  },
  {
   "cell_type": "code",
   "execution_count": 4,
   "id": "a582e5a3-52b1-40b7-bc3b-d614178b9717",
   "metadata": {},
   "outputs": [
    {
     "data": {
      "text/plain": [
       "False"
      ]
     },
     "execution_count": 4,
     "metadata": {},
     "output_type": "execute_result"
    }
   ],
   "source": [
    "s1.factor() == s2.factor()"
   ]
  },
  {
   "cell_type": "code",
   "execution_count": 5,
   "id": "7235e461-96f0-456d-b1bc-ce64a1ac403b",
   "metadata": {},
   "outputs": [
    {
     "data": {
      "text/latex": [
       "$\\displaystyle \\sum_{k=0}^{3} g^{k}$"
      ],
      "text/plain": [
       "Sum(g**k, (k, 0, 3))"
      ]
     },
     "execution_count": 5,
     "metadata": {},
     "output_type": "execute_result"
    }
   ],
   "source": [
    "s1.factor()"
   ]
  },
  {
   "cell_type": "code",
   "execution_count": 6,
   "id": "d10dedef-5064-42cb-b78e-98c76cbd848d",
   "metadata": {},
   "outputs": [
    {
     "data": {
      "text/latex": [
       "$\\displaystyle \\sum_{k=0}^{3} g^{k}$"
      ],
      "text/plain": [
       "Sum(g**k, (k, 0, 3))"
      ]
     },
     "execution_count": 6,
     "metadata": {},
     "output_type": "execute_result"
    }
   ],
   "source": [
    "s1.expand()"
   ]
  },
  {
   "cell_type": "code",
   "execution_count": 7,
   "id": "58c146ed-bd5e-47c9-a689-701bdb4b48fd",
   "metadata": {},
   "outputs": [
    {
     "data": {
      "text/latex": [
       "$\\displaystyle \\left(g + 1\\right) \\left(g^{2} + 1\\right)$"
      ],
      "text/plain": [
       "(g + 1)*(g**2 + 1)"
      ]
     },
     "execution_count": 7,
     "metadata": {},
     "output_type": "execute_result"
    }
   ],
   "source": [
    "s2.factor()"
   ]
  },
  {
   "cell_type": "code",
   "execution_count": 8,
   "id": "c0e8b73d-aff0-4b56-b7ce-16e820401ee7",
   "metadata": {},
   "outputs": [
    {
     "data": {
      "text/latex": [
       "$\\displaystyle \\left(g + 1\\right) \\left(g^{2} + 1\\right)$"
      ],
      "text/plain": [
       "(g + 1)*(g**2 + 1)"
      ]
     },
     "execution_count": 8,
     "metadata": {},
     "output_type": "execute_result"
    }
   ],
   "source": [
    "s2.factor().doit()"
   ]
  },
  {
   "cell_type": "code",
   "execution_count": 9,
   "id": "cd708d06-69ad-4ec7-8281-b0ca17a28437",
   "metadata": {},
   "outputs": [
    {
     "data": {
      "text/latex": [
       "$\\displaystyle g^{3} + g^{2} + g + 1$"
      ],
      "text/plain": [
       "g**3 + g**2 + g + 1"
      ]
     },
     "execution_count": 9,
     "metadata": {},
     "output_type": "execute_result"
    }
   ],
   "source": [
    "s1.factor().doit()"
   ]
  },
  {
   "cell_type": "code",
   "execution_count": 10,
   "id": "32b3dd56-ca0e-4362-b57c-c188c374197a",
   "metadata": {},
   "outputs": [
    {
     "data": {
      "text/plain": [
       "False"
      ]
     },
     "execution_count": 10,
     "metadata": {},
     "output_type": "execute_result"
    }
   ],
   "source": [
    "s1.factor().doit() == s2.factor().doit()"
   ]
  },
  {
   "cell_type": "code",
   "execution_count": 11,
   "id": "20c6a999-b4ba-488d-bb99-d66da223e903",
   "metadata": {},
   "outputs": [
    {
     "name": "stdout",
     "output_type": "stream",
     "text": [
      "n = 1 :  Sum(g**k, (k, 0, 1))  =  (1 - g**2)/(1 - g)\n",
      "n = 2 :  Sum(g**k, (k, 0, 2))  =  (1 - g**3)/(1 - g)\n",
      "n = 3 :  Sum(g**k, (k, 0, 3))  =  (1 - g**4)/(1 - g)\n",
      "n = 4 :  Sum(g**k, (k, 0, 4))  =  (1 - g**5)/(1 - g)\n",
      "n = 5 :  Sum(g**k, (k, 0, 5))  =  (1 - g**6)/(1 - g)\n"
     ]
    }
   ],
   "source": [
    "for n in range(1,6):\n",
    "    s1 = Sum(q**k, (k,0,n))\n",
    "    s2 = (1 -q**(n+1)) / (1-q)\n",
    "    print(f'n = {n} : ', s1, ' = ', s2)\n",
    "    "
   ]
  },
  {
   "cell_type": "code",
   "execution_count": 12,
   "id": "9f906949-301f-4a87-aa32-b23a61e322e6",
   "metadata": {},
   "outputs": [
    {
     "name": "stdout",
     "output_type": "stream",
     "text": [
      "n = 1\n"
     ]
    },
    {
     "data": {
      "text/latex": [
       "$\\displaystyle \\sum_{k=0}^{1} g^{k}$"
      ],
      "text/plain": [
       "Sum(g**k, (k, 0, 1))"
      ]
     },
     "metadata": {},
     "output_type": "display_data"
    },
    {
     "data": {
      "text/latex": [
       "$\\displaystyle \\frac{1 - g^{2}}{1 - g}$"
      ],
      "text/plain": [
       "(1 - g**2)/(1 - g)"
      ]
     },
     "metadata": {},
     "output_type": "display_data"
    },
    {
     "name": "stdout",
     "output_type": "stream",
     "text": [
      "n = 2\n"
     ]
    },
    {
     "data": {
      "text/latex": [
       "$\\displaystyle \\sum_{k=0}^{2} g^{k}$"
      ],
      "text/plain": [
       "Sum(g**k, (k, 0, 2))"
      ]
     },
     "metadata": {},
     "output_type": "display_data"
    },
    {
     "data": {
      "text/latex": [
       "$\\displaystyle \\frac{1 - g^{3}}{1 - g}$"
      ],
      "text/plain": [
       "(1 - g**3)/(1 - g)"
      ]
     },
     "metadata": {},
     "output_type": "display_data"
    },
    {
     "name": "stdout",
     "output_type": "stream",
     "text": [
      "n = 3\n"
     ]
    },
    {
     "data": {
      "text/latex": [
       "$\\displaystyle \\sum_{k=0}^{3} g^{k}$"
      ],
      "text/plain": [
       "Sum(g**k, (k, 0, 3))"
      ]
     },
     "metadata": {},
     "output_type": "display_data"
    },
    {
     "data": {
      "text/latex": [
       "$\\displaystyle \\frac{1 - g^{4}}{1 - g}$"
      ],
      "text/plain": [
       "(1 - g**4)/(1 - g)"
      ]
     },
     "metadata": {},
     "output_type": "display_data"
    },
    {
     "name": "stdout",
     "output_type": "stream",
     "text": [
      "n = 4\n"
     ]
    },
    {
     "data": {
      "text/latex": [
       "$\\displaystyle \\sum_{k=0}^{4} g^{k}$"
      ],
      "text/plain": [
       "Sum(g**k, (k, 0, 4))"
      ]
     },
     "metadata": {},
     "output_type": "display_data"
    },
    {
     "data": {
      "text/latex": [
       "$\\displaystyle \\frac{1 - g^{5}}{1 - g}$"
      ],
      "text/plain": [
       "(1 - g**5)/(1 - g)"
      ]
     },
     "metadata": {},
     "output_type": "display_data"
    },
    {
     "name": "stdout",
     "output_type": "stream",
     "text": [
      "n = 5\n"
     ]
    },
    {
     "data": {
      "text/latex": [
       "$\\displaystyle \\sum_{k=0}^{5} g^{k}$"
      ],
      "text/plain": [
       "Sum(g**k, (k, 0, 5))"
      ]
     },
     "metadata": {},
     "output_type": "display_data"
    },
    {
     "data": {
      "text/latex": [
       "$\\displaystyle \\frac{1 - g^{6}}{1 - g}$"
      ],
      "text/plain": [
       "(1 - g**6)/(1 - g)"
      ]
     },
     "metadata": {},
     "output_type": "display_data"
    }
   ],
   "source": [
    "from IPython.display import display\n",
    "\n",
    "for n in range(1,6):\n",
    "    s1 = Sum(q**k, (k,0,n))\n",
    "    s2 = (1 -q**(n+1)) / (1-q)\n",
    "    print(f'n = {n}')\n",
    "    display(s1,s2)"
   ]
  },
  {
   "cell_type": "code",
   "execution_count": 13,
   "id": "5f811d93-c516-4058-aaa6-a0fce9b93935",
   "metadata": {},
   "outputs": [
    {
     "data": {
      "text/latex": [
       "$\\displaystyle \\sum_{k=0}^{5} 3^{k}$"
      ],
      "text/plain": [
       "Sum(3**k, (k, 0, 5))"
      ]
     },
     "execution_count": 13,
     "metadata": {},
     "output_type": "execute_result"
    }
   ],
   "source": [
    "s1.subs({q:3})"
   ]
  },
  {
   "cell_type": "code",
   "execution_count": 14,
   "id": "fa27ae2c-3ef6-462b-ae83-53568b7291ef",
   "metadata": {},
   "outputs": [
    {
     "data": {
      "text/latex": [
       "$\\displaystyle 364$"
      ],
      "text/plain": [
       "364"
      ]
     },
     "execution_count": 14,
     "metadata": {},
     "output_type": "execute_result"
    }
   ],
   "source": [
    "s1.subs({q:3}).factor().doit()"
   ]
  },
  {
   "cell_type": "code",
   "execution_count": 15,
   "id": "d12518ea-8c77-493c-bca4-e2d2942b9244",
   "metadata": {},
   "outputs": [
    {
     "data": {
      "text/latex": [
       "$\\displaystyle 364$"
      ],
      "text/plain": [
       "364"
      ]
     },
     "execution_count": 15,
     "metadata": {},
     "output_type": "execute_result"
    }
   ],
   "source": [
    "s2.subs({q:3})"
   ]
  },
  {
   "cell_type": "code",
   "execution_count": 16,
   "id": "b18a4d1d-cc6e-4bc3-8ab6-94e5388b32f0",
   "metadata": {},
   "outputs": [
    {
     "data": {
      "text/plain": [
       "True"
      ]
     },
     "execution_count": 16,
     "metadata": {},
     "output_type": "execute_result"
    }
   ],
   "source": [
    "s1.subs({q:3}).factor().doit() == s2.subs({q:3})"
   ]
  },
  {
   "cell_type": "code",
   "execution_count": 17,
   "id": "901e523e-8204-4773-8252-85d07ec74b53",
   "metadata": {},
   "outputs": [
    {
     "name": "stdout",
     "output_type": "stream",
     "text": [
      "n = 1 :  Sum(g**k, (k, 0, 1))  =  (1 - g**2)/(1 - g)\n"
     ]
    },
    {
     "data": {
      "text/latex": [
       "$\\displaystyle \\sum_{k=0}^{1} g^{k}$"
      ],
      "text/plain": [
       "Sum(g**k, (k, 0, 1))"
      ]
     },
     "metadata": {},
     "output_type": "display_data"
    },
    {
     "data": {
      "text/latex": [
       "$\\displaystyle \\frac{1 - g^{2}}{1 - g}$"
      ],
      "text/plain": [
       "(1 - g**2)/(1 - g)"
      ]
     },
     "metadata": {},
     "output_type": "display_data"
    },
    {
     "name": "stdout",
     "output_type": "stream",
     "text": [
      "----------------\n",
      "n = 2 :  Sum(g**k, (k, 0, 2))  =  (1 - g**3)/(1 - g)\n"
     ]
    },
    {
     "data": {
      "text/latex": [
       "$\\displaystyle \\sum_{k=0}^{2} g^{k}$"
      ],
      "text/plain": [
       "Sum(g**k, (k, 0, 2))"
      ]
     },
     "metadata": {},
     "output_type": "display_data"
    },
    {
     "data": {
      "text/latex": [
       "$\\displaystyle \\frac{1 - g^{3}}{1 - g}$"
      ],
      "text/plain": [
       "(1 - g**3)/(1 - g)"
      ]
     },
     "metadata": {},
     "output_type": "display_data"
    },
    {
     "name": "stdout",
     "output_type": "stream",
     "text": [
      "----------------\n",
      "n = 3 :  Sum(g**k, (k, 0, 3))  =  (1 - g**4)/(1 - g)\n"
     ]
    },
    {
     "data": {
      "text/latex": [
       "$\\displaystyle \\sum_{k=0}^{3} g^{k}$"
      ],
      "text/plain": [
       "Sum(g**k, (k, 0, 3))"
      ]
     },
     "metadata": {},
     "output_type": "display_data"
    },
    {
     "data": {
      "text/latex": [
       "$\\displaystyle \\frac{1 - g^{4}}{1 - g}$"
      ],
      "text/plain": [
       "(1 - g**4)/(1 - g)"
      ]
     },
     "metadata": {},
     "output_type": "display_data"
    },
    {
     "name": "stdout",
     "output_type": "stream",
     "text": [
      "----------------\n",
      "n = 4 :  Sum(g**k, (k, 0, 4))  =  (1 - g**5)/(1 - g)\n"
     ]
    },
    {
     "data": {
      "text/latex": [
       "$\\displaystyle \\sum_{k=0}^{4} g^{k}$"
      ],
      "text/plain": [
       "Sum(g**k, (k, 0, 4))"
      ]
     },
     "metadata": {},
     "output_type": "display_data"
    },
    {
     "data": {
      "text/latex": [
       "$\\displaystyle \\frac{1 - g^{5}}{1 - g}$"
      ],
      "text/plain": [
       "(1 - g**5)/(1 - g)"
      ]
     },
     "metadata": {},
     "output_type": "display_data"
    },
    {
     "name": "stdout",
     "output_type": "stream",
     "text": [
      "----------------\n",
      "n = 5 :  Sum(g**k, (k, 0, 5))  =  (1 - g**6)/(1 - g)\n"
     ]
    },
    {
     "data": {
      "text/latex": [
       "$\\displaystyle \\sum_{k=0}^{5} g^{k}$"
      ],
      "text/plain": [
       "Sum(g**k, (k, 0, 5))"
      ]
     },
     "metadata": {},
     "output_type": "display_data"
    },
    {
     "data": {
      "text/latex": [
       "$\\displaystyle \\frac{1 - g^{6}}{1 - g}$"
      ],
      "text/plain": [
       "(1 - g**6)/(1 - g)"
      ]
     },
     "metadata": {},
     "output_type": "display_data"
    },
    {
     "name": "stdout",
     "output_type": "stream",
     "text": [
      "----------------\n"
     ]
    }
   ],
   "source": [
    "for n in range(1,6):\n",
    "    s1 = Sum(q**k, (k,0,n))\n",
    "    s2 = (1 -q**(n+1)) / (1-q)\n",
    "    print(f'n = {n} : ', s1, ' = ', s2)\n",
    "    display(s1,s2)\n",
    "    print('----------------')"
   ]
  },
  {
   "cell_type": "code",
   "execution_count": 18,
   "id": "ae788ca5-a12d-49d3-a0fa-f15b02f82896",
   "metadata": {},
   "outputs": [
    {
     "name": "stdout",
     "output_type": "stream",
     "text": [
      "n =1 und q = 3\n",
      "links = 4, recht = 4\n",
      "---------------\n",
      "n =2 und q = 3\n",
      "links = 13, recht = 13\n",
      "---------------\n",
      "n =3 und q = 3\n",
      "links = 40, recht = 40\n",
      "---------------\n",
      "n =4 und q = 3\n",
      "links = 121, recht = 121\n",
      "---------------\n",
      "n =5 und q = 3\n",
      "links = 364, recht = 364\n",
      "---------------\n"
     ]
    }
   ],
   "source": [
    "for n in range(1,6):\n",
    "    s1 = Sum(q**k, (k,0,n))\n",
    "    s2 = (1 -q**(n+1)) / (1-q)\n",
    "    links = s1.subs({q:3}).factor().doit()\n",
    "    recht = s2.subs({q:3}).factor()\n",
    "    print(f'n ={n} und q = 3')\n",
    "    print(f'links = {links}, recht = {recht}')\n",
    "    print('---------------')"
   ]
  },
  {
   "cell_type": "markdown",
   "id": "166bc029-9df9-43c7-abad-91de2f2d050b",
   "metadata": {},
   "source": [
    "***"
   ]
  },
  {
   "cell_type": "markdown",
   "id": "78daf0b8-d1be-4e93-9f0c-24257d8c27dc",
   "metadata": {},
   "source": [
    "## Answers"
   ]
  },
  {
   "cell_type": "code",
   "execution_count": 20,
   "id": "d0041efc-9028-48eb-86ed-2e3c496e4422",
   "metadata": {},
   "outputs": [
    {
     "name": "stdout",
     "output_type": "stream",
     "text": [
      "n = 1,\n"
     ]
    },
    {
     "data": {
      "text/latex": [
       "$\\displaystyle \\sum_{k=0}^{1} q^{k}$"
      ],
      "text/plain": [
       "Sum(q**k, (k, 0, 1))"
      ]
     },
     "metadata": {},
     "output_type": "display_data"
    },
    {
     "data": {
      "text/latex": [
       "$\\displaystyle \\frac{1 - q^{2}}{1 - q}$"
      ],
      "text/plain": [
       "(1 - q**2)/(1 - q)"
      ]
     },
     "metadata": {},
     "output_type": "display_data"
    },
    {
     "name": "stdout",
     "output_type": "stream",
     "text": [
      " links = recht :True\n",
      "-----------------\n",
      "n = 2,\n"
     ]
    },
    {
     "data": {
      "text/latex": [
       "$\\displaystyle \\sum_{k=0}^{2} q^{k}$"
      ],
      "text/plain": [
       "Sum(q**k, (k, 0, 2))"
      ]
     },
     "metadata": {},
     "output_type": "display_data"
    },
    {
     "data": {
      "text/latex": [
       "$\\displaystyle \\frac{1 - q^{3}}{1 - q}$"
      ],
      "text/plain": [
       "(1 - q**3)/(1 - q)"
      ]
     },
     "metadata": {},
     "output_type": "display_data"
    },
    {
     "name": "stdout",
     "output_type": "stream",
     "text": [
      " links = recht :True\n",
      "-----------------\n",
      "n = 3,\n"
     ]
    },
    {
     "data": {
      "text/latex": [
       "$\\displaystyle \\sum_{k=0}^{3} q^{k}$"
      ],
      "text/plain": [
       "Sum(q**k, (k, 0, 3))"
      ]
     },
     "metadata": {},
     "output_type": "display_data"
    },
    {
     "data": {
      "text/latex": [
       "$\\displaystyle \\frac{1 - q^{4}}{1 - q}$"
      ],
      "text/plain": [
       "(1 - q**4)/(1 - q)"
      ]
     },
     "metadata": {},
     "output_type": "display_data"
    },
    {
     "name": "stdout",
     "output_type": "stream",
     "text": [
      " links = recht :True\n",
      "-----------------\n",
      "n = 4,\n"
     ]
    },
    {
     "data": {
      "text/latex": [
       "$\\displaystyle \\sum_{k=0}^{4} q^{k}$"
      ],
      "text/plain": [
       "Sum(q**k, (k, 0, 4))"
      ]
     },
     "metadata": {},
     "output_type": "display_data"
    },
    {
     "data": {
      "text/latex": [
       "$\\displaystyle \\frac{1 - q^{5}}{1 - q}$"
      ],
      "text/plain": [
       "(1 - q**5)/(1 - q)"
      ]
     },
     "metadata": {},
     "output_type": "display_data"
    },
    {
     "name": "stdout",
     "output_type": "stream",
     "text": [
      " links = recht :True\n",
      "-----------------\n",
      "n = 5,\n"
     ]
    },
    {
     "data": {
      "text/latex": [
       "$\\displaystyle \\sum_{k=0}^{5} q^{k}$"
      ],
      "text/plain": [
       "Sum(q**k, (k, 0, 5))"
      ]
     },
     "metadata": {},
     "output_type": "display_data"
    },
    {
     "data": {
      "text/latex": [
       "$\\displaystyle \\frac{1 - q^{6}}{1 - q}$"
      ],
      "text/plain": [
       "(1 - q**6)/(1 - q)"
      ]
     },
     "metadata": {},
     "output_type": "display_data"
    },
    {
     "name": "stdout",
     "output_type": "stream",
     "text": [
      " links = recht :True\n",
      "-----------------\n"
     ]
    }
   ],
   "source": [
    "from sympy import *\n",
    "\n",
    "q,k = symbols('q k')\n",
    "\n",
    "\n",
    "for n in range(1,6):\n",
    "    links = Sum(q**k,(k,0,n))\n",
    "    rechts = (1 -q**(n+1))/(1-q)\n",
    "    \n",
    "    left = links.doit().factor()\n",
    "    right = rechts.factor()\n",
    "    \n",
    "    print(f'n = {n},')\n",
    "    display(links, rechts)\n",
    "    print(f' links = recht :{left == right}')\n",
    "    print('-----------------')"
   ]
  },
  {
   "cell_type": "code",
   "execution_count": 21,
   "id": "70b9e985-ab26-45f3-84ad-e4c121eb6d36",
   "metadata": {},
   "outputs": [
    {
     "name": "stdout",
     "output_type": "stream",
     "text": [
      "n = 5, q = 3 : links = 364, rechts = 364\n"
     ]
    }
   ],
   "source": [
    "li= Sum(q**k,(k,0,5))\n",
    "re = (1 -q**(5+1))/(1-q)\n",
    "    \n",
    "l = li.doit().factor().subs({q:3})\n",
    "r = re.factor().subs({q:3})\n",
    "    \n",
    "print(f'n = 5, q = 3 : links = {l}, rechts = {r}')"
   ]
  },
  {
   "cell_type": "code",
   "execution_count": null,
   "id": "4e6fb1a2-8b94-4906-9e77-8ae16280fa63",
   "metadata": {},
   "outputs": [],
   "source": []
  }
 ],
 "metadata": {
  "kernelspec": {
   "display_name": "Python 3 (ipykernel)",
   "language": "python",
   "name": "python3"
  },
  "language_info": {
   "codemirror_mode": {
    "name": "ipython",
    "version": 3
   },
   "file_extension": ".py",
   "mimetype": "text/x-python",
   "name": "python",
   "nbconvert_exporter": "python",
   "pygments_lexer": "ipython3",
   "version": "3.9.10"
  }
 },
 "nbformat": 4,
 "nbformat_minor": 5
}
